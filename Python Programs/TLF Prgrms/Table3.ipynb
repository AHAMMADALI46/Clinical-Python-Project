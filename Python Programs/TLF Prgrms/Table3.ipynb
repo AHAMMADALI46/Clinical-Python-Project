{
 "cells": [
  {
   "cell_type": "code",
   "execution_count": 1,
   "id": "14c946f8",
   "metadata": {},
   "outputs": [
    {
     "name": "stdout",
     "output_type": "stream",
     "text": [
      "Logging hadn't been started.\n",
      "Activating auto-logging. Current session state plus future input saved.\n",
      "Filename       : E:/Python Clinical Course/Table3 log.txt\n",
      "Mode           : backup\n",
      "Output logging : True\n",
      "Raw input log  : False\n",
      "Timestamping   : True\n",
      "State          : active\n"
     ]
    }
   ],
   "source": [
    "#To remove all variables from the namespace\n",
    "%reset -f\n",
    "\n",
    "#Creating a log file to record the commands and outputs\n",
    "%logstop\n",
    "%logstart -t -o \"E:/Python Clinical Course/Table3 log.txt\""
   ]
  },
  {
   "cell_type": "code",
   "execution_count": 2,
   "id": "5da6eae3",
   "metadata": {},
   "outputs": [],
   "source": [
    "import pandas as pd\n",
    "import pyreadstat\n",
    "import os\n",
    "from docx import Document\n",
    "from docx.shared import Pt, Inches\n",
    "from docx.enum.text import WD_PARAGRAPH_ALIGNMENT\n",
    "from docx.oxml.ns import qn\n",
    "from docx.oxml import OxmlElement\n",
    "\n",
    "adam_path = r\"E:\\Python Clinical Course\\ADAM datasets\\ADaM Datasets\""
   ]
  },
  {
   "cell_type": "code",
   "execution_count": 3,
   "id": "55b6d473",
   "metadata": {},
   "outputs": [],
   "source": [
    "adam_datasets = {}\n",
    "\n",
    "for file in os.listdir(adam_path):\n",
    "    if file.endswith(\".sas7bdat\"):\n",
    "        dataset_name = file.replace(\".sas7bdat\", \"\")\n",
    "        file_path = os.path.join(adam_path, file)\n",
    "        df, meta = pyreadstat.read_sas7bdat(file_path)\n",
    "        adam_datasets[dataset_name] = df"
   ]
  },
  {
   "cell_type": "code",
   "execution_count": 4,
   "id": "f200031b",
   "metadata": {},
   "outputs": [],
   "source": [
    "adsl = adam_datasets.get(\"adsl\")"
   ]
  },
  {
   "cell_type": "code",
   "execution_count": 5,
   "id": "17a8d80e",
   "metadata": {},
   "outputs": [],
   "source": [
    "# Filter: Safety population with treatment\n",
    "adsl_filt = adsl[(adsl['TRT01A'].notna()) & (adsl['TRT01A'] != '') & (adsl['SAFFL'] == 'Y') & (adsl['AGE'].notna())]\n",
    "\n",
    "# Create ALL group\n",
    "adsl_all = adsl_filt.copy()\n",
    "adsl_all['TRT01A'] = 'ALL'\n",
    "adsl_all['TRT01AN'] = 3\n",
    "\n",
    "adsl_combined = pd.concat([adsl_filt, adsl_all], ignore_index=True)\n"
   ]
  },
  {
   "cell_type": "code",
   "execution_count": 6,
   "id": "aeb079f5",
   "metadata": {},
   "outputs": [],
   "source": [
    "\n",
    "# Denominator (N)\n",
    "denom = adsl_combined.groupby(['TRT01AN', 'TRT01A'])['USUBJID'].nunique().reset_index(name='DENOM')\n",
    "n_dict = denom.set_index('TRT01AN')['DENOM'].to_dict()\n",
    "N1, N2, N3 = n_dict.get(1, 0), n_dict.get(2, 0), n_dict.get(3, 0)\n"
   ]
  },
  {
   "cell_type": "code",
   "execution_count": 7,
   "id": "09ca9779",
   "metadata": {},
   "outputs": [],
   "source": [
    "\n",
    "# Summary stats\n",
    "summary = adsl_combined.groupby(['TRT01AN', 'TRT01A'])['AGE'].agg(\n",
    "    N='count',\n",
    "    Mean='mean',\n",
    "    Median='median',\n",
    "    SD='std',\n",
    "    Min='min',\n",
    "    Max='max'\n",
    ").round(2).reset_index()\n",
    "\n",
    "# Format as string\n",
    "summary['N'] = summary['N'].astype(int).astype(str)\n",
    "summary['Mean'] = summary['Mean'].map('{:.1f}'.format)\n",
    "summary['Median'] = summary['Median'].map('{:.1f}'.format)\n",
    "summary['SD'] = summary['SD'].map('{:.2f}'.format)\n",
    "summary['Min'] = summary['Min'].map('{:.0f}'.format)\n",
    "summary['Max'] = summary['Max'].map('{:.0f}'.format)\n",
    "\n",
    "# Melt for transpose\n",
    "melted = summary.melt(id_vars=['TRT01AN'], value_vars=['N', 'Mean', 'SD', 'Median', 'Min', 'Max'], var_name='stat', value_name='value')\n"
   ]
  },
  {
   "cell_type": "code",
   "execution_count": 15,
   "id": "5844a50b",
   "metadata": {},
   "outputs": [],
   "source": [
    "\n",
    "# Pivot\n",
    "pivot = melted.pivot(index='stat', columns='TRT01AN', values='value').reset_index()\n",
    "\n",
    "# Add label + ordering\n",
    "order_map = {'N': 1, 'Mean': 2, 'SD': 3, 'Median': 4, 'Min': 5, 'Max': 6}\n",
    "pivot['ORD'] = pivot['stat'].map(order_map)\n",
    "pivot = pivot.sort_values('ORD')\n",
    "pivot = pd.concat([pd.DataFrame({'stat': ['Age (Years)'], 'ORD': [0]}), pivot], ignore_index=True).fillna('  0')\n",
    "\n",
    "# Rename for reporting\n",
    "final = pivot.rename(columns={\n",
    "    'stat': 'CATEGORY',\n",
    "    1: f'DRUG A \\n (N={N1})',\n",
    "    2: f'DRUG B \\n (N={N2})',\n",
    "    3: f'ALL \\n (N={N3})'\n",
    "})\n",
    "\n",
    "final=final.drop(columns='ORD')\n"
   ]
  },
  {
   "cell_type": "code",
   "execution_count": 16,
   "id": "4ec3e60f",
   "metadata": {},
   "outputs": [],
   "source": [
    "\n",
    "# ---------------- Word Export ----------------\n",
    "\n",
    "doc = Document()\n",
    "\n",
    "# Margins\n",
    "for section in doc.sections:\n",
    "    section.top_margin = Inches(1)\n",
    "    section.bottom_margin = Inches(1)\n",
    "    section.left_margin = Inches(1)\n",
    "    section.right_margin = Inches(1)\n",
    "\n",
    "# Font style\n",
    "style = doc.styles['Normal']\n",
    "style.font.name = 'Courier New'\n",
    "style.font.size = Pt(9)\n",
    "style.element.rPr.rFonts.set(qn('w:eastAsia'), 'Courier New')\n",
    "\n",
    "# Titles\n",
    "doc.add_paragraph(\"COVID-19 AA\").alignment = WD_PARAGRAPH_ALIGNMENT.LEFT\n",
    "doc.add_paragraph(\"Protocol: 043\").alignment = WD_PARAGRAPH_ALIGNMENT.LEFT\n",
    "doc.add_paragraph(\"Table 14.1.3  Subject Demographics - Age (Safety Population)\").alignment = WD_PARAGRAPH_ALIGNMENT.CENTER\n",
    "\n",
    "# Table\n",
    "cols = final.columns.tolist()\n",
    "table = doc.add_table(rows=1, cols=len(cols))\n",
    "table.style = 'Light Shading Accent 1'\n",
    "hdr = table.rows[0].cells\n",
    "for i, col in enumerate(cols):\n",
    "    hdr[i].text = col\n",
    "\n",
    "for _, row in final.iterrows():\n",
    "    cells = table.add_row().cells\n",
    "    for i, val in enumerate(row):\n",
    "        cells[i].text = str(val)\n",
    "\n",
    "# Line\n",
    "#doc.add_paragraph(\"_____________________________________________________________________\")\n",
    "\n",
    "# Footnote\n",
    "doc.add_paragraph(r\"E:TAB3_1.SAS\").alignment = WD_PARAGRAPH_ALIGNMENT.LEFT\n"
   ]
  },
  {
   "cell_type": "code",
   "execution_count": 17,
   "id": "e2ba533b",
   "metadata": {},
   "outputs": [],
   "source": [
    "\n",
    "# Save\n",
    "doc.save(r\"E:\\Python Clinical Course\\TLF\\output\\t_14_1_3.docx\")\n"
   ]
  }
 ],
 "metadata": {
  "kernelspec": {
   "display_name": "Python 3",
   "language": "python",
   "name": "python3"
  },
  "language_info": {
   "codemirror_mode": {
    "name": "ipython",
    "version": 3
   },
   "file_extension": ".py",
   "mimetype": "text/x-python",
   "name": "python",
   "nbconvert_exporter": "python",
   "pygments_lexer": "ipython3",
   "version": "3.13.4"
  }
 },
 "nbformat": 4,
 "nbformat_minor": 5
}
