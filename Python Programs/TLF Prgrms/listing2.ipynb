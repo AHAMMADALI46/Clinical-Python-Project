{
 "cells": [
  {
   "cell_type": "code",
   "execution_count": 17,
   "id": "0ce0e036",
   "metadata": {},
   "outputs": [
    {
     "name": "stdout",
     "output_type": "stream",
     "text": [
      "Activating auto-logging. Current session state plus future input saved.\n",
      "Filename       : E:/Python Clinical Course/list2 log.txt\n",
      "Mode           : backup\n",
      "Output logging : True\n",
      "Raw input log  : False\n",
      "Timestamping   : True\n",
      "State          : active\n"
     ]
    }
   ],
   "source": [
    "#To remove all variables from the namespace\n",
    "%reset -f\n",
    "\n",
    "#Creating a log file to record the commands and outputs\n",
    "%logstop\n",
    "%logstart -t -o \"E:/Python Clinical Course/list2 log.txt\""
   ]
  },
  {
   "cell_type": "code",
   "execution_count": 23,
   "id": "345f26a4",
   "metadata": {},
   "outputs": [],
   "source": [
    "import pandas as pd\n",
    "import numpy as np\n",
    "import pyreadstat\n",
    "import os\n",
    "from docx import Document\n",
    "from docx.shared import Inches, Pt\n",
    "from docx.enum.text import WD_PARAGRAPH_ALIGNMENT"
   ]
  },
  {
   "cell_type": "code",
   "execution_count": 24,
   "id": "920b9168",
   "metadata": {},
   "outputs": [],
   "source": [
    "adam_path = r\"E:\\Python Clinical Course\\ADAM datasets\\ADaM Datasets\""
   ]
  },
  {
   "cell_type": "code",
   "execution_count": 25,
   "id": "a30880db",
   "metadata": {},
   "outputs": [],
   "source": [
    "adam_datasets = {}\n",
    "\n",
    "for file in os.listdir(adam_path):\n",
    "    if file.endswith(\".sas7bdat\"):\n",
    "        dataset_name = file.replace(\".sas7bdat\", \"\")\n",
    "        file_path = os.path.join(adam_path, file)\n",
    "        df, meta = pyreadstat.read_sas7bdat(file_path)\n",
    "        adam_datasets[dataset_name] = df"
   ]
  },
  {
   "cell_type": "code",
   "execution_count": 26,
   "id": "e70e1dea",
   "metadata": {},
   "outputs": [],
   "source": [
    "# Load the data\n",
    "adsl = adam_datasets.get(\"adsl\")\n",
    "adsl = adsl[['USUBJID', 'RFICDTC']]"
   ]
  },
  {
   "cell_type": "code",
   "execution_count": 27,
   "id": "80bdd29e",
   "metadata": {},
   "outputs": [],
   "source": [
    "# Step 2: Pagination variables (lnt and page1)\n",
    "adsl = adsl.reset_index(drop=True)\n",
    "adsl['lnt'] = (adsl.index % 20) + 1\n",
    "adsl['page1'] = (adsl.index // 20) + 1\n"
   ]
  },
  {
   "cell_type": "code",
   "execution_count": 28,
   "id": "f52b8d0b",
   "metadata": {},
   "outputs": [],
   "source": [
    "\n",
    "# Step 3: Create Word document\n",
    "# Create the document\n",
    "doc = Document()\n",
    "\n",
    "# Titles\n",
    "doc.add_paragraph('COVID-19 AA').alignment = WD_PARAGRAPH_ALIGNMENT.LEFT\n",
    "doc.add_paragraph('Protocol: 043').alignment = WD_PARAGRAPH_ALIGNMENT.LEFT\n",
    "title_para = doc.add_paragraph('16.2.1.2 Informed Consent')\n",
    "title_para.alignment = WD_PARAGRAPH_ALIGNMENT.CENTER\n",
    "\n",
    "# Iterate by pages\n",
    "for page_num in sorted(adsl['page1'].unique()):\n",
    "    sub_df = adsl[adsl['page1'] == page_num]\n",
    "    \n",
    "    table = doc.add_table(rows=1, cols=2)\n",
    "    table.style = 'Light Shading Accent 1'\n",
    "\n",
    "    # Set header\n",
    "    hdr_cells = table.rows[0].cells\n",
    "    widths = [Inches(6.0), Inches(6.5)] \n",
    "    hdr_cells[0].text = 'Subject Number'\n",
    "    hdr_cells[1].text = 'Date of Informed Consent'\n",
    "    for i, cell in enumerate(hdr_cells):\n",
    "        cell.width = widths[i]\n",
    "\n",
    "    # Fill rows\n",
    "    for _, row in sub_df.iterrows():\n",
    "        row_cells = table.add_row().cells\n",
    "        widths = [Inches(6.0), Inches(6.5)] \n",
    "        row_cells[0].text = str(row['USUBJID'])\n",
    "        row_cells[1].text = str(row['RFICDTC'])\n",
    "        for i, cell in enumerate(row_cells):\n",
    "            cell.width = widths[i]\n",
    "\n",
    "    # Horizontal line separator (simulate compute block)\n",
    "    #doc.add_paragraph('_________________________________________')\n",
    "\n",
    "    # Page break after each group\n",
    "    doc.add_page_break()\n",
    "\n",
    "# --- FOOTNOTE ---\n",
    "footer = doc.add_paragraph('E:\\\\LIS2.SAS')\n",
    "footer.alignment = WD_PARAGRAPH_ALIGNMENT.LEFT\n"
   ]
  },
  {
   "cell_type": "code",
   "execution_count": 29,
   "id": "4349a2db",
   "metadata": {},
   "outputs": [],
   "source": [
    "\n",
    "# Step 5: Save document\n",
    "doc.save(r\"E:\\Python Clinical Course\\TLF\\output\\l_16_2_1_2.docx\")\n"
   ]
  }
 ],
 "metadata": {
  "kernelspec": {
   "display_name": "Python 3",
   "language": "python",
   "name": "python3"
  },
  "language_info": {
   "codemirror_mode": {
    "name": "ipython",
    "version": 3
   },
   "file_extension": ".py",
   "mimetype": "text/x-python",
   "name": "python",
   "nbconvert_exporter": "python",
   "pygments_lexer": "ipython3",
   "version": "3.13.4"
  }
 },
 "nbformat": 4,
 "nbformat_minor": 5
}
