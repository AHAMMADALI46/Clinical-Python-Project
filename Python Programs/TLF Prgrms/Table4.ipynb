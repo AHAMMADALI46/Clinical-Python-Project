{
 "cells": [
  {
   "cell_type": "code",
   "execution_count": 10,
   "id": "1d483f5e",
   "metadata": {},
   "outputs": [
    {
     "name": "stdout",
     "output_type": "stream",
     "text": [
      "Activating auto-logging. Current session state plus future input saved.\n",
      "Filename       : E:/Python Clinical Course/Table4 log.txt\n",
      "Mode           : backup\n",
      "Output logging : True\n",
      "Raw input log  : False\n",
      "Timestamping   : True\n",
      "State          : active\n"
     ]
    }
   ],
   "source": [
    "#To remove all variables from the namespace\n",
    "%reset -f\n",
    "\n",
    "#Creating a log file to record the commands and outputs\n",
    "%logstop\n",
    "%logstart -t -o \"E:/Python Clinical Course/Table4 log.txt\""
   ]
  },
  {
   "cell_type": "code",
   "execution_count": 11,
   "id": "4dc830f2",
   "metadata": {},
   "outputs": [],
   "source": [
    "import pandas as pd\n",
    "import pyreadstat\n",
    "import os\n",
    "from docx import Document\n",
    "from docx.shared import Pt, Inches\n",
    "from docx.enum.text import WD_PARAGRAPH_ALIGNMENT\n",
    "from docx.oxml.ns import qn\n",
    "from docx.oxml import OxmlElement\n",
    "\n",
    "adam_path = r\"E:\\Python Clinical Course\\ADAM datasets\\ADaM Datasets\""
   ]
  },
  {
   "cell_type": "code",
   "execution_count": 13,
   "id": "de5e3b5f",
   "metadata": {},
   "outputs": [],
   "source": [
    "adam_datasets = {}\n",
    "\n",
    "for file in os.listdir(adam_path):\n",
    "    if file.endswith(\".sas7bdat\"):\n",
    "        dataset_name = file.replace(\".sas7bdat\", \"\")\n",
    "        file_path = os.path.join(adam_path, file)\n",
    "        df, meta = pyreadstat.read_sas7bdat(file_path)\n",
    "        adam_datasets[dataset_name] = df"
   ]
  },
  {
   "cell_type": "code",
   "execution_count": 14,
   "id": "43387835",
   "metadata": {},
   "outputs": [],
   "source": [
    "# Load the data\n",
    "adsl = adam_datasets.get(\"adsl\")\n",
    "advs = adam_datasets.get(\"advs\")"
   ]
  },
  {
   "cell_type": "code",
   "execution_count": 15,
   "id": "b218e0ff",
   "metadata": {},
   "outputs": [],
   "source": [
    "\n",
    "advs = advs[(advs['SAFFL'] == 'Y') & advs['AVAL'].notna()]\n",
    "\n",
    "# Step 2: Summarize Observed\n",
    "obs = advs.groupby(['PARAMN', 'PARAM', 'TRT01AN', 'TRT01A', 'AVISITN', 'AVISIT'])['AVAL'].agg(\n",
    "    n='count', mean='mean', median='median', std='std', min='min', max='max').reset_index()\n",
    "\n",
    "# Format\n",
    "for col in ['mean', 'median']:\n",
    "    obs[col] = obs[col].map('{:.1f}'.format)\n",
    "obs['std'] = obs['std'].map('{:.2f}'.format)\n",
    "obs['min'] = obs['min'].map('{:.0f}'.format)\n",
    "obs['max'] = obs['max'].map('{:.0f}'.format)\n",
    "\n",
    "# Rename\n",
    "obs = obs.rename(columns={\n",
    "    'n': 'cn', 'mean': 'cmean', 'median': 'cmedian',\n",
    "    'std': 'cstd', 'min': 'cmin', 'max': 'cmax'\n",
    "})\n"
   ]
  },
  {
   "cell_type": "code",
   "execution_count": 16,
   "id": "a0cc454d",
   "metadata": {},
   "outputs": [],
   "source": [
    "\n",
    "# Step 3: Summarize Change from Baseline\n",
    "chg = advs[(advs['AVISITN'] > 1) & advs['CHG'].notna()]\n",
    "chg = chg.groupby(['PARAMN', 'PARAM', 'TRT01AN', 'TRT01A', 'AVISITN', 'AVISIT'])['CHG'].agg(\n",
    "    n='count', mean='mean', median='median', std='std', min='min', max='max').reset_index()\n",
    "\n",
    "# Format\n",
    "for col in ['mean', 'median']:\n",
    "    chg[col] = chg[col].map('{:.1f}'.format)\n",
    "chg['std'] = chg['std'].map('{:.2f}'.format)\n",
    "chg['min'] = chg['min'].map('{:.0f}'.format)\n",
    "chg['max'] = chg['max'].map('{:.0f}'.format)\n",
    "\n",
    "chg = chg.rename(columns={\n",
    "    'n': 'chn', 'mean': 'chmean', 'median': 'chmedian',\n",
    "    'std': 'chstd', 'min': 'chmin', 'max': 'chmax'\n",
    "})\n",
    "\n",
    "# Step 4: Merge observed and change summaries\n",
    "final = pd.merge(obs, chg, on=['PARAMN', 'PARAM', 'TRT01AN', 'TRT01A', 'AVISITN', 'AVISIT'], how='left')\n"
   ]
  },
  {
   "cell_type": "code",
   "execution_count": 17,
   "id": "61f69d20",
   "metadata": {},
   "outputs": [],
   "source": [
    "\n",
    "# Step 5: Pagination logic\n",
    "final = final.sort_values(by=['PARAMN', 'AVISITN', 'TRT01AN'])\n",
    "final = final.reset_index(drop=True)\n",
    "final['lnt'] = final.index % 15 + 1\n",
    "final['page1'] = final.index // 15 + 1\n"
   ]
  },
  {
   "cell_type": "code",
   "execution_count": 18,
   "id": "9ef5b20c",
   "metadata": {},
   "outputs": [],
   "source": [
    "\n",
    "# ---------------- Word Export ----------------\n",
    "\n",
    "doc = Document()\n",
    "\n",
    "# Set margins\n",
    "section = doc.sections[0]\n",
    "section.top_margin = Inches(1)\n",
    "section.bottom_margin = Inches(1)\n",
    "section.left_margin = Inches(1)\n",
    "section.right_margin = Inches(1)\n",
    "\n",
    "# Set font\n",
    "style = doc.styles['Normal']\n",
    "style.font.name = 'Courier New'\n",
    "style.font.size = Pt(9)\n",
    "style.element.rPr.rFonts.set(qn('w:eastAsia'), 'Courier New')\n",
    "\n",
    "# Titles\n",
    "doc.add_paragraph(\"COVID-19 AA\").alignment = WD_PARAGRAPH_ALIGNMENT.LEFT\n",
    "doc.add_paragraph(\"Protocol: 043\").alignment = WD_PARAGRAPH_ALIGNMENT.LEFT\n",
    "doc.add_paragraph(\"Table 14.1.8 Summary of Changes in Vital Signs from Baseline to Final Visit (Safety Population)\").alignment = WD_PARAGRAPH_ALIGNMENT.CENTER\n",
    "\n",
    "# Per-parameter pagination\n",
    "for page in sorted(final['page1'].unique()):\n",
    "    sub = final[final['page1'] == page]\n",
    "\n",
    "    table = doc.add_table(rows=1, cols=14)\n",
    "    table.style = 'Light Shading Accent 1'\n",
    "\n",
    "    # Headers\n",
    "    headers = [\n",
    "        'Treatment', 'Visit',\n",
    "        'n', 'Mean', 'Median', 'SD', 'Min', 'Max',  # Observed\n",
    "        'n', 'Mean', 'Median', 'SD', 'Min', 'Max'   # Change\n",
    "    ]\n",
    "    hdr_cells = table.rows[0].cells\n",
    "    hdr_cells[0].text = 'Treatment'\n",
    "    hdr_cells[1].text = 'Visit'\n",
    "    hdr_cells[2].text = 'n'\n",
    "    hdr_cells[3].text = 'Mean'\n",
    "    hdr_cells[4].text = 'Median'\n",
    "    hdr_cells[5].text = 'SD'\n",
    "    hdr_cells[6].text = 'Min'\n",
    "    hdr_cells[7].text = 'Max'\n",
    "    hdr_cells[8].text = 'n'\n",
    "    hdr_cells[9].text = 'Mean'\n",
    "    hdr_cells[10].text = 'Median'\n",
    "    hdr_cells[11].text = 'SD'\n",
    "    hdr_cells[12].text = 'Min'\n",
    "    hdr_cells[13].text = 'Max'\n",
    "\n",
    "    # Rows\n",
    "    for _, row in sub.iterrows():\n",
    "        r = table.add_row().cells\n",
    "        r[0].text = str(row['TRT01A'])\n",
    "        r[1].text = str(row['AVISIT'])\n",
    "        r[2].text = str(row['cn'])\n",
    "        r[3].text = str(row['cmean'])\n",
    "        r[4].text = str(row['cmedian'])\n",
    "        r[5].text = str(row['cstd'])\n",
    "        r[6].text = str(row['cmin'])\n",
    "        r[7].text = str(row['cmax'])\n",
    "        r[8].text = str(row['chn']) if pd.notna(row['chn']) else ''\n",
    "        r[9].text = str(row['chmean']) if pd.notna(row['chmean']) else ''\n",
    "        r[10].text = str(row['chmedian']) if pd.notna(row['chmedian']) else ''\n",
    "        r[11].text = str(row['chstd']) if pd.notna(row['chstd']) else ''\n",
    "        r[12].text = str(row['chmin']) if pd.notna(row['chmin']) else ''\n",
    "        r[13].text = str(row['chmax']) if pd.notna(row['chmax']) else ''\n",
    "\n",
    "    # Footer line and page break\n",
    "    #doc.add_paragraph(\"_____________________________________________________________________\")\n",
    "    doc.add_page_break()\n",
    "\n",
    "# Add footnote\n",
    "doc.add_paragraph(r\"E:\\TAB7_1.SAS\").alignment = WD_PARAGRAPH_ALIGNMENT.LEFT\n"
   ]
  },
  {
   "cell_type": "code",
   "execution_count": 19,
   "id": "b1b11ea9",
   "metadata": {},
   "outputs": [],
   "source": [
    "\n",
    "# Save\n",
    "doc.save(r\"E:\\Python Clinical Course\\TLF\\output\\t_14_1_8.docx\")\n"
   ]
  }
 ],
 "metadata": {
  "kernelspec": {
   "display_name": "Python 3",
   "language": "python",
   "name": "python3"
  },
  "language_info": {
   "codemirror_mode": {
    "name": "ipython",
    "version": 3
   },
   "file_extension": ".py",
   "mimetype": "text/x-python",
   "name": "python",
   "nbconvert_exporter": "python",
   "pygments_lexer": "ipython3",
   "version": "3.13.4"
  }
 },
 "nbformat": 4,
 "nbformat_minor": 5
}
