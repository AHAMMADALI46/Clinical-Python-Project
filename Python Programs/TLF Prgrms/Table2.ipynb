{
 "cells": [
  {
   "cell_type": "code",
   "execution_count": 18,
   "id": "196da243",
   "metadata": {},
   "outputs": [
    {
     "name": "stdout",
     "output_type": "stream",
     "text": [
      "Activating auto-logging. Current session state plus future input saved.\n",
      "Filename       : E:/Python Clinical Course/Table2 log.txt\n",
      "Mode           : backup\n",
      "Output logging : True\n",
      "Raw input log  : False\n",
      "Timestamping   : True\n",
      "State          : active\n"
     ]
    }
   ],
   "source": [
    "#To remove all variables from the namespace\n",
    "%reset -f\n",
    "\n",
    "#Creating a log file to record the commands and outputs\n",
    "%logstop\n",
    "%logstart -t -o \"E:/Python Clinical Course/Table2 log.txt\""
   ]
  },
  {
   "cell_type": "code",
   "execution_count": 19,
   "id": "72515a25",
   "metadata": {},
   "outputs": [],
   "source": [
    "import pandas as pd\n",
    "import pyreadstat\n",
    "import os\n",
    "from docx import Document\n",
    "from docx.shared import Pt, Inches\n",
    "from docx.enum.text import WD_PARAGRAPH_ALIGNMENT\n",
    "from docx.oxml.ns import qn\n",
    "from docx.oxml import OxmlElement\n",
    "\n",
    "adam_path = r\"E:\\Python Clinical Course\\ADAM datasets\\ADaM Datasets\""
   ]
  },
  {
   "cell_type": "code",
   "execution_count": 20,
   "id": "4d073cff",
   "metadata": {},
   "outputs": [],
   "source": [
    "adam_datasets = {}\n",
    "\n",
    "for file in os.listdir(adam_path):\n",
    "    if file.endswith(\".sas7bdat\"):\n",
    "        dataset_name = file.replace(\".sas7bdat\", \"\")\n",
    "        file_path = os.path.join(adam_path, file)\n",
    "        df, meta = pyreadstat.read_sas7bdat(file_path)\n",
    "        adam_datasets[dataset_name] = df"
   ]
  },
  {
   "cell_type": "code",
   "execution_count": 21,
   "id": "42e02be0",
   "metadata": {},
   "outputs": [],
   "source": [
    "adsl = adam_datasets.get(\"adsl\")"
   ]
  },
  {
   "cell_type": "code",
   "execution_count": 22,
   "id": "bf450298",
   "metadata": {},
   "outputs": [],
   "source": [
    "# Filter safety population\n",
    "adsl_safety = adsl[(adsl['TRT01A'].notna()) & (adsl['TRT01A'] != '') & (adsl['SAFFL'] == 'Y')]\n",
    "\n",
    "# Create ALL group\n",
    "adsl_all = adsl_safety.copy()\n",
    "adsl_all['TRT01A'] = 'ALL'\n",
    "adsl_all['TRT01AN'] = 3\n",
    "\n",
    "# Combine\n",
    "adsl_combined = pd.concat([adsl_safety, adsl_all], ignore_index=True)\n"
   ]
  },
  {
   "cell_type": "code",
   "execution_count": 23,
   "id": "99c040ee",
   "metadata": {},
   "outputs": [],
   "source": [
    "\n",
    "# Denominators\n",
    "denom = adsl_combined.groupby(['TRT01AN', 'TRT01A'])['USUBJID'].nunique().reset_index(name='DENOM')\n",
    "n_dict = denom.set_index('TRT01AN')['DENOM'].to_dict()\n",
    "N1, N2, N3 = n_dict.get(1, 0), n_dict.get(2, 0), n_dict.get(3, 0)\n"
   ]
  },
  {
   "cell_type": "code",
   "execution_count": 24,
   "id": "8af54fcc",
   "metadata": {},
   "outputs": [],
   "source": [
    "\n",
    "# Base for counts\n",
    "def pop_summary(filter_cond, label, order):\n",
    "    df = adsl_combined[filter_cond]\n",
    "    grouped = df.groupby(['TRT01AN', 'TRT01A'])['USUBJID'].nunique().reset_index()\n",
    "    grouped['POP'] = label\n",
    "    grouped['ORD'] = order\n",
    "    return grouped\n",
    "\n",
    "summary = pd.concat([\n",
    "    pop_summary(adsl_combined['TRT01A'] != '', 'Subjects Actual treatment', 1),\n",
    "    pop_summary(adsl_combined['RANDFL'] == 'Y', 'Subjects Randomized', 2),\n",
    "    pop_summary(adsl_combined['EOSSTT'] == 'Discontinued', 'Subjects Withdrawn', 3)\n",
    "])\n"
   ]
  },
  {
   "cell_type": "code",
   "execution_count": 25,
   "id": "1adf9842",
   "metadata": {},
   "outputs": [],
   "source": [
    "\n",
    "# Withdrawal reason breakdown\n",
    "withdrawn = adsl_combined[adsl_combined['EOSSTT'] == 'Discontinued']\n",
    "wth_by_reason = withdrawn.groupby(['TRT01AN', 'TRT01A', 'DCSREAS'])['USUBJID'].nunique().reset_index()\n",
    "wth_by_reason = wth_by_reason.rename(columns={'DCSREAS': 'POP'})\n",
    "wth_by_reason['ORD'] = 4\n",
    "summary = pd.concat([summary, wth_by_reason], ignore_index=True)\n"
   ]
  },
  {
   "cell_type": "code",
   "execution_count": 26,
   "id": "498515d8",
   "metadata": {},
   "outputs": [],
   "source": [
    "\n",
    "# Merge denominator\n",
    "summary = summary.merge(denom, on=['TRT01AN', 'TRT01A'], how='left')\n",
    "summary['grp'] = summary.apply(lambda row: f\"{row['USUBJID']} ({(row['USUBJID']/row['DENOM']*100):.1f})\", axis=1)\n"
   ]
  },
  {
   "cell_type": "code",
   "execution_count": 30,
   "id": "6594e412",
   "metadata": {},
   "outputs": [],
   "source": [
    "\n",
    "# Transpose layout\n",
    "pivot = summary.pivot_table(index=['ORD', 'POP'], columns='TRT01AN', values='grp', aggfunc='first').reset_index()\n",
    "pivot.columns.name = None\n",
    "#pivot['stat'] = 'n (%)'\n",
    "pivot = pivot[['POP',  1, 2, 3]]\n",
    "pivot.columns = ['Population',  f'DRUG A \\n (N={N1})', f'DRUG B \\n (N={N2})', f'ALL \\n (N={N3})']\n",
    "\n",
    "# Fill missing\n",
    "pivot.fillna('  0', inplace=True)\n"
   ]
  },
  {
   "cell_type": "code",
   "execution_count": 31,
   "id": "44536e6a",
   "metadata": {},
   "outputs": [],
   "source": [
    "\n",
    "# ---------------- Word Output ----------------\n",
    "\n",
    "doc = Document()\n",
    "for section in doc.sections:\n",
    "    section.top_margin = Inches(1)\n",
    "    section.bottom_margin = Inches(1)\n",
    "    section.left_margin = Inches(1)\n",
    "    section.right_margin = Inches(1)\n",
    "\n",
    "style = doc.styles['Normal']\n",
    "style.font.name = 'Courier New'\n",
    "style.font.size = Pt(9)\n",
    "style.element.rPr.rFonts.set(qn('w:eastAsia'), 'Courier New')\n",
    "\n",
    "# Titles\n",
    "doc.add_paragraph('COVID-19 AA').alignment = WD_PARAGRAPH_ALIGNMENT.LEFT\n",
    "doc.add_paragraph('Protocol: 043').alignment = WD_PARAGRAPH_ALIGNMENT.LEFT\n",
    "doc.add_paragraph('Table 14.1.2  Subject Disposition by Treatment (Safety Population)').alignment = WD_PARAGRAPH_ALIGNMENT.CENTER\n",
    "\n",
    "# Table\n",
    "table = doc.add_table(rows=1, cols=len(pivot.columns))\n",
    "table.style = 'Light Shading Accent 1'\n",
    "\n",
    "# Header row\n",
    "for i, col in enumerate(pivot.columns):\n",
    "    table.cell(0, i).text = col\n",
    "\n",
    "# Data rows\n",
    "for _, row in pivot.iterrows():\n",
    "    cells = table.add_row().cells\n",
    "    for i, val in enumerate(row):\n",
    "        cells[i].text = str(val)\n",
    "\n",
    "# Simulated border line\n",
    "#doc.add_paragraph('__________________________________________________________')\n",
    "\n",
    "# Footnote\n",
    "doc.add_paragraph(r\"E:\\TAB1_2.SAS\").alignment = WD_PARAGRAPH_ALIGNMENT.LEFT\n"
   ]
  },
  {
   "cell_type": "code",
   "execution_count": 32,
   "id": "3d46bbbf",
   "metadata": {},
   "outputs": [],
   "source": [
    "\n",
    "# Save file\n",
    "doc.save(r\"E:\\Python Clinical Course\\TLF\\output\\t_14_1_2.docx\")\n"
   ]
  }
 ],
 "metadata": {
  "kernelspec": {
   "display_name": "Python 3",
   "language": "python",
   "name": "python3"
  },
  "language_info": {
   "codemirror_mode": {
    "name": "ipython",
    "version": 3
   },
   "file_extension": ".py",
   "mimetype": "text/x-python",
   "name": "python",
   "nbconvert_exporter": "python",
   "pygments_lexer": "ipython3",
   "version": "3.13.4"
  }
 },
 "nbformat": 4,
 "nbformat_minor": 5
}
