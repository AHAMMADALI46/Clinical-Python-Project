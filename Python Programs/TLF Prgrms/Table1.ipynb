{
 "cells": [
  {
   "cell_type": "code",
   "execution_count": 1,
   "id": "3a8f46d6",
   "metadata": {},
   "outputs": [
    {
     "name": "stdout",
     "output_type": "stream",
     "text": [
      "Logging hadn't been started.\n",
      "Activating auto-logging. Current session state plus future input saved.\n",
      "Filename       : E:/Python Clinical Course/Table1 log.txt\n",
      "Mode           : backup\n",
      "Output logging : True\n",
      "Raw input log  : False\n",
      "Timestamping   : True\n",
      "State          : active\n"
     ]
    }
   ],
   "source": [
    "#To remove all variables from the namespace\n",
    "%reset -f\n",
    "\n",
    "#Creating a log file to record the commands and outputs\n",
    "%logstop\n",
    "%logstart -t -o \"E:/Python Clinical Course/Table1 log.txt\""
   ]
  },
  {
   "cell_type": "code",
   "execution_count": 2,
   "id": "aa861892",
   "metadata": {},
   "outputs": [],
   "source": [
    "import pandas as pd\n",
    "import pyreadstat\n",
    "import os\n",
    "from docx import Document\n",
    "from docx.shared import Pt, Inches\n",
    "from docx.enum.text import WD_PARAGRAPH_ALIGNMENT\n",
    "from docx.oxml.ns import qn\n",
    "from docx.oxml import OxmlElement\n",
    "\n",
    "adam_path = r\"E:\\Python Clinical Course\\ADAM datasets\\ADaM Datasets\"\n"
   ]
  },
  {
   "cell_type": "code",
   "execution_count": 3,
   "id": "e5582f02",
   "metadata": {},
   "outputs": [],
   "source": [
    "adam_datasets = {}\n",
    "\n",
    "for file in os.listdir(adam_path):\n",
    "    if file.endswith(\".sas7bdat\"):\n",
    "        dataset_name = file.replace(\".sas7bdat\", \"\")\n",
    "        file_path = os.path.join(adam_path, file)\n",
    "        df, meta = pyreadstat.read_sas7bdat(file_path)\n",
    "        adam_datasets[dataset_name] = df"
   ]
  },
  {
   "cell_type": "code",
   "execution_count": 4,
   "id": "7144b97b",
   "metadata": {},
   "outputs": [],
   "source": [
    "# Load the data\n",
    "adsl = adam_datasets.get(\"adsl\")"
   ]
  },
  {
   "cell_type": "code",
   "execution_count": 5,
   "id": "a3338c81",
   "metadata": {},
   "outputs": [],
   "source": [
    "# Filter valid treatment arms\n",
    "adsl_filtered = adsl[adsl['TRT01A'].notna() & (adsl['TRT01A'] != '')]\n",
    "\n",
    "# Create ALL group\n",
    "adsl_all = adsl_filtered.copy()\n",
    "adsl_all['TRT01A'] = 'ALL'\n",
    "adsl_all['TRT01AN'] = 3\n",
    "\n",
    "# Combine\n",
    "adsl_combined = pd.concat([adsl_filtered, adsl_all], ignore_index=True)\n",
    "\n",
    "# Denominators\n",
    "denom = adsl_combined.groupby(['TRT01AN', 'TRT01A'])['USUBJID'].nunique().reset_index(name='DENOM')\n",
    "n_dict = denom.set_index('TRT01AN')['DENOM'].to_dict()\n",
    "N1, N2, N3 = n_dict.get(1, 0), n_dict.get(2, 0), n_dict.get(3, 0)\n"
   ]
  },
  {
   "cell_type": "code",
   "execution_count": 6,
   "id": "57049f06",
   "metadata": {},
   "outputs": [],
   "source": [
    "\n",
    "# -------------------- STEP 2: POPULATION COUNTS --------------------\n",
    "\n",
    "def pop_summary(flag_var, label, order):\n",
    "    df = adsl_combined[adsl_combined[flag_var] == 'Y']\n",
    "    grouped = df.groupby(['TRT01AN', 'TRT01A'])['USUBJID'].nunique().reset_index()\n",
    "    grouped['POP'] = label\n",
    "    grouped['ORD'] = order\n",
    "    return grouped\n",
    "\n",
    "summary = pd.concat([\n",
    "    pop_summary('SAFFL', 'Safety Population', 1),\n",
    "    pop_summary('ITTFL', 'ITT Population', 2),\n",
    "    pop_summary('RANDFL', 'Randomization Population', 3),\n",
    "    pop_summary('PPROTFL', 'Per-Protocol Population', 4)\n",
    "])\n",
    "\n",
    "summary = summary.merge(denom, on=['TRT01AN', 'TRT01A'], how='left')\n",
    "summary['grp'] = summary.apply(lambda row: f\"{row['USUBJID']} ({(row['USUBJID']/row['DENOM']*100):.1f})\", axis=1)\n"
   ]
  },
  {
   "cell_type": "code",
   "execution_count": 10,
   "id": "3a80c9b2",
   "metadata": {},
   "outputs": [],
   "source": [
    "\n",
    "# -------------------- STEP 3: TRANSPOSE TO FINAL LAYOUT --------------------\n",
    "\n",
    "pivot = summary.pivot_table(index=['ORD', 'POP'], columns='TRT01AN', values='grp', aggfunc='first').reset_index()\n",
    "pivot.columns.name = None\n",
    "pivot['stat'] = 'n (%)'\n",
    "pivot = pivot[[ 'POP', 'stat', 1, 2, 3]]\n",
    "pivot.columns = ['Population', 'Statistic', f'DRUG A \\n (N={N1})', f'DRUG B \\n (N={N2})', f'ALL \\n (N={N3})']\n"
   ]
  },
  {
   "cell_type": "code",
   "execution_count": 11,
   "id": "6e3194fe",
   "metadata": {},
   "outputs": [],
   "source": [
    "\n",
    "# -------------------- STEP 4: WORD DOCUMENT OUTPUT --------------------\n",
    "\n",
    "doc = Document()\n",
    "\n",
    "# Set 1-inch margins\n",
    "for section in doc.sections:\n",
    "    section.top_margin = Inches(1)\n",
    "    section.bottom_margin = Inches(1)\n",
    "    section.left_margin = Inches(1)\n",
    "    section.right_margin = Inches(1)\n",
    "\n",
    "# Set font to Courier New, 9pt\n",
    "style = doc.styles['Normal']\n",
    "style.font.name = 'Courier New'\n",
    "style.font.size = Pt(9)\n",
    "style.element.rPr.rFonts.set(qn('w:eastAsia'), 'Courier New')\n",
    "\n",
    "# Titles\n",
    "doc.add_paragraph('COVID-19 AA').alignment = WD_PARAGRAPH_ALIGNMENT.LEFT\n",
    "doc.add_paragraph('Protocol: 043').alignment = WD_PARAGRAPH_ALIGNMENT.LEFT\n",
    "doc.add_paragraph('Table 14.1.1 Subject Assignment to Analysis Populations').alignment = WD_PARAGRAPH_ALIGNMENT.CENTER\n",
    "\n",
    "# Add Table\n",
    "table = doc.add_table(rows=1, cols=len(pivot.columns))\n",
    "table.style = 'Light Shading Accent 1'\n",
    "\n",
    "# Remove padding in header\n",
    "for cell in table.rows[0].cells:\n",
    "    tc_pr = cell._element.tcPr\n",
    "    tc_mar = OxmlElement('w:tcMar')\n",
    "    for m in ['top', 'start', 'bottom', 'end']:\n",
    "        node = OxmlElement(f'w:{m}')\n",
    "        node.set(qn('w:w'), \"0\")\n",
    "        node.set(qn('w:type'), 'dxa')\n",
    "        tc_mar.append(node)\n",
    "    tc_pr.append(tc_mar)\n",
    "\n",
    "# Header row\n",
    "for i, col in enumerate(pivot.columns):\n",
    "    table.cell(0, i).text = col\n",
    "\n",
    "# Data rows\n",
    "for _, row in pivot.iterrows():\n",
    "    row_cells = table.add_row().cells\n",
    "    for i, val in enumerate(row):\n",
    "        row_cells[i].text = str(val)\n",
    "\n",
    "# Line separator\n",
    "#doc.add_paragraph(\"_____________________________________________________________________\")\n",
    "\n",
    "# Footnote\n",
    "doc.add_paragraph(r\"E:\\TAB1_1.SAS\").alignment = WD_PARAGRAPH_ALIGNMENT.LEFT\n"
   ]
  },
  {
   "cell_type": "code",
   "execution_count": 12,
   "id": "fae7af8b",
   "metadata": {},
   "outputs": [],
   "source": [
    "\n",
    "# Save file\n",
    "doc.save(r\"E:\\Python Clinical Course\\TLF\\output\\t_14_1_1.docx\")\n"
   ]
  }
 ],
 "metadata": {
  "kernelspec": {
   "display_name": "Python 3",
   "language": "python",
   "name": "python3"
  },
  "language_info": {
   "codemirror_mode": {
    "name": "ipython",
    "version": 3
   },
   "file_extension": ".py",
   "mimetype": "text/x-python",
   "name": "python",
   "nbconvert_exporter": "python",
   "pygments_lexer": "ipython3",
   "version": "3.13.4"
  }
 },
 "nbformat": 4,
 "nbformat_minor": 5
}
