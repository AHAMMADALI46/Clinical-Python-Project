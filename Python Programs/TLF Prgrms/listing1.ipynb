{
 "cells": [
  {
   "cell_type": "code",
   "execution_count": 1,
   "id": "62ed9280",
   "metadata": {},
   "outputs": [
    {
     "name": "stdout",
     "output_type": "stream",
     "text": [
      "Logging hadn't been started.\n",
      "Activating auto-logging. Current session state plus future input saved.\n",
      "Filename       : E:/Python Clinical Course/list1 log.txt\n",
      "Mode           : backup\n",
      "Output logging : True\n",
      "Raw input log  : False\n",
      "Timestamping   : True\n",
      "State          : active\n"
     ]
    }
   ],
   "source": [
    "#To remove all variables from the namespace\n",
    "%reset -f\n",
    "\n",
    "#Creating a log file to record the commands and outputs\n",
    "%logstop\n",
    "%logstart -t -o \"E:/Python Clinical Course/list1 log.txt\""
   ]
  },
  {
   "cell_type": "code",
   "execution_count": 2,
   "id": "906bd22d",
   "metadata": {},
   "outputs": [],
   "source": [
    "import pandas as pd\n",
    "import numpy as np\n",
    "import pyreadstat\n",
    "import os\n",
    "from docx import Document\n",
    "from docx.shared import Inches, Pt\n",
    "from docx.enum.text import WD_PARAGRAPH_ALIGNMENT"
   ]
  },
  {
   "cell_type": "code",
   "execution_count": 3,
   "id": "552792c4",
   "metadata": {},
   "outputs": [],
   "source": [
    "adam_path = r\"E:\\Python Clinical Course\\ADAM datasets\\ADaM Datasets\""
   ]
  },
  {
   "cell_type": "code",
   "execution_count": 4,
   "id": "948c11ab",
   "metadata": {},
   "outputs": [],
   "source": [
    "adam_datasets = {}\n",
    "\n",
    "for file in os.listdir(adam_path):\n",
    "    if file.endswith(\".sas7bdat\"):\n",
    "        dataset_name = file.replace(\".sas7bdat\", \"\")\n",
    "        file_path = os.path.join(adam_path, file)\n",
    "        df, meta = pyreadstat.read_sas7bdat(file_path)\n",
    "        adam_datasets[dataset_name] = df"
   ]
  },
  {
   "cell_type": "code",
   "execution_count": 5,
   "id": "4e0a9a8d",
   "metadata": {},
   "outputs": [],
   "source": [
    "\n",
    "# Load the data\n",
    "adsl = adam_datasets.get(\"adsl\")\n",
    "adsl = adsl[['USUBJID', 'SAFFL', 'ITTFL', 'PPROTFL', 'RANDFL']]\n"
   ]
  },
  {
   "cell_type": "code",
   "execution_count": 6,
   "id": "8e85923f",
   "metadata": {},
   "outputs": [],
   "source": [
    "\n",
    "# Line number and page number\n",
    "adsl = adsl.reset_index(drop=True)\n",
    "adsl['lnt'] = (adsl.index % 20) + 1\n",
    "adsl['page1'] = (adsl.index // 20) + 1\n"
   ]
  },
  {
   "cell_type": "code",
   "execution_count": 7,
   "id": "b5741675",
   "metadata": {},
   "outputs": [],
   "source": [
    "# Create the document\n",
    "doc = Document()\n",
    "\n",
    "# Titles\n",
    "doc.add_paragraph('COVID-19 AA').alignment = WD_PARAGRAPH_ALIGNMENT.LEFT\n",
    "doc.add_paragraph('Protocol: 043').alignment = WD_PARAGRAPH_ALIGNMENT.LEFT\n",
    "title_para = doc.add_paragraph('16.2.1.1 Assignment to Analysis Populations')\n",
    "title_para.alignment = WD_PARAGRAPH_ALIGNMENT.CENTER\n",
    "\n",
    "# Iterate by pages\n",
    "for page_num in sorted(adsl['page1'].unique()):\n",
    "    sub_df = adsl[adsl['page1'] == page_num]\n",
    "    \n",
    "    table = doc.add_table(rows=1, cols=5)\n",
    "    table.style = 'Light Shading Accent 1'\n",
    "\n",
    "    # Header row\n",
    "    hdr_cells = table.rows[0].cells\n",
    "    widths = [Inches(6.0), Inches(2.0), Inches(2.0), Inches(2.0), Inches(2.0)] \n",
    "    hdr_cells[0].text = 'Subject\\nNumber'\n",
    "    hdr_cells[1].text = 'Safety\\nPopulation'\n",
    "    hdr_cells[2].text = 'Intent-To-Treat\\nPopulation'\n",
    "    hdr_cells[3].text = 'Per-Protocol\\nPopulation'\n",
    "    hdr_cells[4].text = 'Randomized\\nPopulation'\n",
    "\n",
    "    for i, cell in enumerate(hdr_cells):\n",
    "        cell.width = widths[i]\n",
    "\n",
    "    # Data rows\n",
    "    for _, row in sub_df.iterrows():\n",
    "        row_cells = table.add_row().cells\n",
    "        widths = [Inches(6.0), Inches(1.0), Inches(2.0), Inches(2.0), Inches(2.0)]  \n",
    "        row_cells[0].text = str(row['USUBJID'])\n",
    "        row_cells[1].text = str(row['SAFFL'])\n",
    "        row_cells[2].text = str(row['ITTFL'])\n",
    "        row_cells[3].text = str(row['PPROTFL'])\n",
    "        row_cells[4].text = str(row['RANDFL'])\n",
    "        for i, cell in enumerate(row_cells):\n",
    "            cell.width = widths[i]\n",
    "\n",
    "    # Add a horizontal line (imitating compute block)\n",
    "    #doc.add_paragraph('_________________________________________')\n",
    "    doc.add_page_break()\n",
    "\n",
    "# Footer\n",
    "footer_para = doc.add_paragraph(r\"E:\\LIS1.SAS\")\n",
    "footer_para.alignment = WD_PARAGRAPH_ALIGNMENT.LEFT\n"
   ]
  },
  {
   "cell_type": "code",
   "execution_count": 8,
   "id": "cb66bc15",
   "metadata": {},
   "outputs": [],
   "source": [
    "\n",
    "# Save the document\n",
    "doc.save(r\"E:\\Python Clinical Course\\TLF\\output\\l_16_2_1_1.docx\")\n"
   ]
  }
 ],
 "metadata": {
  "kernelspec": {
   "display_name": "Python 3",
   "language": "python",
   "name": "python3"
  },
  "language_info": {
   "codemirror_mode": {
    "name": "ipython",
    "version": 3
   },
   "file_extension": ".py",
   "mimetype": "text/x-python",
   "name": "python",
   "nbconvert_exporter": "python",
   "pygments_lexer": "ipython3",
   "version": "3.13.4"
  }
 },
 "nbformat": 4,
 "nbformat_minor": 5
}
