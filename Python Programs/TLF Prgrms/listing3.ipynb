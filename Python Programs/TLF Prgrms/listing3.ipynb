{
 "cells": [
  {
   "cell_type": "code",
   "execution_count": 1,
   "id": "d43af03b",
   "metadata": {},
   "outputs": [
    {
     "name": "stdout",
     "output_type": "stream",
     "text": [
      "Logging hadn't been started.\n",
      "Activating auto-logging. Current session state plus future input saved.\n",
      "Filename       : E:/Python Clinical Course/list3 log.txt\n",
      "Mode           : backup\n",
      "Output logging : True\n",
      "Raw input log  : False\n",
      "Timestamping   : True\n",
      "State          : active\n"
     ]
    }
   ],
   "source": [
    "#To remove all variables from the namespace\n",
    "%reset -f\n",
    "\n",
    "#Creating a log file to record the commands and outputs\n",
    "%logstop\n",
    "%logstart -t -o \"E:/Python Clinical Course/list3 log.txt\""
   ]
  },
  {
   "cell_type": "code",
   "execution_count": 2,
   "id": "c512b10f",
   "metadata": {},
   "outputs": [],
   "source": [
    "import pandas as pd\n",
    "import numpy as np\n",
    "import pyreadstat\n",
    "import os\n",
    "from docx import Document\n",
    "from docx.shared import Inches, Pt\n",
    "from docx.enum.text import WD_PARAGRAPH_ALIGNMENT"
   ]
  },
  {
   "cell_type": "code",
   "execution_count": 3,
   "id": "b72a1bbf",
   "metadata": {},
   "outputs": [],
   "source": [
    "adam_path = r\"E:\\Python Clinical Course\\ADAM datasets\\ADaM Datasets\""
   ]
  },
  {
   "cell_type": "code",
   "execution_count": 4,
   "id": "052b58d9",
   "metadata": {},
   "outputs": [],
   "source": [
    "adam_datasets = {}\n",
    "\n",
    "for file in os.listdir(adam_path):\n",
    "    if file.endswith(\".sas7bdat\"):\n",
    "        dataset_name = file.replace(\".sas7bdat\", \"\")\n",
    "        file_path = os.path.join(adam_path, file)\n",
    "        df, meta = pyreadstat.read_sas7bdat(file_path)\n",
    "        adam_datasets[dataset_name] = df"
   ]
  },
  {
   "cell_type": "code",
   "execution_count": 5,
   "id": "d1dce3cf",
   "metadata": {},
   "outputs": [],
   "source": [
    "adsl = adam_datasets.get(\"adsl\")"
   ]
  },
  {
   "cell_type": "code",
   "execution_count": 6,
   "id": "5228703f",
   "metadata": {},
   "outputs": [],
   "source": [
    "# Step 2: Filter records where EOSSTT is 'Discontinued' and TRTEDT is not missing\n",
    "adsl = adsl[(adsl['EOSSTT'] == 'Discontinued') & (adsl['TRTEDT'].notna())].copy()\n",
    "\n",
    "# Step 3: Format date TRTEDT as DATE9 (e.g., 01JAN2020)\n",
    "adsl['TRTEDT_L'] = pd.to_datetime(adsl['TRTEDT']).dt.strftime('%d%b%Y').str.upper()\n",
    "\n",
    "# Step 4: Keep only required columns\n",
    "adsl = adsl[['USUBJID', 'DCSREAS', 'TRTEDT_L', 'EOSSTT']]\n"
   ]
  },
  {
   "cell_type": "code",
   "execution_count": 7,
   "id": "9432fd1e",
   "metadata": {},
   "outputs": [],
   "source": [
    "\n",
    "# Step 5: Add pagination variables\n",
    "adsl = adsl.reset_index(drop=True)\n",
    "adsl['lnt'] = (adsl.index % 20) + 1\n",
    "adsl['page1'] = (adsl.index // 20) + 1\n"
   ]
  },
  {
   "cell_type": "code",
   "execution_count": 8,
   "id": "d118247a",
   "metadata": {},
   "outputs": [],
   "source": [
    "\n",
    "# Create the document\n",
    "doc = Document()\n",
    "\n",
    "# Titles\n",
    "doc.add_paragraph('COVID-19 AA').alignment = WD_PARAGRAPH_ALIGNMENT.LEFT\n",
    "doc.add_paragraph('Protocol: 043').alignment = WD_PARAGRAPH_ALIGNMENT.LEFT\n",
    "title_para = doc.add_paragraph('16.2.1.4 Withdrawals from the Study')\n",
    "title_para.alignment = WD_PARAGRAPH_ALIGNMENT.CENTER\n",
    "\n",
    "# Iterate by pages\n",
    "for page_num in sorted(adsl['page1'].unique()):\n",
    "    sub_df = adsl[adsl['page1'] == page_num]\n",
    "    \n",
    "    table = doc.add_table(rows=1, cols=4)\n",
    "    table.style = 'Light Shading Accent 1'\n",
    "\n",
    "    # Set header\n",
    "    hdr_cells = table.rows[0].cells\n",
    "    widths = [Inches(6.0), Inches(4.0), Inches(4.0), Inches(3.0)] \n",
    "    hdr_cells[0].text = 'Subject Number'\n",
    "    hdr_cells[1].text = 'Reason for Discontinuation\\nfrom Study'\n",
    "    hdr_cells[2].text = 'Date of Last Exposure\\nto Treatment'\n",
    "    hdr_cells[3].text = 'End of Study\\nStatus'\n",
    "    for i, cell in enumerate(hdr_cells):\n",
    "        cell.width = widths[i]\n",
    "\n",
    "    # Fill rows\n",
    "    for _, row in sub_df.iterrows():\n",
    "        row_cells = table.add_row().cells\n",
    "        widths = [Inches(6.0), Inches(4.0), Inches(4.0), Inches(3.0)] \n",
    "        row_cells[0].text = str(row['USUBJID'])\n",
    "        row_cells[1].text = str(row['DCSREAS']) if pd.notna(row['DCSREAS']) else ''\n",
    "        row_cells[2].text = str(row['TRTEDT_L'])\n",
    "        row_cells[3].text = str(row['EOSSTT'])\n",
    "        for i, cell in enumerate(row_cells):\n",
    "            cell.width = widths[i]\n",
    "\n",
    "    # Horizontal line separator (simulate compute block)\n",
    "    #doc.add_paragraph('_________________________________________')\n",
    "# Step 8: Add footnote\n",
    "doc.add_paragraph(r\"E:\\LIS3.SAS\").alignment = WD_PARAGRAPH_ALIGNMENT.LEFT\n"
   ]
  },
  {
   "cell_type": "code",
   "execution_count": 9,
   "id": "b179d6c1",
   "metadata": {},
   "outputs": [],
   "source": [
    "\n",
    "# Step 9: Save the document\n",
    "doc.save(r\"E:\\Python Clinical Course\\TLF\\output\\l_16_2_1_4.docx\")\n"
   ]
  }
 ],
 "metadata": {
  "kernelspec": {
   "display_name": "Python 3",
   "language": "python",
   "name": "python3"
  },
  "language_info": {
   "codemirror_mode": {
    "name": "ipython",
    "version": 3
   },
   "file_extension": ".py",
   "mimetype": "text/x-python",
   "name": "python",
   "nbconvert_exporter": "python",
   "pygments_lexer": "ipython3",
   "version": "3.13.4"
  }
 },
 "nbformat": 4,
 "nbformat_minor": 5
}
