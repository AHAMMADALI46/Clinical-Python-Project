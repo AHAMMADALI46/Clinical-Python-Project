{
 "cells": [
  {
   "cell_type": "code",
   "execution_count": 1,
   "id": "e8a8fd9c",
   "metadata": {},
   "outputs": [
    {
     "name": "stdout",
     "output_type": "stream",
     "text": [
      "Logging hadn't been started.\n",
      "Activating auto-logging. Current session state plus future input saved.\n",
      "Filename       : E:/Python Clinical Course/list4 log.txt\n",
      "Mode           : backup\n",
      "Output logging : True\n",
      "Raw input log  : False\n",
      "Timestamping   : True\n",
      "State          : active\n"
     ]
    }
   ],
   "source": [
    "#To remove all variables from the namespace\n",
    "%reset -f\n",
    "\n",
    "#Creating a log file to record the commands and outputs\n",
    "%logstop\n",
    "%logstart -t -o \"E:/Python Clinical Course/list4 log.txt\""
   ]
  },
  {
   "cell_type": "code",
   "execution_count": 2,
   "id": "6ba25fcd",
   "metadata": {},
   "outputs": [],
   "source": [
    "import pandas as pd\n",
    "import numpy as np\n",
    "import pyreadstat\n",
    "import os\n",
    "from docx import Document\n",
    "from docx.shared import Inches, Pt\n",
    "from docx.enum.text import WD_PARAGRAPH_ALIGNMENT"
   ]
  },
  {
   "cell_type": "code",
   "execution_count": 3,
   "id": "00d09617",
   "metadata": {},
   "outputs": [],
   "source": [
    "adam_path = r\"E:\\Python Clinical Course\\ADAM datasets\\ADaM Datasets\""
   ]
  },
  {
   "cell_type": "code",
   "execution_count": 4,
   "id": "65caaae7",
   "metadata": {},
   "outputs": [],
   "source": [
    "adam_datasets = {}\n",
    "\n",
    "for file in os.listdir(adam_path):\n",
    "    if file.endswith(\".sas7bdat\"):\n",
    "        dataset_name = file.replace(\".sas7bdat\", \"\")\n",
    "        file_path = os.path.join(adam_path, file)\n",
    "        df, meta = pyreadstat.read_sas7bdat(file_path)\n",
    "        adam_datasets[dataset_name] = df"
   ]
  },
  {
   "cell_type": "code",
   "execution_count": 5,
   "id": "375db7ff",
   "metadata": {},
   "outputs": [],
   "source": [
    "#adsl = adam_datasets.get(\"adsl\")\n",
    "adlb = adam_datasets.get(\"adlb\")"
   ]
  },
  {
   "cell_type": "code",
   "execution_count": 6,
   "id": "4b94de5a",
   "metadata": {},
   "outputs": [],
   "source": [
    "\n",
    "# Step 2: Filter hematology records with abnormal values\n",
    "adlb = adlb[(adlb['PARCAT1'] == 'HEMATOLOGY') & (adlb['ANRIND'].notna()) & (adlb['ANRIND'] != 'NORMAL')].copy()\n",
    "\n",
    "# Step 3: Create L_H (Normal range) and DT (datetime string)\n",
    "adlb['L_H'] = adlb['ANRLO'].astype(str).str.strip() + '-' + adlb['ANRHI'].astype(str).str.strip()\n",
    "adlb['DT'] = pd.to_datetime(adlb['ADTM']).dt.strftime('%d%b%Y:%H:%M:%S').str.upper()\n",
    "\n",
    "# Step 4: Keep only required columns\n",
    "adlb = adlb[['USUBJID', 'PARAMN', 'PARAM', 'AVISITN', 'AVISIT', 'L_H', 'DT', 'AVALC', 'ANRIND']]\n",
    "\n",
    "# Step 5: Sort data\n",
    "adlb = adlb.sort_values(by=['USUBJID', 'PARAMN', 'PARAM', 'AVISITN', 'AVISIT']).reset_index(drop=True)\n"
   ]
  },
  {
   "cell_type": "code",
   "execution_count": 7,
   "id": "8bf1aaaf",
   "metadata": {},
   "outputs": [],
   "source": [
    "\n",
    "# Step 6: Add pagination\n",
    "adlb['lnt'] = (adlb.index % 15) + 1\n",
    "adlb['page1'] = (adlb.index // 15) + 1\n"
   ]
  },
  {
   "cell_type": "code",
   "execution_count": 8,
   "id": "48b44bca",
   "metadata": {},
   "outputs": [],
   "source": [
    "\n",
    "# Step 7: Create Word document\n",
    "doc = Document()\n",
    "\n",
    "# --- Titles ---\n",
    "doc.add_paragraph('COVID-19 AA').alignment = WD_PARAGRAPH_ALIGNMENT.LEFT\n",
    "doc.add_paragraph('Protocol: 043').alignment = WD_PARAGRAPH_ALIGNMENT.LEFT\n",
    "doc.add_paragraph('16.2.1.6 Abnormal Hematology Values').alignment = WD_PARAGRAPH_ALIGNMENT.CENTER\n",
    "\n",
    "# Step 8: Generate page-by-page report\n",
    "for page in sorted(adlb['page1'].unique()):\n",
    "    sub_df = adlb[adlb['page1'] == page]\n",
    "\n",
    "    table = doc.add_table(rows=1, cols=7)\n",
    "    table.style = 'Light Shading Accent 1'\n",
    "\n",
    "    # Header row\n",
    "    hdr_cells = table.rows[0].cells\n",
    "    widths = [Inches(6.0), Inches(3.0), Inches(3.0), Inches(3.0),Inches(3.0), Inches(3.0), Inches(3.0)] \n",
    "    hdr_cells[0].text = 'Subject Number'\n",
    "    hdr_cells[1].text = 'Test'\n",
    "    hdr_cells[2].text = 'Visit'\n",
    "    hdr_cells[3].text = 'Normal Range'\n",
    "    hdr_cells[4].text = 'Date/Time of\\nMeasurement'\n",
    "    hdr_cells[5].text = 'Result'\n",
    "    hdr_cells[6].text = 'Flag'\n",
    "    for i, cell in enumerate(hdr_cells):\n",
    "        cell.width = widths[i]\n",
    "\n",
    "    # Data rows\n",
    "    for _, row in sub_df.iterrows():\n",
    "        row_cells = table.add_row().cells\n",
    "        widths = [Inches(6.0), Inches(3.0), Inches(3.0), Inches(3.0),Inches(3.0), Inches(3.0), Inches(3.0)]  \n",
    "        row_cells[0].text = str(row['USUBJID'])\n",
    "        row_cells[1].text = str(row['PARAM'])\n",
    "        row_cells[2].text = str(row['AVISIT'])\n",
    "        row_cells[3].text = str(row['L_H'])\n",
    "        row_cells[4].text = str(row['DT'])\n",
    "        row_cells[5].text = str(row['AVALC'])   \n",
    "        row_cells[6].text = str(row['ANRIND'])\n",
    "    for i, cell in enumerate(hdr_cells):\n",
    "        cell.width = widths[i]\n",
    "\n",
    "    # Simulate line after page\n",
    "    #doc.add_paragraph('_________________________________________')\n",
    "    doc.add_page_break()\n",
    "\n",
    "# --- FOOTNOTE ---\n",
    "doc.add_paragraph(r\"E:\\LIS6.SAS\").alignment = WD_PARAGRAPH_ALIGNMENT.LEFT\n"
   ]
  },
  {
   "cell_type": "code",
   "execution_count": 9,
   "id": "7557492b",
   "metadata": {},
   "outputs": [],
   "source": [
    "\n",
    "# Step 9: Save as .docx (you can manually save as RTF from Word if needed)\n",
    "doc.save(r\"E:\\Python Clinical Course\\TLF\\output\\l_16_2_1_6.docx\")\n"
   ]
  }
 ],
 "metadata": {
  "kernelspec": {
   "display_name": "Python 3",
   "language": "python",
   "name": "python3"
  },
  "language_info": {
   "codemirror_mode": {
    "name": "ipython",
    "version": 3
   },
   "file_extension": ".py",
   "mimetype": "text/x-python",
   "name": "python",
   "nbconvert_exporter": "python",
   "pygments_lexer": "ipython3",
   "version": "3.13.4"
  }
 },
 "nbformat": 4,
 "nbformat_minor": 5
}
