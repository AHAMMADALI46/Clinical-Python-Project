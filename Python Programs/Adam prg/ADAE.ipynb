{
 "cells": [
  {
   "cell_type": "code",
   "execution_count": 1,
   "id": "ad40efb8",
   "metadata": {},
   "outputs": [
    {
     "name": "stdout",
     "output_type": "stream",
     "text": [
      "Logging hadn't been started.\n",
      "Activating auto-logging. Current session state plus future input saved.\n",
      "Filename       : E:/Python Clinical Course/ADAE log.txt\n",
      "Mode           : backup\n",
      "Output logging : True\n",
      "Raw input log  : False\n",
      "Timestamping   : True\n",
      "State          : active\n"
     ]
    }
   ],
   "source": [
    "#To remove all variables from the namespace\n",
    "%reset -f\n",
    "\n",
    "#Creating a log file to record the commands and outputs\n",
    "%logstop\n",
    "%logstart -t -o \"E:/Python Clinical Course/ADAE log.txt\""
   ]
  },
  {
   "cell_type": "code",
   "execution_count": 2,
   "id": "91764255",
   "metadata": {},
   "outputs": [],
   "source": [
    "import pandas as pd\n",
    "import numpy as np\n",
    "import os\n",
    "import pyreadstat\n",
    "from datetime import datetime\n",
    "from pathlib import Path\n",
    "\n",
    "# Define paths (adjust these to your actual paths)\n",
    "adam_path = r\"E:\\Python Clinical Course\\ADAM datasets\\ADaM Datasets\"\n",
    "sdtm_path = r\"E:\\Python Clinical Course\\SDTM\"\n",
    "raw_path = r\"E:\\Python Clinical Course\\RAW\""
   ]
  },
  {
   "cell_type": "code",
   "execution_count": 3,
   "id": "dce66200",
   "metadata": {},
   "outputs": [],
   "source": [
    "sdtm_datasets = {}\n",
    "\n",
    "for file in os.listdir(sdtm_path):\n",
    "    if file.endswith(\".sas7bdat\"):\n",
    "        dataset_name = file.replace(\".sas7bdat\", \"\")\n",
    "        file_path = os.path.join(sdtm_path, file)\n",
    "        df, meta = pyreadstat.read_sas7bdat(file_path)\n",
    "        sdtm_datasets[dataset_name] = df"
   ]
  },
  {
   "cell_type": "code",
   "execution_count": 4,
   "id": "732b79eb",
   "metadata": {},
   "outputs": [],
   "source": [
    "\n",
    "# 1) Read the main SDTM dataset\n",
    "ae1 = sdtm_datasets.get(\"ae\")\n",
    "ae1 = ae1.drop(columns=['ARM', 'ACTARM'], errors='ignore')\n",
    "ae1 = ae1.sort_values(['USUBJID', 'AESEQ']).reset_index(drop=True)"
   ]
  },
  {
   "cell_type": "code",
   "execution_count": 5,
   "id": "8e7d6221",
   "metadata": {},
   "outputs": [],
   "source": [
    "sdtm_suppae = sdtm_datasets.get(\"suppae\")\n",
    "sdtm_suppae[\"AESEQ\"] = pd.to_numeric(sdtm_suppae[\"IDVARVAL\"], errors='coerce')\n",
    "suppae = sdtm_suppae.sort_values(by=[\"USUBJID\", \"AESEQ\"])\n",
    "\n",
    "suppae_trans = suppae.pivot_table(\n",
    "    index=[\"USUBJID\", \"AESEQ\"],\n",
    "    columns=\"QNAM\",\n",
    "    values=\"QVAL\",\n",
    "    aggfunc=\"first\"\n",
    ").reset_index()\n"
   ]
  },
  {
   "cell_type": "code",
   "execution_count": 6,
   "id": "147b006d",
   "metadata": {},
   "outputs": [],
   "source": [
    "adam_datasets = {}\n",
    "\n",
    "for file in os.listdir(adam_path):\n",
    "    if file.endswith(\".sas7bdat\"):\n",
    "        dataset_name = file.replace(\".sas7bdat\", \"\")\n",
    "        file_path = os.path.join(adam_path, file)\n",
    "        df, meta = pyreadstat.read_sas7bdat(file_path)\n",
    "        adam_datasets[dataset_name] = df"
   ]
  },
  {
   "cell_type": "code",
   "execution_count": 7,
   "id": "b71e845e",
   "metadata": {},
   "outputs": [],
   "source": [
    "# 4) Merge with ADSL\n",
    "adsl = adam_datasets.get(\"adsl\")"
   ]
  },
  {
   "cell_type": "code",
   "execution_count": 8,
   "id": "fc5b4461",
   "metadata": {},
   "outputs": [],
   "source": [
    "\n",
    "# Merge AE, SUPPAE, ADSL\n",
    "ae2 = pd.merge(ae1, suppae_trans, on=[\"USUBJID\", \"AESEQ\"], how=\"left\")\n",
    "ae3 = pd.merge(ae2, adsl, on=\"USUBJID\", how=\"inner\")\n"
   ]
  },
  {
   "cell_type": "code",
   "execution_count": 9,
   "id": "a9a3d66f",
   "metadata": {},
   "outputs": [],
   "source": [
    "\n",
    "# Derive Severity, Relatedness, Action Taken\n",
    "severity_map = {\n",
    "    \"MILD\": (1, \"Mild\"),\n",
    "    \"MODERATE\": (2, \"Moderate\"),\n",
    "    \"SEVERE\": (3, \"Severe\"),\n",
    "    \"LIFE-THREATENING\": (4, \"Life-threatening\")\n",
    "}\n",
    "ae3[[\"ASEVN\", \"ASEV\"]] = ae3[\"AESEV\"].apply(\n",
    "    lambda x: severity_map.get(x, (np.nan, np.nan))\n",
    ").apply(pd.Series)\n"
   ]
  },
  {
   "cell_type": "code",
   "execution_count": 10,
   "id": "3f948c4f",
   "metadata": {},
   "outputs": [],
   "source": [
    "\n",
    "rel_map = {\n",
    "    \"DEFINITELY RELATED\": (1, \"Definitely related\"),\n",
    "    \"PROBABLY RELATED\": (2, \"Probably related\"),\n",
    "    \"POSSIBLY RELATED\": (3, \"Possibly related\"),\n",
    "    \"UNLIKELY RELATED\": (4, \"Unlikely related\"),\n",
    "    \"NOT RELATED\": (5, \"Not related\")\n",
    "}\n",
    "ae3[[\"ARELN\", \"AREL\"]] = ae3[\"AEREL\"].apply(\n",
    "    lambda x: rel_map.get(x, (np.nan, np.nan))\n",
    ").apply(pd.Series)\n",
    "\n",
    "ae3[\"RELGR1\"] = ae3[\"ARELN\"].apply(lambda x: \"Related\" if x in [1, 2, 3] else \"Not Related\")\n"
   ]
  },
  {
   "cell_type": "code",
   "execution_count": 11,
   "id": "4b743c2f",
   "metadata": {},
   "outputs": [],
   "source": [
    "\n",
    "acn_map = {\n",
    "    \"NONE\": (1, \"None\"),\n",
    "    \"INTERRUPTED\": (2, \"Interrupted\"),\n",
    "    \"DISCONTINUED\": (3, \"Discontinued\"),\n",
    "    \"DRUG WITHDRAWN\": (3, \"Discontinued\"),\n",
    "    \"NOT APPLICABLE\": (4, \"Not Applicable\"),\n",
    "    \"UNKNOWN\": (5, \"Unknown\"),\n",
    "    \"DOSE NOT CHANGED\": (6, \"Dose not changed\")\n",
    "}\n",
    "ae3[[\"AACNN\", \"AACN\"]] = ae3[\"AEACN\"].apply(\n",
    "    lambda x: acn_map.get(x, (np.nan, np.nan))\n",
    ").apply(pd.Series)\n"
   ]
  },
  {
   "cell_type": "code",
   "execution_count": 14,
   "id": "ba56ca75",
   "metadata": {},
   "outputs": [],
   "source": [
    "from pandas.tseries.offsets import MonthEnd \n",
    "def parse_date(dt_str, default_time):\n",
    "    if pd.isna(dt_str):\n",
    "        return pd.NaT, None, None\n",
    "    \n",
    "    parts = str(dt_str).split(\"T\")\n",
    "    date_part = parts[0]\n",
    "    time_part = parts[1] if len(parts) > 1 and parts[1] else default_time\n",
    "\n",
    "    dt_parts = date_part.split(\"-\")\n",
    "    try:\n",
    "        if len(dt_parts) == 3:\n",
    "            date = datetime.strptime(date_part, \"%Y-%m-%d\")\n",
    "            dt_flag = \"\"  # Complete date\n",
    "        elif len(dt_parts) == 2:\n",
    "            date = datetime.strptime(f\"{dt_parts[0]}-{dt_parts[1]}-01\", \"%Y-%m-%d\")\n",
    "            dt_flag = \"D\"  # Missing day\n",
    "        elif len(dt_parts) == 1:\n",
    "            date = datetime.strptime(f\"{dt_parts[0]}-01-01\", \"%Y-%m-%d\")\n",
    "            dt_flag = \"M\"  # Missing month and day\n",
    "        else:\n",
    "            return pd.NaT, None, None\n",
    "        return date, time_part, dt_flag\n",
    "    except:\n",
    "        return pd.NaT, None, None\n",
    "\n",
    "# --- Apply to AESTDTC (Start Date)\n",
    "ae3[['ASTDT', '_ast_time', 'ASTDTF']] = ae3['AESTDTC'].apply(lambda x: pd.Series(parse_date(x, \"00:01\")))\n",
    "\n",
    "# --- Apply to AEENDTC (End Date)\n",
    "ae3[['AENDT_raw', '_aen_time', 'AENDTF']] = ae3['AEENDTC'].apply(lambda x: pd.Series(parse_date(x, \"23:59\")))\n",
    "\n",
    "# --- Adjust incomplete END date to last day of month\n",
    "ae3['AENDT'] = np.where(\n",
    "    ae3['AENDTF'] == 'D',\n",
    "    (ae3['AENDT_raw'] + MonthEnd(0)),\n",
    "    ae3['AENDT_raw']\n",
    ")\n",
    "ae3['AENDT'] = pd.to_datetime(ae3['AENDT'])\n",
    "\n",
    "# --- Construct ISO datetime (ASTDTM, AENDTM)\n",
    "ae3['ASTDTM'] = pd.to_datetime(ae3['ASTDT'].astype(str) + ' ' + ae3['_ast_time'], errors='coerce')\n",
    "ae3['AENDTM'] = pd.to_datetime(ae3['AENDT'].astype(str) + ' ' + ae3['_aen_time'], errors='coerce')\n",
    "\n",
    "# --- Derive ASTDY and AENDY\n",
    "ae3[\"ASTDY\"] = (ae3[\"ASTDT\"] - pd.to_datetime(ae3[\"TRTSDT\"])).dt.days + 1\n",
    "ae3[\"AENDY\"] = (ae3[\"AENDT\"] - pd.to_datetime(ae3[\"TRTSDT\"])).dt.days + 1\n",
    "\n",
    "# --- Derive TRTEMFL\n",
    "ae3[\"TRTEMFL\"] = np.where(\n",
    "    (ae3[\"AETRTEM\"] == 'Y') |\n",
    "    ((pd.to_datetime(ae3[\"TRTSDT\"]) <= ae3[\"ASTDT\"]) & (ae3[\"ASTDT\"] <= pd.to_datetime(ae3[\"RFPENDTC\"]))),\n",
    "    \"Y\", \"\"\n",
    ")\n",
    "\n"
   ]
  },
  {
   "cell_type": "code",
   "execution_count": 15,
   "id": "ffbdffde",
   "metadata": {},
   "outputs": [],
   "source": [
    "\n",
    "adae_vars = [\n",
    "    \"STUDYID\", \"USUBJID\", \"SUBJID\", \"SITEID\", \"AGE\", \"AGEU\", \"SEX\", \"RACE\",\n",
    "    \"ETHNIC\", \"COUNTRY\", \"SAFFL\", \"TRT01P\", \"TRT01PN\", \"TRT01A\", \"TRT01AN\",\n",
    "    \"TRTSDT\", \"TRTEDT\", \"AESEQ\", \"AETERM\", \"AEDECOD\", \"AEBODSYS\", \"AEBDSYCD\",\n",
    "    \"AELLT\", \"AELLTCD\", \"AEPTCD\", \"AEHLT\", \"AEHLTCD\", \"AEHLGT\", \"AEHLGTCD\",\n",
    "    \"AESOC\", \"AESOCCD\", \"AESTDTC\", \"ASTDT\", \"AEENDTC\", \"AENDT\",\n",
    "    \"ASTDY\", \"AENDY\", \"TRTEMFL\", \"AESER\", \"ASEV\", \"ASEVN\",\n",
    "    \"AREL\", \"ARELN\", \"RELGR1\", \"AEACNOTH\", \"AACN\", \"AACNN\", \"AEOUT\",\n",
    "    \"AESCONG\", \"AESDISAB\", \"AESDTH\", \"AESHOSP\", \"AESLIFE\", \"AESMIE\"\n",
    "]\n"
   ]
  },
  {
   "cell_type": "code",
   "execution_count": 16,
   "id": "74ff9d7a",
   "metadata": {},
   "outputs": [],
   "source": [
    "existing_columns = [col for col in adae_vars if col in ae3.columns]"
   ]
  },
  {
   "cell_type": "code",
   "execution_count": 17,
   "id": "8e8f36f8",
   "metadata": {},
   "outputs": [],
   "source": [
    "ae4 = ae3[existing_columns].copy()"
   ]
  },
  {
   "cell_type": "code",
   "execution_count": 18,
   "id": "de00de16",
   "metadata": {},
   "outputs": [],
   "source": [
    "column_labels={\n",
    "'STUDYID': \"Study Identifier\",\n",
    "'USUBJID': \"Unique Subject Identifier\",\n",
    "'SUBJID': \"Subject Identifier for the Study\",\n",
    "'SITEID': \"Study Site Identifier\",\n",
    "'AGE': \"Age\",\n",
    "'AGEU': \"Age Units\",\n",
    "'SEX': \"Sex\",\n",
    "'RACE': \"Race\",\n",
    "'ETHNIC': \"Ethnicity\",\n",
    "'COUNTRY': \"Country\",\n",
    "'SAFFL': \"Safety Population Flag\",\n",
    "'TRT01P': \"Planned Treatment for Period 01\",\n",
    "'TRT01PN': \"Planned Treatment for Period 01 (N)\",\n",
    "'TRT01A': \"Actual Treatment for Period 01\",\n",
    "'TRT01AN': \"Actual Treatment for Period 01 (N)\",\n",
    "'TRTSDT': \"Date of First Exposure to Treatment\",\n",
    "'TRTEDT': \"Date of Last Exposure to Treatment\",\n",
    "'AESEQ': \"Sequence Number\",\n",
    "'AETERM': \"Reported Term for the Adverse Event\",\n",
    "'AEDECOD': \"Dictionary-Derived Term\",\n",
    "'AEBODSYS': \"Body System or Organ Class\",\n",
    "'AEBDSYCD': \"Body System or Organ Class Code\",\n",
    "'AELLT': \"Lowest Level Term\",\n",
    "'AELLTCD': \"Lowest Level Term Code\",\n",
    "'AEPTCD': \"Preferred Term Code\",\n",
    "'AEHLT': \"High Level Term\",\n",
    "'AEHLTCD': \"High Level Term Code\",\n",
    "'AEHLGT': \"High Level Group Term\",\n",
    "'AEHLGTCD': \"High Level Group Term Code\",\n",
    "'AESOC': \"Primary System Organ Class\",\n",
    "'AESOCCD': \"Primary System Organ Class Code\",\n",
    "'AESTDTC': \"Start Date/Time of Adverse Event\",\n",
    "'ASTDT': \"Analysis Start Date\",\n",
    "'ASTDTM': \"Analysis Start Datetime\",\n",
    "'ASTDTF': \"Analysis Start Date Imputation Flag\",\n",
    "'AEENDTC': \"End Date/Time of Adverse Event\",\n",
    "'AENDT': \"Analysis End Date\",\n",
    "'AENDTM': \"Analysis End Datetime\",\n",
    "'AENDTF': \"Analysis End Date Imputation Flag\",\n",
    "'AESTDY': \"Study Day of Start of Adverse Event\",\n",
    "'ASTDY': \"Analysis Start Relative Day\",\n",
    "'AEENDY': \"Study Day of End of Adverse Event\",\n",
    "'AENDY': \"Analysis End Relative Day\",\n",
    "'TRTEMFL': \"Treatment Emergent Analysis Flag\",\n",
    "'AESER': \"Serious Event\",\n",
    "'ASEV': \"Analysis Severity/Intensity\",\n",
    "'ASEVN': \"Analysis Severity/Intensity (N)\",\n",
    "'AREL': \"Analysis Causality\",\n",
    "'ARELN': \"Analysis Causality (N)\",\n",
    "'RELGR1': \"Pooled Casuality Group 1\",\n",
    "'AEACNOTH': \"Other Action Taken\",\n",
    "'AACN': \"Action Taken with Study Treatment\",\n",
    "'AACNN': \"Action Taken with Study Treatment Numeric\",\n",
    "'AEOUT': \"Outcome of Adverse Event\",\n",
    "'AESCONG': \"Congenital Anomaly or Birth Defect\",\n",
    "'AESDISAB': \"Persist or Signif Disability/Incapacity\",\n",
    "'AESDTH': \"Results in Death\",\n",
    "'AESHOSP': \"Requires or Prolongs Hospitalization\",\n",
    "'AESLIFE': \"Is Life Threatening\",\n",
    "'AESMIE': \"Other Medically Important Serious Event\",\n",
    "}"
   ]
  },
  {
   "cell_type": "code",
   "execution_count": 19,
   "id": "a37d793d",
   "metadata": {},
   "outputs": [],
   "source": [
    "ae4.attrs['column_labels'] = column_labels"
   ]
  },
  {
   "cell_type": "code",
   "execution_count": 20,
   "id": "f3c287ae",
   "metadata": {},
   "outputs": [
    {
     "name": "stdout",
     "output_type": "stream",
     "text": [
      "USUBJID: Unique Subject Identifier\n",
      "SUBJID: Subject Identifier for the Study\n",
      "SITEID: Study Site Identifier\n",
      "AGE: Age\n",
      "AGEU: Age Units\n",
      "SEX: Sex\n",
      "RACE: Race\n",
      "ETHNIC: Ethnicity\n",
      "COUNTRY: Country\n",
      "SAFFL: Safety Population Flag\n",
      "TRT01P: Planned Treatment for Period 01\n",
      "TRT01PN: Planned Treatment for Period 01 (N)\n",
      "TRT01A: Actual Treatment for Period 01\n",
      "TRT01AN: Actual Treatment for Period 01 (N)\n",
      "TRTSDT: Date of First Exposure to Treatment\n",
      "TRTEDT: Date of Last Exposure to Treatment\n",
      "AESEQ: Sequence Number\n",
      "AETERM: Reported Term for the Adverse Event\n",
      "AEDECOD: Dictionary-Derived Term\n",
      "AEBODSYS: Body System or Organ Class\n",
      "AEBDSYCD: Body System or Organ Class Code\n",
      "AELLT: Lowest Level Term\n",
      "AELLTCD: Lowest Level Term Code\n",
      "AEPTCD: Preferred Term Code\n",
      "AEHLT: High Level Term\n",
      "AEHLTCD: High Level Term Code\n",
      "AEHLGT: High Level Group Term\n",
      "AEHLGTCD: High Level Group Term Code\n",
      "AESOC: Primary System Organ Class\n",
      "AESOCCD: Primary System Organ Class Code\n",
      "AESTDTC: Start Date/Time of Adverse Event\n",
      "ASTDT: Analysis Start Date\n",
      "AEENDTC: End Date/Time of Adverse Event\n",
      "AENDT: Analysis End Date\n",
      "ASTDY: Analysis Start Relative Day\n",
      "AENDY: Analysis End Relative Day\n",
      "TRTEMFL: Treatment Emergent Analysis Flag\n",
      "AESER: Serious Event\n",
      "ASEV: Analysis Severity/Intensity\n",
      "ASEVN: Analysis Severity/Intensity (N)\n",
      "AREL: Analysis Causality\n",
      "ARELN: Analysis Causality (N)\n",
      "RELGR1: Pooled Casuality Group 1\n",
      "AEACNOTH: Other Action Taken\n",
      "AACN: Action Taken with Study Treatment\n",
      "AACNN: Action Taken with Study Treatment Numeric\n",
      "AEOUT: Outcome of Adverse Event\n",
      "AESCONG: Congenital Anomaly or Birth Defect\n",
      "AESDISAB: Persist or Signif Disability/Incapacity\n",
      "AESDTH: Results in Death\n",
      "AESHOSP: Requires or Prolongs Hospitalization\n",
      "AESLIFE: Is Life Threatening\n",
      "AESMIE: Other Medically Important Serious Event\n"
     ]
    }
   ],
   "source": [
    "for col in ae4.columns:\n",
    "    label = ae4.attrs.get('column_labels', {}).get(col, '')\n",
    "    print(f\"{col}: {label}\")"
   ]
  },
  {
   "cell_type": "code",
   "execution_count": 22,
   "id": "4d75bbf5",
   "metadata": {},
   "outputs": [
    {
     "name": "stdout",
     "output_type": "stream",
     "text": [
      "ADAE dataset created successfully with 26 subjects and 53 variables.\n",
      "Dataset saved to: E:/Python Clinical Course/ADAM datasets/ADAE.csv\n",
      "\n",
      "Dataset Info:\n",
      "Shape: (26, 53)\n",
      "Columns: ['USUBJID', 'SUBJID', 'SITEID', 'AGE', 'AGEU', 'SEX', 'RACE', 'ETHNIC', 'COUNTRY', 'SAFFL', 'TRT01P', 'TRT01PN', 'TRT01A', 'TRT01AN', 'TRTSDT', 'TRTEDT', 'AESEQ', 'AETERM', 'AEDECOD', 'AEBODSYS', 'AEBDSYCD', 'AELLT', 'AELLTCD', 'AEPTCD', 'AEHLT', 'AEHLTCD', 'AEHLGT', 'AEHLGTCD', 'AESOC', 'AESOCCD', 'AESTDTC', 'ASTDT', 'AEENDTC', 'AENDT', 'ASTDY', 'AENDY', 'TRTEMFL', 'AESER', 'ASEV', 'ASEVN', 'AREL', 'ARELN', 'RELGR1', 'AEACNOTH', 'AACN', 'AACNN', 'AEOUT', 'AESCONG', 'AESDISAB', 'AESDTH', 'AESHOSP', 'AESLIFE', 'AESMIE']\n"
     ]
    }
   ],
   "source": [
    "#  Save the final dataset\n",
    "output = \"E:/Python Clinical Course/ADAM datasets\"\n",
    "output_path = f\"{output}/ADAE.csv\"\n",
    "ae4.to_csv(output_path, index=False)\n",
    "\n",
    "print(f\"ADAE dataset created successfully with {len(ae4)} subjects and {len(ae4.columns)} variables.\")\n",
    "print(f\"Dataset saved to: {output_path}\")\n",
    "\n",
    "# Display basic info about the dataset\n",
    "print(\"\\nDataset Info:\")\n",
    "print(f\"Shape: {ae4.shape}\")\n",
    "print(f\"Columns: {list(ae4.columns)}\")"
   ]
  }
 ],
 "metadata": {
  "kernelspec": {
   "display_name": "Python 3",
   "language": "python",
   "name": "python3"
  },
  "language_info": {
   "codemirror_mode": {
    "name": "ipython",
    "version": 3
   },
   "file_extension": ".py",
   "mimetype": "text/x-python",
   "name": "python",
   "nbconvert_exporter": "python",
   "pygments_lexer": "ipython3",
   "version": "3.13.4"
  }
 },
 "nbformat": 4,
 "nbformat_minor": 5
}
