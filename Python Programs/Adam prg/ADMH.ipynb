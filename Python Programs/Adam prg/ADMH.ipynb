{
 "cells": [
  {
   "cell_type": "code",
   "execution_count": 1,
   "id": "f298c976",
   "metadata": {},
   "outputs": [
    {
     "name": "stdout",
     "output_type": "stream",
     "text": [
      "Logging hadn't been started.\n",
      "Activating auto-logging. Current session state plus future input saved.\n",
      "Filename       : E:/Python Clinical Course/ADMH log.txt\n",
      "Mode           : backup\n",
      "Output logging : True\n",
      "Raw input log  : False\n",
      "Timestamping   : True\n",
      "State          : active\n"
     ]
    }
   ],
   "source": [
    "#To remove all variables from the namespace\n",
    "%reset -f\n",
    "\n",
    "#Creating a log file to record the commands and outputs\n",
    "%logstop\n",
    "%logstart -t -o \"E:/Python Clinical Course/ADMH log.txt\""
   ]
  },
  {
   "cell_type": "code",
   "execution_count": 2,
   "id": "8f7f2442",
   "metadata": {},
   "outputs": [],
   "source": [
    "import pandas as pd\n",
    "import numpy as np\n",
    "import os\n",
    "import pyreadstat\n",
    "from datetime import datetime\n",
    "from pathlib import Path\n",
    "\n",
    "# Define paths (adjust these to your actual paths)\n",
    "adam_path = r\"E:\\Python Clinical Course\\ADAM datasets\\ADaM Datasets\"\n",
    "sdtm_path = r\"E:\\Python Clinical Course\\SDTM\"\n",
    "raw_path = r\"E:\\Python Clinical Course\\RAW\"\n"
   ]
  },
  {
   "cell_type": "code",
   "execution_count": 4,
   "id": "4ee2fbc1",
   "metadata": {},
   "outputs": [],
   "source": [
    "sdtm_datasets = {}\n",
    "\n",
    "for file in os.listdir(sdtm_path):\n",
    "    if file.endswith(\".sas7bdat\"):\n",
    "        dataset_name = file.replace(\".sas7bdat\", \"\")\n",
    "        file_path = os.path.join(sdtm_path, file)\n",
    "        df, meta = pyreadstat.read_sas7bdat(file_path)\n",
    "        sdtm_datasets[dataset_name] = df"
   ]
  },
  {
   "cell_type": "code",
   "execution_count": 5,
   "id": "970a2487",
   "metadata": {},
   "outputs": [],
   "source": [
    "# 1) Read the main SDTM dataset\n",
    "mh1 = sdtm_datasets.get(\"mh\")\n",
    "suppmh = sdtm_datasets.get(\"suppmh\")\n",
    "mh1 = mh1.drop(columns=['ARM', 'ACTARM'], errors='ignore')\n",
    "mh1 = mh1.sort_values(['USUBJID', 'MHSEQ']).reset_index(drop=True)"
   ]
  },
  {
   "cell_type": "code",
   "execution_count": 6,
   "id": "8b079d93",
   "metadata": {},
   "outputs": [],
   "source": [
    "\n",
    "    \n",
    "# Convert IDVARVAL to numeric for MHSEQ\n",
    "suppmh['MHSEQ'] = pd.to_numeric(suppmh['IDVARVAL'], errors='coerce')\n",
    "    \n",
    "# Sort by USUBJID and MHSEQ\n",
    "suppmh = suppmh.sort_values(['USUBJID', 'MHSEQ']).reset_index(drop=True)\n",
    "    \n",
    "# Transpose SUPPMH data\n",
    "suppmh_trans = suppmh.pivot_table(\n",
    "        index=['USUBJID', 'MHSEQ'], \n",
    "        columns='QNAM', \n",
    "        values='QVAL', \n",
    "        aggfunc='first'\n",
    "    ).reset_index()\n"
   ]
  },
  {
   "cell_type": "code",
   "execution_count": 7,
   "id": "7d24e0d5",
   "metadata": {},
   "outputs": [],
   "source": [
    "\n",
    "# 3) Merge MH with transposed SUPPMH\n",
    "mh2 = pd.merge(mh1, suppmh_trans, on=['USUBJID', 'MHSEQ'], how='left')\n"
   ]
  },
  {
   "cell_type": "code",
   "execution_count": 8,
   "id": "c25b0716",
   "metadata": {},
   "outputs": [],
   "source": [
    "adam_datasets = {}\n",
    "\n",
    "for file in os.listdir(adam_path):\n",
    "    if file.endswith(\".sas7bdat\"):\n",
    "        dataset_name = file.replace(\".sas7bdat\", \"\")\n",
    "        file_path = os.path.join(adam_path, file)\n",
    "        df, meta = pyreadstat.read_sas7bdat(file_path)\n",
    "        adam_datasets[dataset_name] = df"
   ]
  },
  {
   "cell_type": "code",
   "execution_count": 9,
   "id": "4fe21190",
   "metadata": {},
   "outputs": [],
   "source": [
    "# 4) Merge with ADSL\n",
    "adsl = adam_datasets.get(\"adsl\")\n",
    "mh3 = pd.merge(mh2, adsl, on='USUBJID', how='inner')\n"
   ]
  },
  {
   "cell_type": "code",
   "execution_count": 10,
   "id": "418badae",
   "metadata": {},
   "outputs": [],
   "source": [
    "# Create MHPRIOR variable based on MHENRF\n",
    "def create_mhprior(mhenrf):\n",
    "    if pd.isna(mhenrf):\n",
    "        return ''\n",
    "    elif mhenrf == 'BEFORE':\n",
    "        return 'Past'\n",
    "    elif mhenrf == 'ONGOING':\n",
    "        return 'Current'\n",
    "    else:\n",
    "        return ''\n",
    "\n",
    "mh3['MHPRIOR'] = mh3['MHENRF'].apply(create_mhprior)\n"
   ]
  },
  {
   "cell_type": "code",
   "execution_count": 11,
   "id": "9840e466",
   "metadata": {},
   "outputs": [],
   "source": [
    "\n",
    "# 6) Select and keep specific columns\n",
    "columns_to_keep = [\n",
    "    'STUDYID',\n",
    "    'USUBJID', \n",
    "    'SUBJID',\n",
    "    'SITEID',\n",
    "    'AGE',\n",
    "    'AGEU',\n",
    "    'SEX',\n",
    "    'RACE',\n",
    "    'ETHNIC',\n",
    "    'COUNTRY',\n",
    "    'SAFFL',\n",
    "    'TRT01P',\n",
    "    'TRT01PN',\n",
    "    'TRT01A',\n",
    "    'TRT01AN',\n",
    "    'TRTSDT',\n",
    "    'TRTEDT',\n",
    "    'MHSEQ',\n",
    "    'MHCAT',\n",
    "    'MHREL',\n",
    "    'MHPRIOR',\n",
    "    'MHTERM',\n",
    "    'MHDECOD',\n",
    "    'MHBODSYS',\n",
    "    'MHSTDTC',\n",
    "    'MHSTDY',\n",
    "    'MHENDTC',\n",
    "    'MHENDY',\n",
    "    'MHENRF',\n",
    "    'MHONGO'\n",
    "]\n"
   ]
  },
  {
   "cell_type": "code",
   "execution_count": 12,
   "id": "13d9203e",
   "metadata": {},
   "outputs": [],
   "source": [
    "\n",
    "# Keep only columns that exist in the dataset\n",
    "existing_columns = [col for col in columns_to_keep if col in mh3.columns]\n"
   ]
  },
  {
   "cell_type": "code",
   "execution_count": 13,
   "id": "71bf3332",
   "metadata": {},
   "outputs": [],
   "source": [
    "\n",
    "mh4 = mh3[existing_columns].copy()\n",
    "\n",
    "# Column labels dictionary for documentation\n",
    "column_labels = {\n",
    "    'STUDYID': 'Study Identifier',\n",
    "    'USUBJID': 'Unique Subject Identifier',\n",
    "    'SUBJID': 'Subject Identifier for the Study',\n",
    "    'SITEID': 'Study Site Identifier',\n",
    "    'AGE': 'Age',\n",
    "    'AGEU': 'Age Units',\n",
    "    'SEX': 'Sex',\n",
    "    'RACE': 'Race',\n",
    "    'ETHNIC': 'Ethnicity',\n",
    "    'COUNTRY': 'Country',\n",
    "    'SAFFL': 'Safety Population Flag',\n",
    "    'TRT01P': 'Planned Treatment for Period 01',\n",
    "    'TRT01PN': 'Planned Treatment for Period 01 (N)',\n",
    "    'TRT01A': 'Actual Treatment for Period 01',\n",
    "    'TRT01AN': 'Actual Treatment for Period 01 (N)',\n",
    "    'TRTSDT': 'Date of First Exposure to Treatment',\n",
    "    'TRTEDT': 'Date of Last Exposure to Treatment',\n",
    "    'MHSEQ': 'Sequence Number',\n",
    "    'MHCAT': 'Category for Medical History',\n",
    "    'MHREL': 'Is the condition related to COVID-19?',\n",
    "    'MHPRIOR': 'Past/Current Event',\n",
    "    'MHTERM': 'Reported Term for the Medical History',\n",
    "    'MHDECOD': 'Dictionary-Derived Term',\n",
    "    'MHBODSYS': 'Body System or Organ Class',\n",
    "    'MHSTDTC': 'Start Date/Time of Medical History Event',\n",
    "    'MHSTDY': 'Study Day of Start of Observation',\n",
    "    'MHENDTC': 'End Date/Time of Medical History Event',\n",
    "    'MHENDY': 'Study Day of End of Observation',\n",
    "    'MHENRF': 'End Relative to Reference Period',\n",
    "    'MHONGO': 'Ongoing?'\n",
    "}\n",
    "\n",
    "# Create the final ADMH dataset\n",
    "admh = mh4.copy()\n"
   ]
  },
  {
   "cell_type": "code",
   "execution_count": 14,
   "id": "a34c45ca",
   "metadata": {},
   "outputs": [],
   "source": [
    "\n",
    "# Add dataset label as an attribute (for documentation)\n",
    "admh.attrs['label'] = 'Medical History Analysis Dataset'\n",
    "admh.attrs['column_labels'] = column_labels\n"
   ]
  },
  {
   "cell_type": "code",
   "execution_count": 15,
   "id": "0aa1163a",
   "metadata": {},
   "outputs": [
    {
     "name": "stdout",
     "output_type": "stream",
     "text": [
      "USUBJID: Unique Subject Identifier\n",
      "SUBJID: Subject Identifier for the Study\n",
      "SITEID: Study Site Identifier\n",
      "AGE: Age\n",
      "AGEU: Age Units\n",
      "SEX: Sex\n",
      "RACE: Race\n",
      "ETHNIC: Ethnicity\n",
      "COUNTRY: Country\n",
      "SAFFL: Safety Population Flag\n",
      "TRT01P: Planned Treatment for Period 01\n",
      "TRT01PN: Planned Treatment for Period 01 (N)\n",
      "TRT01A: Actual Treatment for Period 01\n",
      "TRT01AN: Actual Treatment for Period 01 (N)\n",
      "TRTSDT: Date of First Exposure to Treatment\n",
      "TRTEDT: Date of Last Exposure to Treatment\n",
      "MHSEQ: Sequence Number\n",
      "MHCAT: Category for Medical History\n",
      "MHREL: Is the condition related to COVID-19?\n",
      "MHPRIOR: Past/Current Event\n",
      "MHTERM: Reported Term for the Medical History\n",
      "MHDECOD: Dictionary-Derived Term\n",
      "MHBODSYS: Body System or Organ Class\n",
      "MHSTDTC: Start Date/Time of Medical History Event\n",
      "MHSTDY: Study Day of Start of Observation\n",
      "MHENDTC: End Date/Time of Medical History Event\n",
      "MHENDY: Study Day of End of Observation\n",
      "MHENRF: End Relative to Reference Period\n",
      "MHONGO: Ongoing?\n"
     ]
    }
   ],
   "source": [
    "for col in admh.columns:\n",
    "    label = admh.attrs.get('column_labels', {}).get(col, '')\n",
    "    print(f\"{col}: {label}\")"
   ]
  },
  {
   "cell_type": "code",
   "execution_count": 16,
   "id": "12d08a98",
   "metadata": {},
   "outputs": [
    {
     "name": "stdout",
     "output_type": "stream",
     "text": [
      "ADMH dataset created successfully with 121 subjects and 29 variables.\n",
      "Dataset saved to: E:/Python Clinical Course/ADAM datasets/ADMH.csv\n",
      "\n",
      "Dataset Info:\n",
      "Shape: (121, 29)\n",
      "Columns: ['USUBJID', 'SUBJID', 'SITEID', 'AGE', 'AGEU', 'SEX', 'RACE', 'ETHNIC', 'COUNTRY', 'SAFFL', 'TRT01P', 'TRT01PN', 'TRT01A', 'TRT01AN', 'TRTSDT', 'TRTEDT', 'MHSEQ', 'MHCAT', 'MHREL', 'MHPRIOR', 'MHTERM', 'MHDECOD', 'MHBODSYS', 'MHSTDTC', 'MHSTDY', 'MHENDTC', 'MHENDY', 'MHENRF', 'MHONGO']\n"
     ]
    }
   ],
   "source": [
    "\n",
    "#  Save the final dataset\n",
    "output = \"E:/Python Clinical Course/ADAM datasets\"\n",
    "output_path = f\"{output}/ADMH.csv\"\n",
    "admh.to_csv(output_path, index=False)\n",
    "\n",
    "print(f\"ADMH dataset created successfully with {len(admh)} subjects and {len(admh.columns)} variables.\")\n",
    "print(f\"Dataset saved to: {output_path}\")\n",
    "\n",
    "# Display basic info about the dataset\n",
    "print(\"\\nDataset Info:\")\n",
    "print(f\"Shape: {admh.shape}\")\n",
    "print(f\"Columns: {list(admh.columns)}\")\n"
   ]
  }
 ],
 "metadata": {
  "kernelspec": {
   "display_name": "Python 3",
   "language": "python",
   "name": "python3"
  },
  "language_info": {
   "codemirror_mode": {
    "name": "ipython",
    "version": 3
   },
   "file_extension": ".py",
   "mimetype": "text/x-python",
   "name": "python",
   "nbconvert_exporter": "python",
   "pygments_lexer": "ipython3",
   "version": "3.13.4"
  }
 },
 "nbformat": 4,
 "nbformat_minor": 5
}
