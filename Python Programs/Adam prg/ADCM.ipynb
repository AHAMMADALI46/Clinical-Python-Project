{
 "cells": [
  {
   "cell_type": "code",
   "execution_count": null,
   "id": "e591ab0f",
   "metadata": {},
   "outputs": [],
   "source": [
    "#To remove all variables from the namespace\n",
    "%reset -f\n"
   ]
  },
  {
   "cell_type": "code",
   "execution_count": 7,
   "id": "4779a8fd",
   "metadata": {},
   "outputs": [],
   "source": [
    "#Creating a log file to record the commands and outputs\n",
    "%logstop"
   ]
  },
  {
   "cell_type": "code",
   "execution_count": null,
   "id": "20604c1f",
   "metadata": {},
   "outputs": [
    {
     "name": "stdout",
     "output_type": "stream",
     "text": [
      "Activating auto-logging. Current session state plus future input saved.\n",
      "Filename       : E:/Python Clinical Course/ADCM log.txt\n",
      "Mode           : backup\n",
      "Output logging : True\n",
      "Raw input log  : False\n",
      "Timestamping   : True\n",
      "State          : active\n"
     ]
    }
   ],
   "source": [
    "%logstart -t -o \"E:/Python Clinical Course/ADCM log.txt\""
   ]
  },
  {
   "cell_type": "code",
   "execution_count": 10,
   "id": "929d7143",
   "metadata": {},
   "outputs": [],
   "source": [
    "import pandas as pd\n",
    "import numpy as np\n",
    "import os\n",
    "import pyreadstat\n",
    "from datetime import datetime\n",
    "from pathlib import Path\n",
    "\n",
    "# Define paths\n",
    "base_path = Path(\"E:/Python Clinical Course\")\n",
    "raw_path = base_path / \"RAW\"\n",
    "sdtm_path = base_path / \"SDTM\"\n",
    "adam_path = \"E:/Python Clinical Course/ADAM datasets/ADaM Datasets\"\n"
   ]
  },
  {
   "cell_type": "code",
   "execution_count": 11,
   "id": "706de1f7",
   "metadata": {},
   "outputs": [],
   "source": [
    "sdtm_datasets = {}\n",
    "\n",
    "for file in os.listdir(sdtm_path):\n",
    "    if file.endswith(\".sas7bdat\"):\n",
    "        dataset_name = file.replace(\".sas7bdat\", \"\")\n",
    "        file_path = os.path.join(sdtm_path, file)\n",
    "        df, meta = pyreadstat.read_sas7bdat(file_path)\n",
    "        sdtm_datasets[dataset_name] = df"
   ]
  },
  {
   "cell_type": "code",
   "execution_count": 12,
   "id": "8f2deb49",
   "metadata": {},
   "outputs": [],
   "source": [
    "\n",
    "# Load datasets\n",
    "cm = sdtm_datasets.get(\"cm\")\n",
    "suppcm = sdtm_datasets.get(\"suppcm\")\n"
   ]
  },
  {
   "cell_type": "code",
   "execution_count": 13,
   "id": "b91a9f20",
   "metadata": {},
   "outputs": [],
   "source": [
    "adam_datasets = {}\n",
    "\n",
    "for file in os.listdir(adam_path):\n",
    "    if file.endswith(\".sas7bdat\"):\n",
    "        dataset_name = file.replace(\".sas7bdat\", \"\")\n",
    "        file_path = os.path.join(adam_path, file)\n",
    "        df, meta = pyreadstat.read_sas7bdat(file_path)\n",
    "        adam_datasets[dataset_name] = df\n"
   ]
  },
  {
   "cell_type": "code",
   "execution_count": 14,
   "id": "c62abcd2",
   "metadata": {},
   "outputs": [],
   "source": [
    "# Load Adam datasets\n",
    "adsl = adam_datasets.get(\"adsl\")"
   ]
  },
  {
   "cell_type": "code",
   "execution_count": 15,
   "id": "ff952cbf",
   "metadata": {},
   "outputs": [],
   "source": [
    "\n",
    "# 1. Drop ARM, ACTARM\n",
    "cm1 = cm.drop(columns=['ARM', 'ACTARM'], errors='ignore').copy()\n",
    "cm1.sort_values(by=['USUBJID', 'CMSEQ'], inplace=True)\n"
   ]
  },
  {
   "cell_type": "code",
   "execution_count": 16,
   "id": "608d8936",
   "metadata": {},
   "outputs": [],
   "source": [
    "\n",
    "# 2. Handle SUPPCM\n",
    "suppcm['CMSEQ'] = pd.to_numeric(suppcm['IDVARVAL'], errors='coerce')\n",
    "suppcm.sort_values(by=['USUBJID', 'CMSEQ'], inplace=True)\n"
   ]
  },
  {
   "cell_type": "code",
   "execution_count": 17,
   "id": "8d8e0a53",
   "metadata": {},
   "outputs": [],
   "source": [
    "\n",
    "# Pivot QNAM/QVAL to wide\n",
    "suppcm_trans = suppcm.pivot_table(\n",
    "    index=['USUBJID', 'CMSEQ'],\n",
    "    columns='QNAM',\n",
    "    values='QVAL',\n",
    "    aggfunc='first'\n",
    ").reset_index()\n",
    "\n",
    "#Drop STUDYID from adsl\n",
    "adsl = adsl.drop(columns=['STUDYID'], errors='ignore')\n",
    "\n",
    "# 3. Merge CM and SUPPCM\n",
    "cm2 = pd.merge(cm1, suppcm_trans, on=['USUBJID', 'CMSEQ'], how='left')\n",
    "cm3 = pd.merge(cm2, adsl, on='USUBJID', how='inner')\n"
   ]
  },
  {
   "cell_type": "code",
   "execution_count": 18,
   "id": "1bd9dbf3",
   "metadata": {},
   "outputs": [],
   "source": [
    "\n",
    "# 5. Date parsing and cleaning\n",
    "def parse_date(date_str):\n",
    "    if pd.isna(date_str):\n",
    "        return np.nan, '', ''\n",
    "    dt = str(date_str)[:10]\n",
    "    length = len(dt)\n",
    "    if length == 4:\n",
    "        return pd.to_datetime(f\"{dt}-01-01\", errors='coerce'), \"M\", f\"{dt}-01-01\"\n",
    "    elif length == 7:\n",
    "        return pd.to_datetime(f\"{dt}-01\", errors='coerce'), \"D\", f\"{dt}-01\"\n",
    "    elif length == 10:\n",
    "        return pd.to_datetime(dt, errors='coerce'), \"\", dt\n",
    "    return np.nan, '', dt\n",
    "\n",
    "\n",
    "cm3[['CMSTDTC_C', 'ASTDTF', 'ASTDT']] = cm3.apply(\n",
    "    lambda row: pd.Series(parse_date(row.get('CMSTDTC'))), axis=1)\n",
    "\n",
    "cm3[['CMENDTC_C', 'AENDTF', 'AENDT']] = cm3.apply(\n",
    "    lambda row: pd.Series(parse_date(row.get('CMENDTC'))), axis=1)\n",
    "\n",
    "cm3['ASTDT'] = pd.to_datetime(cm3['ASTDT'], errors='coerce')\n",
    "cm3['AENDT'] = pd.to_datetime(cm3['AENDT'], errors='coerce')\n",
    "cm3['TRTSDT'] = pd.to_datetime(cm3['TRTSDT'], errors='coerce')\n",
    "\n"
   ]
  },
  {
   "cell_type": "code",
   "execution_count": 19,
   "id": "e5751283",
   "metadata": {},
   "outputs": [],
   "source": [
    "\n",
    "# 6. ATC4 handling\n",
    "cm3['ATC4'] = cm3.get('CODE4')\n",
    "cm3['ATC4TXT'] = cm3.get('TEXT4')\n"
   ]
  },
  {
   "cell_type": "code",
   "execution_count": 20,
   "id": "74109688",
   "metadata": {},
   "outputs": [],
   "source": [
    "\n",
    "# 7. Calculate ASTDY, AENDY, ONTRTFL\n",
    "cm3['ASTDY'] = np.where(\n",
    "    cm3['ASTDT'].notna() & cm3['TRTSDT'].notna(),\n",
    "    np.where(cm3['ASTDT'] < cm3['TRTSDT'],\n",
    "             (cm3['ASTDT'] - cm3['TRTSDT']).dt.days,\n",
    "             (cm3['ASTDT'] - cm3['TRTSDT']).dt.days + 1),\n",
    "    np.nan)\n",
    "\n",
    "cm3['AENDY'] = np.where(\n",
    "    cm3['AENDT'].notna() & cm3['TRTSDT'].notna(),\n",
    "    np.where(cm3['AENDT'] < cm3['TRTSDT'],\n",
    "             (cm3['AENDT'] - cm3['TRTSDT']).dt.days,\n",
    "             (cm3['AENDT'] - cm3['TRTSDT']).dt.days + 1),\n",
    "    np.nan)\n",
    "\n",
    "cm3['ONTRTFL'] = np.where(\n",
    "    (cm3['ASTDT'] >= cm3['TRTSDT']) |\n",
    "    ((cm3['ASTDT'] < cm3['TRTSDT']) & (cm3['CMENRF'] == 'ONGOING')),\n",
    "    'Y', '')\n"
   ]
  },
  {
   "cell_type": "code",
   "execution_count": 21,
   "id": "468401cb",
   "metadata": {},
   "outputs": [],
   "source": [
    "\n",
    "# 8. Keep final variables\n",
    "keep_vars = [\n",
    "    'STUDYID', 'USUBJID', 'SUBJID', 'SITEID', 'AGE', 'AGEU', 'SEX', 'RACE',\n",
    "    'ETHNIC', 'COUNTRY', 'SAFFL', 'RANDFL', 'TRT01P', 'TRT01PN', 'TRT01A',\n",
    "    'TRT01AN', 'TRTSDT', 'TRTEDT', 'CMSEQ', 'CMTRT', 'CMDECOD', 'CMINDC',\n",
    "    'CMDOSE', 'CMDOSU', 'CMDOSFRQ', 'CMROUTE', 'CMSTDTC', 'CMENDTC',\n",
    "    'CMENRF', 'CMINDSPE', 'ATC4', 'ATC4TXT', 'CMFRQOTH', 'CMONGO', 'CMDSEOTH',\n",
    "    'CMAENUM', 'CMMHNUM', 'ASTDT', 'ASTDY', 'AENDT', 'AENDY', 'ONTRTFL'\n",
    "]\n"
   ]
  },
  {
   "cell_type": "code",
   "execution_count": 22,
   "id": "eb6fc57e",
   "metadata": {},
   "outputs": [],
   "source": [
    "existing_columns = [col for col in keep_vars if col in cm3.columns]"
   ]
  },
  {
   "cell_type": "code",
   "execution_count": 23,
   "id": "e63df7fe",
   "metadata": {},
   "outputs": [],
   "source": [
    "cm4 = cm3[existing_columns].copy()"
   ]
  },
  {
   "cell_type": "code",
   "execution_count": 24,
   "id": "08cd34e7",
   "metadata": {},
   "outputs": [],
   "source": [
    "column_labels = {\n",
    "'STUDYID': \"Study Identifier\",\n",
    "'USUBJID': \"Unique Subject Identifier\",\n",
    "'SUBJID': \"Subject Identifier for the Study\",\n",
    "'SITEID': \"Study Site Identifier\",\n",
    "'AGE': \"Age\",\n",
    "'AGEU': \"Age Units\",\n",
    "'SEX': \"Sex\",\n",
    "'RACE': \"Race\",\n",
    "'ETHNIC': \"Ethnicity\",\n",
    "'COUNTRY': \"Country\",\n",
    "'SAFFL': \"Safety Population Flag\",\n",
    "'RANDFL': \"Randomized population Flag\",\n",
    "'TRT01P': \"Planned Treatment for Period 01\",\n",
    "'TRT01PN': \"Planned Treatment for Period 01 (N)\",\n",
    "'TRT01A': \"Actual Treatment for Period 01\",\n",
    "'TRT01AN': \"Actual Treatment for Period 01 (N)\",\n",
    "'TRTSDT': \"Date of First Exposure to Treatment\",\n",
    "'TRTEDT': \"Date of Last Exposure to Treatment\",\n",
    "'CMSEQ': \"Sequence Number\",\n",
    "'CMTRT': \"Reported Name of Drug, Med, or Therapy\",\n",
    "'CMDECOD': \"Standardized Medication Name\",\n",
    "'CMINDC': \"Indication\",\n",
    "'CMDOSE': \"Dose per Administration\",\n",
    "'CMDOSU': \"Dose Units\",\n",
    "'CMDOSFRQ': \"Dosing Frequency per Interval\",\n",
    "'CMROUTE': \"Route of Administration\",\n",
    "'CMSTDTC': \"Start Date/Time of Medication\",\n",
    "'CMENDTC': \"End Date/Time of Medication\",\n",
    "'CMENRF': \"End Relative to Reference Period\",\n",
    "'CMINDSPE': \"Indication Specify\",\n",
    "'ATC4': \"ATC Level 4 Code\",\n",
    "'ATC4TXT': \"ATC Level 4 Text\",\n",
    "'CMFRQOTH': \"Other Frequency, Specify\",\n",
    "'CMONGO': \"Ongoing\",\n",
    "'CMDSEOTH': \"Other Dose Unit, Specify\",\n",
    "'CMAENUM': \"Related to AE\",\n",
    "'CMMHNUM': \"Related to MH\",\n",
    "'ASTDT': \"Analysis Start Date\",\n",
    "'ASTDY': \"Analysis Start Relative Day\",\n",
    "'AENDT': \"Analysis End Date\",\n",
    "'AENDY': \"Analysis End Relative Day\",\n",
    "'ONTRTFL': \"On Treatment Record Flag\"\n",
    "}\n"
   ]
  },
  {
   "cell_type": "code",
   "execution_count": 25,
   "id": "a309f99a",
   "metadata": {},
   "outputs": [],
   "source": [
    "cm4.attrs['column_labels'] = column_labels"
   ]
  },
  {
   "cell_type": "code",
   "execution_count": 26,
   "id": "b92345f0",
   "metadata": {},
   "outputs": [
    {
     "name": "stdout",
     "output_type": "stream",
     "text": [
      "STUDYID: Study Identifier\n",
      "USUBJID: Unique Subject Identifier\n",
      "SUBJID: Subject Identifier for the Study\n",
      "SITEID: Study Site Identifier\n",
      "AGE: Age\n",
      "AGEU: Age Units\n",
      "SEX: Sex\n",
      "RACE: Race\n",
      "ETHNIC: Ethnicity\n",
      "COUNTRY: Country\n",
      "SAFFL: Safety Population Flag\n",
      "RANDFL: Randomized population Flag\n",
      "TRT01P: Planned Treatment for Period 01\n",
      "TRT01PN: Planned Treatment for Period 01 (N)\n",
      "TRT01A: Actual Treatment for Period 01\n",
      "TRT01AN: Actual Treatment for Period 01 (N)\n",
      "TRTSDT: Date of First Exposure to Treatment\n",
      "TRTEDT: Date of Last Exposure to Treatment\n",
      "CMSEQ: Sequence Number\n",
      "CMTRT: Reported Name of Drug, Med, or Therapy\n",
      "CMDECOD: Standardized Medication Name\n",
      "CMINDC: Indication\n",
      "CMDOSE: Dose per Administration\n",
      "CMDOSU: Dose Units\n",
      "CMDOSFRQ: Dosing Frequency per Interval\n",
      "CMROUTE: Route of Administration\n",
      "CMSTDTC: Start Date/Time of Medication\n",
      "CMENDTC: End Date/Time of Medication\n",
      "CMENRF: End Relative to Reference Period\n",
      "CMINDSPE: Indication Specify\n",
      "ATC4: ATC Level 4 Code\n",
      "ATC4TXT: ATC Level 4 Text\n",
      "CMFRQOTH: Other Frequency, Specify\n",
      "CMONGO: Ongoing\n",
      "CMDSEOTH: Other Dose Unit, Specify\n",
      "CMAENUM: Related to AE\n",
      "CMMHNUM: Related to MH\n",
      "ASTDT: Analysis Start Date\n",
      "ASTDY: Analysis Start Relative Day\n",
      "AENDT: Analysis End Date\n",
      "AENDY: Analysis End Relative Day\n",
      "ONTRTFL: On Treatment Record Flag\n"
     ]
    }
   ],
   "source": [
    "for col in cm4.columns:\n",
    "    label = cm4.attrs.get('column_labels', {}).get(col, '')\n",
    "    print(f\"{col}: {label}\")"
   ]
  },
  {
   "cell_type": "code",
   "execution_count": 27,
   "id": "f0d14e6c",
   "metadata": {},
   "outputs": [
    {
     "name": "stdout",
     "output_type": "stream",
     "text": [
      "ADCM dataset created successfully with 384 subjects and 42 variables.\n",
      "Dataset saved to: E:/Python Clinical Course/ADAM datasets/ADCM.csv\n",
      "\n",
      "Dataset Info:\n",
      "Shape: (384, 42)\n",
      "Columns: ['STUDYID', 'USUBJID', 'SUBJID', 'SITEID', 'AGE', 'AGEU', 'SEX', 'RACE', 'ETHNIC', 'COUNTRY', 'SAFFL', 'RANDFL', 'TRT01P', 'TRT01PN', 'TRT01A', 'TRT01AN', 'TRTSDT', 'TRTEDT', 'CMSEQ', 'CMTRT', 'CMDECOD', 'CMINDC', 'CMDOSE', 'CMDOSU', 'CMDOSFRQ', 'CMROUTE', 'CMSTDTC', 'CMENDTC', 'CMENRF', 'CMINDSPE', 'ATC4', 'ATC4TXT', 'CMFRQOTH', 'CMONGO', 'CMDSEOTH', 'CMAENUM', 'CMMHNUM', 'ASTDT', 'ASTDY', 'AENDT', 'AENDY', 'ONTRTFL']\n"
     ]
    }
   ],
   "source": [
    "\n",
    "#  Save the final dataset\n",
    "output = \"E:/Python Clinical Course/ADAM datasets\"\n",
    "output_path = f\"{output}/ADCM.csv\"\n",
    "cm4.to_csv(output_path, index=False)\n",
    "\n",
    "print(f\"ADCM dataset created successfully with {len(cm4)} subjects and {len(cm4.columns)} variables.\")\n",
    "print(f\"Dataset saved to: {output_path}\")\n",
    "\n",
    "# Display basic info about the dataset\n",
    "print(\"\\nDataset Info:\")\n",
    "print(f\"Shape: {cm4.shape}\")\n",
    "print(f\"Columns: {list(cm4.columns)}\")\n"
   ]
  }
 ],
 "metadata": {
  "kernelspec": {
   "display_name": "Python 3",
   "language": "python",
   "name": "python3"
  },
  "language_info": {
   "codemirror_mode": {
    "name": "ipython",
    "version": 3
   },
   "file_extension": ".py",
   "mimetype": "text/x-python",
   "name": "python",
   "nbconvert_exporter": "python",
   "pygments_lexer": "ipython3",
   "version": "3.13.4"
  }
 },
 "nbformat": 4,
 "nbformat_minor": 5
}
