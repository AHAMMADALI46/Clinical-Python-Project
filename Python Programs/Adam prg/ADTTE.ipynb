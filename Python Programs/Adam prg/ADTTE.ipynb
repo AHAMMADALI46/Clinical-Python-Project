{
 "cells": [
  {
   "cell_type": "code",
   "execution_count": 1,
   "id": "5628285f",
   "metadata": {},
   "outputs": [
    {
     "name": "stdout",
     "output_type": "stream",
     "text": [
      "Logging hadn't been started.\n",
      "Activating auto-logging. Current session state plus future input saved.\n",
      "Filename       : E:/Python Clinical Course/ADTTE log.txt\n",
      "Mode           : backup\n",
      "Output logging : True\n",
      "Raw input log  : False\n",
      "Timestamping   : True\n",
      "State          : active\n"
     ]
    }
   ],
   "source": [
    "#To remove all variables from the namespace\n",
    "%reset -f\n",
    "\n",
    "#Creating a log file to record the commands and outputs\n",
    "%logstop\n",
    "%logstart -t -o \"E:/Python Clinical Course/ADTTE log.txt\""
   ]
  },
  {
   "cell_type": "code",
   "execution_count": 2,
   "id": "a7e671af",
   "metadata": {},
   "outputs": [],
   "source": [
    "import pandas as pd\n",
    "import numpy as np\n",
    "import os\n",
    "import pyreadstat\n",
    "from datetime import datetime\n",
    "from pathlib import Path\n",
    "\n",
    "# Define paths (adjust these to your actual paths)\n",
    "adam_path = r\"E:\\Python Clinical Course\\ADAM datasets\\ADaM Datasets\"\n",
    "sdtm_path = r\"E:\\Python Clinical Course\\SDTM\"\n",
    "raw_path = r\"E:\\Python Clinical Course\\RAW\""
   ]
  },
  {
   "cell_type": "code",
   "execution_count": 3,
   "id": "94a0065d",
   "metadata": {},
   "outputs": [],
   "source": [
    "sdtm_datasets = {}\n",
    "\n",
    "for file in os.listdir(sdtm_path):\n",
    "    if file.endswith(\".sas7bdat\"):\n",
    "        dataset_name = file.replace(\".sas7bdat\", \"\")\n",
    "        file_path = os.path.join(sdtm_path, file)\n",
    "        df, meta = pyreadstat.read_sas7bdat(file_path)\n",
    "        sdtm_datasets[dataset_name] = df"
   ]
  },
  {
   "cell_type": "code",
   "execution_count": 4,
   "id": "e544ca8a",
   "metadata": {},
   "outputs": [],
   "source": [
    "adam_datasets = {}\n",
    "\n",
    "for file in os.listdir(adam_path):\n",
    "    if file.endswith(\".sas7bdat\"):\n",
    "        dataset_name = file.replace(\".sas7bdat\", \"\")\n",
    "        file_path = os.path.join(adam_path, file)\n",
    "        df, meta = pyreadstat.read_sas7bdat(file_path)\n",
    "        adam_datasets[dataset_name] = df"
   ]
  },
  {
   "cell_type": "code",
   "execution_count": 5,
   "id": "3733d36e",
   "metadata": {},
   "outputs": [],
   "source": [
    "# Read datasets\n",
    "adsl = adam_datasets.get(\"adsl\")\n",
    "advs = adam_datasets.get(\"advs\")"
   ]
  },
  {
   "cell_type": "code",
   "execution_count": 6,
   "id": "e1150d25",
   "metadata": {},
   "outputs": [],
   "source": [
    "\n",
    "# Sort ADSL by USUBJID (equivalent to PROC SORT)\n",
    "adsl = adsl.sort_values('USUBJID').reset_index(drop=True)\n",
    "\n",
    "# Fever Symptom Processing\n",
    "# Filter ADVS for temperature data (equivalent to WHERE clause)\n",
    "advs_temp = advs[\n",
    "    (advs['PARAMCD'] == 'TEMP') & \n",
    "    (advs['ADY'] >= 1)\n",
    "][['USUBJID', 'ADT', 'ADY', 'AVISITN', 'AVISIT', 'PARAMCD', 'PARAM', 'TRTSDT', 'AVAL']].copy()\n",
    "\n",
    "# Sort by USUBJID, AVAL, AVISITN\n",
    "advs_temp = advs_temp.sort_values(['USUBJID', 'AVAL', 'AVISITN']).reset_index(drop=True)\n",
    "\n",
    "# Get maximum severity record (last record per subject)\n",
    "maxsev_temp = advs_temp.groupby('USUBJID').last().reset_index()\n",
    "\n",
    "# Merge with ADSL\n",
    "comb_temp = pd.merge(adsl, maxsev_temp, on='USUBJID', how='left', indicator=True)\n"
   ]
  },
  {
   "cell_type": "code",
   "execution_count": 15,
   "id": "e1e9eff9",
   "metadata": {},
   "outputs": [],
   "source": [
    "\n",
    "# Create event indicators and values\n",
    "def process_fever_events(row):\n",
    "    if row['_merge'] == 'both':  # Both A and B (subject has temperature data)\n",
    "        row['CNSR'] = 0\n",
    "        row['AVAL'] = row['ADY']\n",
    "        row['EVNTDESC'] = 'Maximum Temperature'\n",
    "    else:  # Only A (subject has no temperature data)\n",
    "        row['ADT'] = np.nan\n",
    "        row['AVAL'] = np.nan\n",
    "        row['CNSR'] = np.nan\n",
    "        row['EVNTDESC'] = ''\n",
    "    return row\n",
    "\n",
    "comb_temp = comb_temp.apply(process_fever_events, axis=1)\n",
    "\n",
    "# Add fever-specific parameters\n",
    "comb1 = comb_temp.copy()\n",
    "comb1['PARAMCD'] = 'FEVERSYM'\n",
    "comb1['PARAM'] = 'Fever Symptom'\n",
    "comb1['PARAMN'] = 1\n",
    "comb1['PARCAT1'] = 'Time to Event'\n",
    "comb1['PARAMTYP'] = 'DERIVED'\n",
    "comb1['AVALC'] = ''\n",
    "comb1['ADTF'] = ''\n",
    "comb1['ANL01FL'] = 'Y'"
   ]
  },
  {
   "cell_type": "code",
   "execution_count": 16,
   "id": "deeb27f7",
   "metadata": {},
   "outputs": [],
   "source": [
    "# Elevated Respiratory Rate Symptom Processing\n",
    "# Filter ADVS for respiratory rate data\n",
    "advs_resp = advs[\n",
    "    (advs['PARAMCD'] == 'RESP') & \n",
    "    (advs['ADY'] >= 1)\n",
    "][['USUBJID', 'ADT', 'ADY', 'AVISITN', 'AVISIT', 'PARAMCD', 'PARAM', 'TRTSDT', 'AVAL']].copy()\n",
    "\n",
    "# Sort by USUBJID, AVAL, AVISITN\n",
    "advs_resp = advs_resp.sort_values(['USUBJID', 'AVAL', 'AVISITN']).reset_index(drop=True)\n",
    "\n",
    "# Get maximum severity record\n",
    "maxsev_resp = advs_resp.groupby('USUBJID').last().reset_index()\n",
    "\n",
    "# Merge with ADSL\n",
    "comb_resp = pd.merge(adsl, maxsev_resp, on='USUBJID', how='left', indicator=True)\n"
   ]
  },
  {
   "cell_type": "code",
   "execution_count": 17,
   "id": "44b3288f",
   "metadata": {},
   "outputs": [],
   "source": [
    "\n",
    "# Create event indicators and values\n",
    "def process_resp_events(row):\n",
    "    if row['_merge'] == 'both':  # Subject has respiratory data\n",
    "        row['CNSR'] = 0\n",
    "        row['AVAL'] = row['ADY']\n",
    "        row['EVNTDESC'] = 'Maximum Respiratory Rate'\n",
    "    else:  # Subject has no respiratory data\n",
    "        row['ADT'] = np.nan\n",
    "        row['AVAL'] = np.nan\n",
    "        row['CNSR'] = np.nan\n",
    "        row['EVNTDESC'] = ''\n",
    "    return row\n",
    "\n",
    "comb_resp = comb_resp.apply(process_resp_events, axis=1)\n",
    "\n",
    "# Add respiratory-specific parameters\n",
    "comb2 = comb_resp.copy()\n",
    "comb2['PARAMCD'] = 'ERESPSYM'\n",
    "comb2['PARAM'] = 'Elevated Respiratory Rate Symptom'\n",
    "comb2['PARAMN'] = 2\n",
    "comb2['PARCAT1'] = 'Time to Event'\n",
    "comb2['PARAMTYP'] = 'DERIVED'\n",
    "comb2['AVALC'] = ''\n",
    "comb2['ADTF'] = ''\n",
    "comb2['ANL01FL'] = 'Y'\n"
   ]
  },
  {
   "cell_type": "code",
   "execution_count": 18,
   "id": "660cf9b9",
   "metadata": {},
   "outputs": [],
   "source": [
    "\n",
    "# Combine both datasets\n",
    "all_data = pd.concat([comb1, comb2], ignore_index=True)\n",
    "\n",
    "# Add additional variables\n",
    "all_data['AVALU'] = 'DAYS'\n",
    "all_data['STARTDTF'] = ''\n",
    "all_data['CNSDTDSC'] = ''\n",
    "\n",
    "# Sort by USUBJID\n",
    "all_data = all_data.sort_values('USUBJID').reset_index(drop=True)\n"
   ]
  },
  {
   "cell_type": "code",
   "execution_count": 19,
   "id": "05857900",
   "metadata": {},
   "outputs": [],
   "source": [
    "\n",
    "# Select final variables (equivalent to KEEP statement)\n",
    "final_vars = [\n",
    "    'STUDYID', 'USUBJID', 'SUBJID', 'SITEID', 'AGE', 'AGEU', 'SEX', 'RACE', \n",
    "    'ETHNIC', 'COUNTRY', 'SAFFL', 'ITTFL', 'PPROTFL', 'RANDFL', 'TRT01P', \n",
    "    'TRT01PN', 'TRT01A', 'TRT01AN', 'TRTSDT', 'TRTEDT', 'PARAM', 'PARAMN', \n",
    "    'PARAMCD', 'PARCAT1', 'PARAMTYP', 'AVAL', 'AVALU', 'STARTDT', 'STARTDTF', \n",
    "    'ADT', 'ADTF', 'ADY', 'CNSR', 'EVNTDESC', 'CNSDTDSC', 'ANL01FL'\n",
    "]"
   ]
  },
  {
   "cell_type": "code",
   "execution_count": 20,
   "id": "351b13f6",
   "metadata": {},
   "outputs": [],
   "source": [
    "\n",
    "# Keep only the required variables that exist in the dataset\n",
    "available_vars = [var for var in final_vars if var in all_data.columns]\n",
    "missing_vars = [var for var in final_vars if var not in all_data.columns]"
   ]
  },
  {
   "cell_type": "code",
   "execution_count": 21,
   "id": "c0e5c178",
   "metadata": {},
   "outputs": [],
   "source": [
    "adtte = all_data[available_vars].copy()"
   ]
  },
  {
   "cell_type": "code",
   "execution_count": 22,
   "id": "420e8aad",
   "metadata": {},
   "outputs": [],
   "source": [
    "column_labels = {\n",
    "'STUDYID': \"Study Identifier\",\n",
    "'USUBJID': \"Unique Subject Identifier\",\n",
    "'SUBJID': \"Subject Identifier for the Study\",\n",
    "'SITEID': \"Study Site Identifier\",\n",
    "'AGE': \"Age\",\n",
    "'AGEU': \"Age Units\",\n",
    "'SEX': \"Sex\",\n",
    "'RACE': \"Race\",\n",
    "'ETHNIC': \"Ethnicity\",\n",
    "'COUNTRY': \"Country\",\n",
    "'SAFFL': \"Safety Population Flag\",\n",
    "'ITTFL': \"Intent-To-Treat Population Flag\",\n",
    "'PPROTFL': \"Per-Protocol Population Flag\",\n",
    "'RANDFL': \"Randomized Population Flag\",\n",
    "'TRT01P': \"Planned Treatment for Period 01\",\n",
    "'TRT01PN': \"Planned Treatment for Period 01 (N)\",\n",
    "'TRT01A': \"Actual Treatment for Period 01\",\n",
    "'TRT01AN': \"Actual Treatment for Period 01 (N)\",\n",
    "'TRTSDT': \"Date of First Exposure to Treatment\",\n",
    "}"
   ]
  },
  {
   "cell_type": "code",
   "execution_count": 23,
   "id": "e8fd467a",
   "metadata": {},
   "outputs": [],
   "source": [
    "adtte.attrs['column_labels'] = column_labels"
   ]
  },
  {
   "cell_type": "code",
   "execution_count": 16,
   "id": "c67feaa1",
   "metadata": {},
   "outputs": [
    {
     "name": "stdout",
     "output_type": "stream",
     "text": [
      "STUDYID: Study Identifier\n",
      "USUBJID: Unique Subject Identifier\n",
      "SUBJID: Subject Identifier for the Study\n",
      "SITEID: Study Site Identifier\n",
      "AGE: Age\n",
      "AGEU: Age Units\n",
      "SEX: Sex\n",
      "RACE: Race\n",
      "ETHNIC: Ethnicity\n",
      "COUNTRY: Country\n",
      "SAFFL: Safety Population Flag\n",
      "ITTFL: Intent-To-Treat Population Flag\n",
      "PPROTFL: Per-Protocol Population Flag\n",
      "RANDFL: Randomized Population Flag\n",
      "TRT01P: Planned Treatment for Period 01\n",
      "TRT01PN: Planned Treatment for Period 01 (N)\n",
      "TRT01A: Actual Treatment for Period 01\n",
      "TRT01AN: Actual Treatment for Period 01 (N)\n",
      "TRTEDT: \n",
      "PARAM: \n",
      "PARAMN: \n",
      "PARAMCD: \n",
      "PARCAT1: \n",
      "PARAMTYP: \n",
      "AVAL: \n",
      "AVALU: \n",
      "STARTDTF: \n",
      "ADT: \n",
      "ADTF: \n",
      "ADY: \n",
      "CNSR: \n",
      "EVNTDESC: \n",
      "CNSDTDSC: \n",
      "ANL01FL: \n"
     ]
    }
   ],
   "source": [
    "for col in adtte.columns:\n",
    "    label = adtte.attrs.get('column_labels', {}).get(col, '')\n",
    "    print(f\"{col}: {label}\")"
   ]
  },
  {
   "cell_type": "code",
   "execution_count": 24,
   "id": "7231f612",
   "metadata": {},
   "outputs": [
    {
     "name": "stdout",
     "output_type": "stream",
     "text": [
      "ADAE dataset created successfully with 232 subjects and 34 variables.\n",
      "Dataset saved to: E:/Python Clinical Course/ADAM datasets/ADTTE.csv\n",
      "\n",
      "Dataset Info:\n",
      "Shape: (232, 34)\n",
      "Columns: ['STUDYID', 'USUBJID', 'SUBJID', 'SITEID', 'AGE', 'AGEU', 'SEX', 'RACE', 'ETHNIC', 'COUNTRY', 'SAFFL', 'ITTFL', 'PPROTFL', 'RANDFL', 'TRT01P', 'TRT01PN', 'TRT01A', 'TRT01AN', 'TRTEDT', 'PARAM', 'PARAMN', 'PARAMCD', 'PARCAT1', 'PARAMTYP', 'AVAL', 'AVALU', 'STARTDTF', 'ADT', 'ADTF', 'ADY', 'CNSR', 'EVNTDESC', 'CNSDTDSC', 'ANL01FL']\n"
     ]
    }
   ],
   "source": [
    "#  Save the final dataset\n",
    "output = \"E:/Python Clinical Course/ADAM datasets\"\n",
    "output_path = f\"{output}/ADTTE.csv\"\n",
    "adtte.to_csv(output_path, index=False)\n",
    "\n",
    "print(f\"ADAE dataset created successfully with {len(adtte)} subjects and {len(adtte.columns)} variables.\")\n",
    "print(f\"Dataset saved to: {output_path}\")\n",
    "\n",
    "# Display basic info about the dataset\n",
    "print(\"\\nDataset Info:\")\n",
    "print(f\"Shape: {adtte.shape}\")\n",
    "print(f\"Columns: {list(adtte.columns)}\")"
   ]
  }
 ],
 "metadata": {
  "kernelspec": {
   "display_name": "Python 3",
   "language": "python",
   "name": "python3"
  },
  "language_info": {
   "codemirror_mode": {
    "name": "ipython",
    "version": 3
   },
   "file_extension": ".py",
   "mimetype": "text/x-python",
   "name": "python",
   "nbconvert_exporter": "python",
   "pygments_lexer": "ipython3",
   "version": "3.13.4"
  }
 },
 "nbformat": 4,
 "nbformat_minor": 5
}
