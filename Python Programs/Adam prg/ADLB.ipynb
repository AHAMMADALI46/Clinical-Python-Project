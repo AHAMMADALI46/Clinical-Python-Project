{
 "cells": [
  {
   "cell_type": "code",
   "execution_count": 1,
   "id": "d99ae4bc",
   "metadata": {},
   "outputs": [
    {
     "name": "stdout",
     "output_type": "stream",
     "text": [
      "Logging hadn't been started.\n",
      "Activating auto-logging. Current session state plus future input saved.\n",
      "Filename       : E:/Python Clinical Course/ADLB log.txt\n",
      "Mode           : backup\n",
      "Output logging : True\n",
      "Raw input log  : False\n",
      "Timestamping   : True\n",
      "State          : active\n"
     ]
    }
   ],
   "source": [
    "#To remove all variables from the namespace\n",
    "%reset -f\n",
    "\n",
    "#Creating a log file to record the commands and outputs\n",
    "%logstop\n",
    "%logstart -t -o \"E:/Python Clinical Course/ADLB log.txt\""
   ]
  },
  {
   "cell_type": "code",
   "execution_count": 2,
   "id": "14d8f36a",
   "metadata": {},
   "outputs": [],
   "source": [
    "import pandas as pd\n",
    "import numpy as np\n",
    "import os\n",
    "import pyreadstat\n",
    "from datetime import datetime\n",
    "from pathlib import Path\n",
    "\n",
    "# Define paths (adjust these to your actual paths)\n",
    "adam_path = r\"E:\\Python Clinical Course\\ADAM datasets\\ADaM Datasets\"\n",
    "sdtm_path = r\"E:\\Python Clinical Course\\SDTM\"\n",
    "raw_path = r\"E:\\Python Clinical Course\\RAW\"\n"
   ]
  },
  {
   "cell_type": "code",
   "execution_count": 3,
   "id": "942f5cf4",
   "metadata": {},
   "outputs": [],
   "source": [
    "sdtm_datasets = {}\n",
    "\n",
    "for file in os.listdir(sdtm_path):\n",
    "    if file.endswith(\".sas7bdat\"):\n",
    "        dataset_name = file.replace(\".sas7bdat\", \"\")\n",
    "        file_path = os.path.join(sdtm_path, file)\n",
    "        df, meta = pyreadstat.read_sas7bdat(file_path)\n",
    "        sdtm_datasets[dataset_name] = df"
   ]
  },
  {
   "cell_type": "code",
   "execution_count": 4,
   "id": "90a88c09",
   "metadata": {},
   "outputs": [],
   "source": [
    "\n",
    "# 1) Read the main SDTM dataset\n",
    "lb1 = sdtm_datasets.get(\"lb\")\n",
    "lb1 = lb1.drop(columns=['ARM', 'ACTARM'], errors='ignore')\n",
    "lb1 = lb1.sort_values(['USUBJID', 'LBSEQ']).reset_index(drop=True)\n"
   ]
  },
  {
   "cell_type": "code",
   "execution_count": 5,
   "id": "c5a8c2d0",
   "metadata": {},
   "outputs": [],
   "source": [
    "\n",
    "# 2) Process SUPPLB dataset\n",
    "supplb = sdtm_datasets.get(\"supplb\")\n",
    "supplb['LBSEQ'] = pd.to_numeric(supplb['IDVARVAL'], errors='coerce')\n",
    "supplb = supplb.sort_values(['USUBJID', 'LBSEQ']).reset_index(drop=True)\n"
   ]
  },
  {
   "cell_type": "code",
   "execution_count": 6,
   "id": "d250c00e",
   "metadata": {},
   "outputs": [],
   "source": [
    "\n",
    "# Transpose SUPPLB\n",
    "supplb_pivot = supplb.pivot_table(\n",
    "    index=['USUBJID', 'LBSEQ'], \n",
    "    columns='QNAM', \n",
    "    values='QVAL', \n",
    "    aggfunc='first'\n",
    ").reset_index()\n"
   ]
  },
  {
   "cell_type": "code",
   "execution_count": 7,
   "id": "6c77c61a",
   "metadata": {},
   "outputs": [],
   "source": [
    "\n",
    "# 3) Merge LB with transposed SUPPLB\n",
    "lb2 = pd.merge(lb1, supplb_pivot, on=['USUBJID', 'LBSEQ'], how='left')\n"
   ]
  },
  {
   "cell_type": "code",
   "execution_count": 9,
   "id": "182bb3a7",
   "metadata": {},
   "outputs": [],
   "source": [
    "adam_datasets = {}\n",
    "\n",
    "for file in os.listdir(adam_path):\n",
    "    if file.endswith(\".sas7bdat\"):\n",
    "        dataset_name = file.replace(\".sas7bdat\", \"\")\n",
    "        file_path = os.path.join(adam_path, file)\n",
    "        df, meta = pyreadstat.read_sas7bdat(file_path)\n",
    "        adam_datasets[dataset_name] = df\n"
   ]
  },
  {
   "cell_type": "code",
   "execution_count": 10,
   "id": "68bbf2f9",
   "metadata": {},
   "outputs": [],
   "source": [
    "\n",
    "# 4) Merge with ADSL\n",
    "adsl = adam_datasets.get(\"adsl\")\n",
    "lb3 = pd.merge(lb2, adsl, on='USUBJID', how='inner')\n"
   ]
  },
  {
   "cell_type": "code",
   "execution_count": 11,
   "id": "54cde7af",
   "metadata": {},
   "outputs": [],
   "source": [
    "\n",
    "# 5) Create derived variables\n",
    "lb4 = lb3.copy()\n",
    "\n",
    "# PARCAT1\n",
    "lb4['PARCAT1'] = lb4['LBCAT']\n",
    "\n",
    "# AVISIT and AVISITN logic\n",
    "lb4['AVISIT'] = lb4['VISIT']\n",
    "lb4['AVISITN'] = lb4['VISITNUM']\n"
   ]
  },
  {
   "cell_type": "code",
   "execution_count": 12,
   "id": "964266f0",
   "metadata": {},
   "outputs": [],
   "source": [
    "\n",
    "# Handle unscheduled visits\n",
    "unscheduled_mask = lb4['VISIT'].str.contains('UNSCHEDULED', case=False, na=False)\n",
    "lb4.loc[unscheduled_mask, 'AVISIT'] = np.nan\n",
    "lb4.loc[unscheduled_mask, 'AVISITN'] = np.nan\n"
   ]
  },
  {
   "cell_type": "code",
   "execution_count": 13,
   "id": "19efbd0a",
   "metadata": {},
   "outputs": [],
   "source": [
    "\n",
    "# Baseline flag logic\n",
    "baseline_mask = lb4['LBBLFL'] == 'Y'\n",
    "lb4.loc[baseline_mask, 'AVISIT'] = 'Baseline'\n",
    "lb4.loc[baseline_mask, 'AVISITN'] = 1\n"
   ]
  },
  {
   "cell_type": "code",
   "execution_count": 14,
   "id": "7129ae39",
   "metadata": {},
   "outputs": [],
   "source": [
    "\n",
    "# PARAM creation\n",
    "def create_param(row):\n",
    "    if pd.notna(row['LBSTRESU']) and row['LBSTRESU'] != '':\n",
    "        return f\"{row['LBTEST'].strip()} ({row['LBSTRESU'].strip()})\"\n",
    "    else:\n",
    "        return row['LBTEST'].strip() if pd.notna(row['LBTEST']) else ''\n",
    "\n",
    "lb4['PARAM'] = lb4.apply(create_param, axis=1)\n",
    "lb4['PARAMCD'] = lb4['LBTESTCD']\n",
    "\n",
    "# Standard range variables\n",
    "lb4['ANRLO'] = lb4['LBSTNRLO']\n",
    "lb4['ANRHI'] = lb4['LBSTNRHI']\n",
    "lb4['ANRIND'] = lb4['LBNRIND']\n",
    "\n",
    "# Treatment variables\n",
    "lb4['TRTP'] = lb4['TRT01P']\n",
    "lb4['TRTPN'] = lb4['TRT01PN']\n",
    "lb4['TRTA'] = lb4['TRT01A']\n",
    "lb4['TRTAN'] = lb4['TRT01AN']\n",
    "\n",
    "# Analysis values\n",
    "lb4['AVAL'] = lb4['LBSTRESN']\n",
    "lb4['AVALC'] = lb4['LBSTRESC']\n"
   ]
  },
  {
   "cell_type": "code",
   "execution_count": 16,
   "id": "b7607403",
   "metadata": {},
   "outputs": [],
   "source": [
    "\n",
    "def process_datetime(dtc_str):\n",
    "    if pd.isna(dtc_str) or dtc_str == '':\n",
    "        return None, None, None\n",
    "\n",
    "    try:\n",
    "        dt = pd.to_datetime(dtc_str, errors='coerce')\n",
    "        if pd.isna(dt):\n",
    "            return None, None, None\n",
    "        date_part = dt.date()\n",
    "        time_part = dt.time() if 'T' in str(dtc_str) else None\n",
    "        return date_part, dt, time_part\n",
    "    except Exception:\n",
    "        return None, None, None\n",
    "\n",
    "# Apply datetime processing\n",
    "datetime_results = lb4['LBDTC'].apply(process_datetime)\n",
    "lb4['ADT'] = [x[0] for x in datetime_results]\n",
    "lb4['ADTM'] = [x[1] for x in datetime_results]\n",
    "lb4['ATM'] = [x[2] for x in datetime_results]\n"
   ]
  },
  {
   "cell_type": "code",
   "execution_count": 17,
   "id": "96a55b48",
   "metadata": {},
   "outputs": [],
   "source": [
    "\n",
    "# Study day calculation\n",
    "def calculate_ady(adt, trtsdt):\n",
    "    if pd.isna(adt) or pd.isna(trtsdt):\n",
    "        return np.nan\n",
    "    \n",
    "    adt = pd.to_datetime(adt)\n",
    "    trtsdt = pd.to_datetime(trtsdt)\n",
    "    \n",
    "    if adt < trtsdt:\n",
    "        return (adt - trtsdt).days\n",
    "    else:\n",
    "        return (adt - trtsdt).days + 1\n",
    "\n",
    "lb4['ADY'] = lb4.apply(lambda row: calculate_ady(row['ADT'], row['TRTSDT']), axis=1)\n"
   ]
  },
  {
   "cell_type": "code",
   "execution_count": 18,
   "id": "b4f6a502",
   "metadata": {},
   "outputs": [],
   "source": [
    "\n",
    "# 6) Create PARAMN\n",
    "\n",
    "lb4 = lb4.sort_values('LBTESTCD').reset_index(drop=True)\n",
    "param_map = pd.DataFrame({'LBTESTCD': lb4['LBTESTCD'].unique()})\n",
    "param_map['PARAMN'] = range(1, len(param_map) + 1)\n",
    "lb4 = pd.merge(lb4, param_map, on='LBTESTCD', how='left')\n"
   ]
  },
  {
   "cell_type": "code",
   "execution_count": 19,
   "id": "e37a7225",
   "metadata": {},
   "outputs": [],
   "source": [
    "\n",
    "# 7) Baseline processing\n",
    "lb4 = lb4.sort_values(['USUBJID', 'PARAMN', 'AVISITN', 'ADT']).reset_index(drop=True)\n",
    "\n",
    "# Create subset for baseline calculation\n",
    "lb5 = lb4[['USUBJID', 'PARAMN', 'PARAM', 'ADT', 'ADTM', 'AVAL', 'AVALC', 'TRTSDT', 'AVISITN']].copy()\n"
   ]
  },
  {
   "cell_type": "code",
   "execution_count": 20,
   "id": "ace0eee1",
   "metadata": {},
   "outputs": [],
   "source": [
    "\n",
    "# Filter for baseline candidates (before or on treatment start date)\n",
    "lb6 = lb5[\n",
    "    (lb5['ADT'].notna()) & \n",
    "    (lb5['ADT'] <= lb5['TRTSDT']) & \n",
    "    ((lb5['AVAL'].notna()) | (lb5['AVALC'].notna() & (lb5['AVALC'] != '')))\n",
    "].copy()\n",
    "\n",
    "# Get last observation per parameter before treatment\n",
    "lb7 = lb6.groupby(['USUBJID', 'PARAMN']).last().reset_index()\n",
    "lb7 = lb7[['USUBJID', 'PARAMN', 'AVISITN']]\n",
    "\n",
    "# Mark baseline records\n",
    "lb8 = pd.merge(lb4, lb7, on=['USUBJID', 'PARAMN', 'AVISITN'], how='left', indicator=True)\n",
    "lb8['ABLFL'] = np.where(lb8['_merge'] == 'both', 'Y', '')\n",
    "lb8 = lb8.drop('_merge', axis=1)\n"
   ]
  },
  {
   "cell_type": "code",
   "execution_count": 21,
   "id": "59e9463b",
   "metadata": {},
   "outputs": [],
   "source": [
    "\n",
    "# 8) Calculate baseline values and changes\n",
    "lb9 = lb8.sort_values(['USUBJID', 'PARAMN', 'AVISITN']).reset_index(drop=True)\n",
    "\n",
    "# Initialize baseline columns\n",
    "lb9['BASE'] = np.nan\n",
    "lb9['BASEC'] = ''\n",
    "lb9['BNRIND'] = ''\n",
    "lb9['CHG'] = np.nan\n",
    "lb9['PCHG'] = np.nan\n",
    "\n",
    "# Calculate baseline values and changes\n",
    "for (usubjid, paramn), group in lb9.groupby(['USUBJID', 'PARAMN']):\n",
    "    baseline_idx = group[group['ABLFL'] == 'Y'].index\n",
    "    \n",
    "    if len(baseline_idx) > 0:\n",
    "        baseline_row = group.loc[baseline_idx[0]]\n",
    "        base_val = baseline_row['AVAL']\n",
    "        base_char = baseline_row['AVALC']\n",
    "        base_nrind = baseline_row['LBNRIND']\n",
    "        \n",
    "        # Set baseline values for all records of this parameter\n",
    "        lb9.loc[group.index, 'BASE'] = base_val\n",
    "        lb9.loc[group.index, 'BASEC'] = base_char\n",
    "        lb9.loc[group.index, 'BNRIND'] = base_nrind\n",
    "        \n",
    "        # Calculate changes for non-baseline records\n",
    "        non_baseline_idx = group[group['ABLFL'] != 'Y'].index\n",
    "        for idx in non_baseline_idx:\n",
    "            aval = lb9.loc[idx, 'AVAL']\n",
    "            if pd.notna(aval) and pd.notna(base_val):\n",
    "                lb9.loc[idx, 'CHG'] = aval - base_val\n",
    "                if base_val != 0:\n",
    "                    lb9.loc[idx, 'PCHG'] = ((aval - base_val) / base_val) * 100\n",
    "\n",
    "# ANL01FL flag for scheduled visits\n",
    "lb9['ANL01FL'] = np.where(\n",
    "    ~lb9['VISIT'].str.contains('UNSCHEDULED', case=False, na=False), \n",
    "    'Y', \n",
    "    ''\n",
    ")\n"
   ]
  },
  {
   "cell_type": "code",
   "execution_count": 22,
   "id": "db111775",
   "metadata": {},
   "outputs": [],
   "source": [
    "\n",
    "# 9) Final dataset with proper column order\n",
    "final_columns = [\n",
    "    'STUDYID', 'USUBJID', 'SUBJID', 'SITEID', 'AGE', 'AGEU', 'SEX', 'RACE', \n",
    "    'ETHNIC', 'COUNTRY', 'SAFFL', 'ITTFL', 'PPROTFL', 'RANDFL', 'TRTP', 'TRTPN', \n",
    "    'TRTA', 'TRTAN', 'TRTSDTM', 'TRTSDT', 'TRTEDTM', 'TRTEDT', 'ADTM', 'ADT', \n",
    "    'ATM', 'ADY', 'PARCAT1', 'PARAM', 'PARAMN', 'PARAMCD', 'AVAL', 'AVALC', \n",
    "    'ABLFL', 'BASE', 'BASEC', 'CHG', 'PCHG', 'ANRLO', 'ANRHI', 'ANRIND', \n",
    "    'BNRIND', 'VISITNUM', 'VISIT', 'AVISIT', 'AVISITN', 'ANL01FL'\n",
    "]\n"
   ]
  },
  {
   "cell_type": "code",
   "execution_count": 23,
   "id": "f1345d67",
   "metadata": {},
   "outputs": [],
   "source": [
    "existing_columns = [col for col in final_columns if col in lb9.columns]"
   ]
  },
  {
   "cell_type": "code",
   "execution_count": 24,
   "id": "49d2531f",
   "metadata": {},
   "outputs": [],
   "source": [
    "lb10 = lb9[existing_columns].copy()"
   ]
  },
  {
   "cell_type": "code",
   "execution_count": 25,
   "id": "3c36d9f2",
   "metadata": {},
   "outputs": [],
   "source": [
    "column_labels = {\n",
    "'STUDYID': \"Study Identifier\",\n",
    "'USUBJID': \"Unique Subject Identifier\",\n",
    "'SUBJID': \"Subject Identifier for the Study\",\n",
    "'SITEID': \"Study Site Identifier\",\n",
    "'AGE': \"Age\",\n",
    "'AGEU': \"Age Units\",\n",
    "'SEX': \"Sex\",\n",
    "'RACE': \"Race\",\n",
    "'ETHNIC': \"Ethnicity\",\n",
    "'COUNTRY': \"Country\",\n",
    "'SAFFL': \"Safety Population Flag\",\n",
    "'ITTFL': \"Intent-To-Treat Population Flag\",\n",
    "'PPROTFL': \"Per-Protocol Population Flag\",\n",
    "'RANDFL': \"Randomized Population Flag\",\n",
    "'TRTP': \"Planned Treatment\",\n",
    "'TRTPN': \"Planned Treatment (N)\",\n",
    "'TRTA': \"Actual Treatment\",\n",
    "'TRTAN': \"Actual Treatment (N)\",\n",
    "'TRTSDTM': \"Datetime of First Exposure to Treatment\",\n",
    "'TRTSDT': \"Date of First Exposure to Treatment\",\n",
    "'TRTEDTM': \"Datetime of Last Exposure to Treatment\",\n",
    "'TRTEDT': \"Date of Last Exposure to Treatment\",\n",
    "'ADTM ': \"Analysis Datetime\",\n",
    "'ADT ': \"Analysis Date\",\n",
    "'ATM ': \"Analysis Time\",\n",
    "'ADY ': \"Analysis Relative Day\",\n",
    "'PARCAT1 ': \"Parameter Category 1\",\n",
    "'PARAM ': \"Parameter\",\n",
    "'PARAMN': \"Parameter (N)\",\n",
    "'PARAMCD ': \"Parameter Code\",\n",
    "'AVAL': \"Analysis Value\",\n",
    "'AVALC ': \"Analysis Value (C)\",\n",
    "'ABLFL ': \"Baseline Record Flag\",\n",
    "'BASE ': \"Baseline Value\",\n",
    "'BASEC ': \"Baseline Value (C)\",\n",
    "'CHG ': \"Change from Baseline\",\n",
    "'PCHG ': \"Percent Change from Baseline\",\n",
    "'ANRLO': \"Analysis Normal Range Lower Limit\",\n",
    "'ANRHI': \"Analysis Normal Range Upper Limit\",\n",
    "'ANRIND': \"Analysis Reference Range Indicator\",\n",
    "'BNRIND': \"Baseline Reference Range Indicator\",\n",
    "'VISITNUM ': \"Visit Number\",\n",
    "'VISIT ': \"Visit Name\",\n",
    "'AVISIT ': \"Analysis Visit\",\n",
    "'AVISITN ': \"Analysis Visit (N)\",\n",
    "'ANL01FL': \"Analysis Flag 01\",\n",
    "}"
   ]
  },
  {
   "cell_type": "code",
   "execution_count": 26,
   "id": "9e5155da",
   "metadata": {},
   "outputs": [],
   "source": [
    "lb10.attrs['column_labels'] = column_labels"
   ]
  },
  {
   "cell_type": "code",
   "execution_count": 27,
   "id": "dcd70c84",
   "metadata": {},
   "outputs": [
    {
     "name": "stdout",
     "output_type": "stream",
     "text": [
      "USUBJID: Unique Subject Identifier\n",
      "SUBJID: Subject Identifier for the Study\n",
      "SITEID: Study Site Identifier\n",
      "AGE: Age\n",
      "AGEU: Age Units\n",
      "SEX: Sex\n",
      "RACE: Race\n",
      "ETHNIC: Ethnicity\n",
      "COUNTRY: Country\n",
      "SAFFL: Safety Population Flag\n",
      "ITTFL: Intent-To-Treat Population Flag\n",
      "PPROTFL: Per-Protocol Population Flag\n",
      "RANDFL: Randomized Population Flag\n",
      "TRTP: Planned Treatment\n",
      "TRTPN: Planned Treatment (N)\n",
      "TRTA: Actual Treatment\n",
      "TRTAN: Actual Treatment (N)\n",
      "TRTSDTM: Datetime of First Exposure to Treatment\n",
      "TRTSDT: Date of First Exposure to Treatment\n",
      "TRTEDTM: Datetime of Last Exposure to Treatment\n",
      "TRTEDT: Date of Last Exposure to Treatment\n",
      "ADTM: \n",
      "ADT: \n",
      "ATM: \n",
      "ADY: \n",
      "PARCAT1: \n",
      "PARAM: \n",
      "PARAMN: Parameter (N)\n",
      "PARAMCD: \n",
      "AVAL: Analysis Value\n",
      "AVALC: \n",
      "ABLFL: \n",
      "BASE: \n",
      "BASEC: \n",
      "CHG: \n",
      "PCHG: \n",
      "ANRLO: Analysis Normal Range Lower Limit\n",
      "ANRHI: Analysis Normal Range Upper Limit\n",
      "ANRIND: Analysis Reference Range Indicator\n",
      "BNRIND: Baseline Reference Range Indicator\n",
      "VISITNUM: \n",
      "VISIT: \n",
      "AVISIT: \n",
      "AVISITN: \n",
      "ANL01FL: Analysis Flag 01\n"
     ]
    }
   ],
   "source": [
    "for col in lb10.columns:\n",
    "    label = lb10.attrs.get('column_labels', {}).get(col, '')\n",
    "    print(f\"{col}: {label}\")"
   ]
  },
  {
   "cell_type": "code",
   "execution_count": 28,
   "id": "c7c2552c",
   "metadata": {},
   "outputs": [
    {
     "name": "stdout",
     "output_type": "stream",
     "text": [
      "ADLB dataset created successfully with 2938 subjects and 45 variables.\n",
      "Dataset saved to: E:/Python Clinical Course/ADAM datasets/ADLB.csv\n",
      "\n",
      "Dataset Info:\n",
      "Shape: (2938, 45)\n",
      "Columns: ['USUBJID', 'SUBJID', 'SITEID', 'AGE', 'AGEU', 'SEX', 'RACE', 'ETHNIC', 'COUNTRY', 'SAFFL', 'ITTFL', 'PPROTFL', 'RANDFL', 'TRTP', 'TRTPN', 'TRTA', 'TRTAN', 'TRTSDTM', 'TRTSDT', 'TRTEDTM', 'TRTEDT', 'ADTM', 'ADT', 'ATM', 'ADY', 'PARCAT1', 'PARAM', 'PARAMN', 'PARAMCD', 'AVAL', 'AVALC', 'ABLFL', 'BASE', 'BASEC', 'CHG', 'PCHG', 'ANRLO', 'ANRHI', 'ANRIND', 'BNRIND', 'VISITNUM', 'VISIT', 'AVISIT', 'AVISITN', 'ANL01FL']\n"
     ]
    }
   ],
   "source": [
    "\n",
    "#  Save the final dataset\n",
    "output = \"E:/Python Clinical Course/ADAM datasets\"\n",
    "output_path = f\"{output}/ADLB.csv\"\n",
    "lb10.to_csv(output_path, index=False)\n",
    "\n",
    "print(f\"ADLB dataset created successfully with {len(lb10)} subjects and {len(lb10.columns)} variables.\")\n",
    "print(f\"Dataset saved to: {output_path}\")\n",
    "\n",
    "# Display basic info about the dataset\n",
    "print(\"\\nDataset Info:\")\n",
    "print(f\"Shape: {lb10.shape}\")\n",
    "print(f\"Columns: {list(lb10.columns)}\")\n"
   ]
  }
 ],
 "metadata": {
  "kernelspec": {
   "display_name": "Python 3",
   "language": "python",
   "name": "python3"
  },
  "language_info": {
   "codemirror_mode": {
    "name": "ipython",
    "version": 3
   },
   "file_extension": ".py",
   "mimetype": "text/x-python",
   "name": "python",
   "nbconvert_exporter": "python",
   "pygments_lexer": "ipython3",
   "version": "3.13.4"
  }
 },
 "nbformat": 4,
 "nbformat_minor": 5
}
