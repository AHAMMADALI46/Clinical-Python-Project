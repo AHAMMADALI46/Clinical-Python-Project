{
 "cells": [
  {
   "cell_type": "code",
   "execution_count": 1,
   "id": "5c3dcbb0",
   "metadata": {},
   "outputs": [],
   "source": [
    "#To remove all variables from the namespace\n",
    "%reset -f\n"
   ]
  },
  {
   "cell_type": "code",
   "execution_count": 2,
   "id": "594cae7c",
   "metadata": {},
   "outputs": [
    {
     "name": "stdout",
     "output_type": "stream",
     "text": [
      "Logging hadn't been started.\n"
     ]
    }
   ],
   "source": [
    "#Creating a log file to record the commands and outputs\n",
    "%logstop\n"
   ]
  },
  {
   "cell_type": "code",
   "execution_count": 3,
   "id": "6dd9f7a8",
   "metadata": {},
   "outputs": [
    {
     "name": "stdout",
     "output_type": "stream",
     "text": [
      "Activating auto-logging. Current session state plus future input saved.\n",
      "Filename       : E:/Python Clinical Course/ADSL log.txt\n",
      "Mode           : backup\n",
      "Output logging : True\n",
      "Raw input log  : False\n",
      "Timestamping   : True\n",
      "State          : active\n"
     ]
    }
   ],
   "source": [
    "%logstart -t -o \"E:/Python Clinical Course/ADSL log.txt\""
   ]
  },
  {
   "cell_type": "code",
   "execution_count": 4,
   "id": "9e44275b",
   "metadata": {},
   "outputs": [],
   "source": [
    "import pandas as pd\n",
    "import numpy as np\n",
    "from datetime import datetime\n",
    "import os\n",
    "import pyreadstat\n",
    "\n",
    "# Set up file paths (equivalent to libname statements)\n",
    "adam_path = \"E:/Python Clinical Course/ADAM datasets\"\n",
    "sdtm_path = \"E:/Python Clinical Course/SDTM\"\n",
    "raw_path = \"E:/Python Clinical Course/RAW\""
   ]
  },
  {
   "cell_type": "code",
   "execution_count": 5,
   "id": "89c41919",
   "metadata": {},
   "outputs": [],
   "source": [
    "sdtm_datasets = {}\n",
    "\n",
    "for file in os.listdir(sdtm_path):\n",
    "    if file.endswith(\".sas7bdat\"):\n",
    "        dataset_name = file.replace(\".sas7bdat\", \"\")\n",
    "        file_path = os.path.join(sdtm_path, file)\n",
    "        df, meta = pyreadstat.read_sas7bdat(file_path)\n",
    "        sdtm_datasets[dataset_name] = df\n"
   ]
  },
  {
   "cell_type": "code",
   "execution_count": 6,
   "id": "6a3b9aa0",
   "metadata": {},
   "outputs": [],
   "source": [
    "#df, meta = pyreadstat.read_sas7bdat(f\"{sdtm_path}/DM.sas7bdat\")"
   ]
  },
  {
   "cell_type": "code",
   "execution_count": 7,
   "id": "f01069fe",
   "metadata": {
    "slideshow": {
     "slide_type": "slide"
    }
   },
   "outputs": [],
   "source": [
    "dm1 = sdtm_datasets.get(\"dm\")\n",
    "suppdm = sdtm_datasets.get(\"suppdm\")\n",
    "vs = sdtm_datasets.get(\"vs\")\n",
    "ds = sdtm_datasets.get(\"ds\")\n",
    "sv = sdtm_datasets.get(\"sv\")\n",
    "face = sdtm_datasets.get(\"face\")\n"
   ]
  },
  {
   "cell_type": "code",
   "execution_count": 8,
   "id": "bb4dd8c2",
   "metadata": {},
   "outputs": [],
   "source": [
    "# Transpose SUPPDM (equivalent to PROC TRANSPOSE)\n",
    "suppdm_trans = suppdm.pivot_table(\n",
    "    index='USUBJID', \n",
    "    columns='QNAM', \n",
    "    values='QVAL', \n",
    "    aggfunc='first'\n",
    ").reset_index()"
   ]
  },
  {
   "cell_type": "code",
   "execution_count": 9,
   "id": "ce7a467e",
   "metadata": {},
   "outputs": [],
   "source": [
    "# Merge DM1 with transposed SUPPDM\n",
    "dm2 = pd.merge(dm1, suppdm_trans, on='USUBJID', how='left')\n"
   ]
  },
  {
   "cell_type": "code",
   "execution_count": 10,
   "id": "2d8f4193",
   "metadata": {},
   "outputs": [],
   "source": [
    "dm3 = dm2.copy()"
   ]
  },
  {
   "cell_type": "code",
   "execution_count": 11,
   "id": "60e03c66",
   "metadata": {},
   "outputs": [],
   "source": [
    "dm3['AGEGR1'] = np.where(\n",
    "    dm3['AGE'].notna(),\n",
    "    np.where(dm3['AGE'] < 40, '< 40 years old', '>= 40 years old'),\n",
    "    None\n",
    ")"
   ]
  },
  {
   "cell_type": "code",
   "execution_count": 12,
   "id": "f034ceba",
   "metadata": {},
   "outputs": [],
   "source": [
    "# Sex numeric conversion\n",
    "dm3['SEXN'] = dm3['SEX'].map({'F': 2, 'M': 1})\n"
   ]
  },
  {
   "cell_type": "code",
   "execution_count": 13,
   "id": "7bb8e86c",
   "metadata": {},
   "outputs": [],
   "source": [
    "\n",
    "# Race numeric conversion\n",
    "race_mapping = {\n",
    "    \"AMERICAN INDIAN OR ALASKA NATIVE\": 1,\n",
    "    \"ASIAN\": 2,\n",
    "    \"BLACK OR AFRICAN AMERICAN\": 3,\n",
    "    \"NATIVE HAWAIIAN OR OTHER PACIFIC ISLANDER\": 4,\n",
    "    \"WHITE\": 5,\n",
    "    \"OTHER\": 6,\n",
    "    \"NOT REPORTED\": 7,\n",
    "    \"\": 8,\n",
    "    None: 8\n",
    "}\n",
    "dm3['RACEN'] = dm3['RACE'].map(race_mapping)\n"
   ]
  },
  {
   "cell_type": "code",
   "execution_count": 14,
   "id": "90a59807",
   "metadata": {},
   "outputs": [],
   "source": [
    "\n",
    "# Ethnicity numeric conversion\n",
    "ethnic_mapping = {\n",
    "    \"HISPANIC OR LATINO\": 1,\n",
    "    \"NOT HISPANIC OR LATINO\": 2,\n",
    "    \"UNKNOWN\": 3,\n",
    "    \"NOT REPORTED\": 4\n",
    "}\n",
    "dm3['ETHNICN'] = dm3['ETHNIC'].map(ethnic_mapping)\n"
   ]
  },
  {
   "cell_type": "code",
   "execution_count": 15,
   "id": "66ca2a2f",
   "metadata": {},
   "outputs": [],
   "source": [
    "\n",
    "# Treatment assignments (Planned)\n",
    "dm3['TRT01P'] = np.where(dm3['ARMCD'] == 'TQ', 'Tafenoquine', \n",
    "                np.where(dm3['ARMCD'] == 'PLACEBO', 'Placebo', None))\n",
    "dm3['TRT01PN'] = np.where(dm3['ARMCD'] == 'TQ', 1, \n",
    "                 np.where(dm3['ARMCD'] == 'PLACEBO', 2, None))\n",
    "\n",
    "# Treatment assignments (Actual)\n",
    "dm3['TRT01A'] = np.where(dm3['ACTARMCD'] == 'TQ', 'Tafenoquine', \n",
    "                np.where(dm3['ACTARMCD'] == 'PLACEBO', 'Placebo', None))\n",
    "dm3['TRT01AN'] = np.where(dm3['ACTARMCD'] == 'TQ', 1, \n",
    "                 np.where(dm3['ACTARMCD'] == 'PLACEBO', 2, None))\n"
   ]
  },
  {
   "cell_type": "code",
   "execution_count": 16,
   "id": "484954dd",
   "metadata": {},
   "outputs": [],
   "source": [
    "\n",
    "# Date/time conversions\n",
    "def parse_iso8601_datetime(date_str):\n",
    "    \"\"\"Parse ISO8601 datetime string\"\"\"\n",
    "    if pd.isna(date_str) or date_str == '':\n",
    "        return None\n",
    "    try:\n",
    "        return pd.to_datetime(date_str, format='%Y-%m-%dT%H:%M:%S')\n",
    "    except:\n",
    "        try:\n",
    "            return pd.to_datetime(date_str)\n",
    "        except:\n",
    "            return None\n",
    "\n",
    "def parse_date_only(date_str):\n",
    "    \"\"\"Parse date string to date only\"\"\"\n",
    "    if pd.isna(date_str) or date_str == '':\n",
    "        return None\n",
    "    try:\n",
    "        return pd.to_datetime(date_str[:10], format='%Y-%m-%d').date()\n",
    "    except:\n",
    "        return None\n",
    "\n",
    "# Treatment start/end dates\n",
    "dm3['TRTSDTM'] = dm3['RFXSTDTC'].apply(parse_iso8601_datetime)\n",
    "dm3['TRTSDT'] = dm3['RFXSTDTC'].apply(parse_date_only)\n",
    "dm3['TRTEDTM'] = dm3['RFXENDTC'].apply(parse_iso8601_datetime)\n",
    "dm3['TRTEDT'] = dm3['RFXENDTC'].apply(parse_date_only)\n"
   ]
  },
  {
   "cell_type": "code",
   "execution_count": 17,
   "id": "223f6f60",
   "metadata": {},
   "outputs": [],
   "source": [
    "\n",
    "# Treatment duration\n",
    "dm3['TRTDURD'] = np.where(\n",
    "    (dm3['TRTEDT'].notna()) & (dm3['TRTSDT'].notna()),\n",
    "    (pd.to_datetime(dm3['TRTEDT']) - pd.to_datetime(dm3['TRTSDT'])).dt.days + 1,\n",
    "    None\n",
    ")\n"
   ]
  },
  {
   "cell_type": "code",
   "execution_count": 18,
   "id": "8704a61d",
   "metadata": {},
   "outputs": [],
   "source": [
    "\n",
    "# Flags\n",
    "dm3['SCRNFL'] = np.where(dm3['RFICDTC'].notna() & (dm3['RFICDTC'] != ''), 'Y', None)\n",
    "dm3['SAFFL'] = np.where(dm3['RFXSTDTC'].notna() & (dm3['RFXSTDTC'] != ''), 'Y', None)\n"
   ]
  },
  {
   "cell_type": "code",
   "execution_count": 19,
   "id": "0bc7c230",
   "metadata": {},
   "outputs": [],
   "source": [
    "\n",
    "# 4) Process Vital Signs for BMI calculation\n",
    "#vs = pd.read_csv(f\"{sdtm_path}/VS.csv\")\n",
    "vs_filtered = vs[\n",
    "    (vs['VSTESTCD'].isin(['HEIGHT', 'WEIGHT'])) & \n",
    "    (vs['VISIT'] == 'Screening/Day -4 to -1')\n",
    "][['USUBJID', 'VSTESTCD', 'VSSTRESN']]\n"
   ]
  },
  {
   "cell_type": "code",
   "execution_count": 20,
   "id": "180e13b4",
   "metadata": {},
   "outputs": [],
   "source": [
    "\n",
    "# Transpose vital signs\n",
    "vs_trans = vs_filtered.pivot_table(\n",
    "    index='USUBJID',\n",
    "    columns='VSTESTCD', \n",
    "    values='VSSTRESN',\n",
    "    aggfunc='first'\n",
    ").reset_index()\n",
    "if 'HEIGHT' in vs_trans.columns and 'WEIGHT' in vs_trans.columns:\n",
    "    vs_trans['BBMISI'] = (vs_trans['WEIGHT'] / (vs_trans['HEIGHT'] ** 2)) * 10000\n",
    "    vs_trans = vs_trans.rename(columns={'HEIGHT': 'BHGHTSI', 'WEIGHT': 'BWGHTSI'})\n"
   ]
  },
  {
   "cell_type": "code",
   "execution_count": 21,
   "id": "b0051c61",
   "metadata": {},
   "outputs": [],
   "source": [
    "\n",
    "# 5) Process Disposition dataset\n",
    "#ds = pd.read_csv(f\"{sdtm_path}/DS.csv\")\n",
    "\n",
    "# End of study status\n",
    "ds_eos = ds[\n",
    "    (ds['DSCAT'].str.upper() == 'DISPOSITION EVENT') & \n",
    "    (ds['DSSCAT'] == 'END OF STUDY/EARLY TERMINATION')\n",
    "].copy()\n",
    "\n",
    "ds_eos['EOSSTT'] = np.where(\n",
    "    ds_eos['DSDECOD'] == 'COMPLETED', 'Completed', 'Discontinued'\n",
    ")\n",
    "ds_eos['DCSREAS'] = ds_eos['DSDECOD']\n",
    "ds_eos['DCSREASP'] = np.where(\n",
    "    ds_eos['DSDECOD'] == 'OTHER', ds_eos['DSTERM'], None\n",
    ")\n"
   ]
  },
  {
   "cell_type": "code",
   "execution_count": 22,
   "id": "d00c440e",
   "metadata": {},
   "outputs": [],
   "source": [
    "\n",
    "# Screen failure\n",
    "ds_sf = ds[\n",
    "    (ds['DSCAT'].str.upper() == 'DISPOSITION EVENT') & \n",
    "    (ds['DSSCAT'] == 'SCREEN FAILURE')\n",
    "].copy()\n",
    "ds_sf['EOSSTT'] = 'Screen Failure'\n"
   ]
  },
  {
   "cell_type": "code",
   "execution_count": 23,
   "id": "c8b87698",
   "metadata": {},
   "outputs": [],
   "source": [
    "\n",
    "# Combine disposition data\n",
    "ds_combined = pd.concat([ds_eos, ds_sf], ignore_index=True)\n",
    "\n",
    "# End of study date\n",
    "ds_combined['EOSDT'] = ds_combined['DSSTDTC'].apply(parse_date_only)\n",
    "\n",
    "ds_final = ds_combined[ds_combined['EOSSTT'].notna()][\n",
    "    ['USUBJID', 'EOSSTT', 'EOSDT', 'DCSREAS', 'DCSREASP']\n",
    "]\n"
   ]
  },
  {
   "cell_type": "code",
   "execution_count": 24,
   "id": "2fb8201a",
   "metadata": {},
   "outputs": [],
   "source": [
    "\n",
    "# 6) Process randomization data\n",
    "rand = ds[\n",
    "    (ds['DSDECOD'] == 'RANDOMIZED') & \n",
    "    (ds['DSSTDTC'].notna()) & \n",
    "    (ds['DSSTDTC'] != '')\n",
    "].copy()\n"
   ]
  },
  {
   "cell_type": "code",
   "execution_count": 25,
   "id": "d4c15408",
   "metadata": {},
   "outputs": [],
   "source": [
    "\n",
    "rand['RANDDT'] = rand['DSSTDTC'].apply(parse_date_only)\n",
    "rand['RANDFL'] = 'Y'\n",
    "rand['ITTFL'] = 'Y'\n",
    "rand = rand[rand['RANDDT'].notna()][['USUBJID', 'RANDDT', 'RANDFL', 'ITTFL']]\n"
   ]
  },
  {
   "cell_type": "code",
   "execution_count": 26,
   "id": "d7c0721d",
   "metadata": {},
   "outputs": [],
   "source": [
    "\n",
    "# 7) Process Subject Visits\n",
    "#sv = pd.read_csv(f\"{sdtm_path}/SV.csv\")\n",
    "sv_visit15 = sv[sv['VISITNUM'] == 15][['USUBJID']].drop_duplicates()\n",
    "\n",
    "# 8) Process FACE data for COVID flags\n",
    "#face = pd.read_csv(f\"{sdtm_path}/FACE.csv\")\n",
    "\n",
    "# COVID Day 14 flag\n",
    "fa1 = face[\n",
    "    (face['FAOBJ'].str.upper().isin(['COUGH', 'SHORTNESS OF BREATH (DIFFICULTY BREATHING)'])) &\n",
    "    (face['VISITNUM'] <= 15)\n",
    "].copy()\n",
    "fa1['COVD14FL'] = 'Y'\n",
    "fa1 = fa1[['USUBJID', 'COVD14FL']].drop_duplicates()\n",
    "\n",
    "# COVID Day 28 flag\n",
    "fa2 = face[\n",
    "    (face['FAOBJ'].str.upper().isin(['COUGH', 'SHORTNESS OF BREATH (DIFFICULTY BREATHING)'])) &\n",
    "    (face['VISITNUM'] <= 28)\n",
    "].copy()\n",
    "fa2['COVD28FL'] = 'Y'\n",
    "fa2 = fa2[['USUBJID', 'COVD28FL']].drop_duplicates()\n"
   ]
  },
  {
   "cell_type": "code",
   "execution_count": 27,
   "id": "51c6f8a5",
   "metadata": {},
   "outputs": [],
   "source": [
    "\n",
    "# 9) Merge all datasets\n",
    "dm4 = dm3.merge(vs_trans, on='USUBJID', how='left')\n",
    "dm4 = dm4.merge(ds_final, on='USUBJID', how='left')\n",
    "dm4 = dm4.merge(rand, on='USUBJID', how='left')\n",
    "dm4 = dm4.merge(sv_visit15, on='USUBJID', how='left', indicator='_visit15')\n",
    "dm4 = dm4.merge(fa1, on='USUBJID', how='left')\n",
    "dm4 = dm4.merge(fa2, on='USUBJID', how='left')\n",
    "\n",
    "# Per-protocol flag logic\n",
    "dm4['PPROTFL'] = np.where(\n",
    "    (dm4['_visit15'] == 'both') & (dm4['ITTFL'] == 'Y'), 'Y', None\n",
    ")\n",
    "\n",
    "# Handle ongoing subjects\n",
    "dm4['EOSSTT'] = np.where(\n",
    "    (dm4['EOSSTT'].isna() | (dm4['EOSSTT'] == '')) & dm4['TRTSDT'].notna(),\n",
    "    'Ongoing',\n",
    "    dm4['EOSSTT']\n",
    ")\n",
    "\n",
    "# Fill missing ITTFL\n",
    "dm4['ITTFL'] = dm4['ITTFL'].fillna('N')\n"
   ]
  },
  {
   "cell_type": "code",
   "execution_count": 28,
   "id": "8c60a447",
   "metadata": {},
   "outputs": [],
   "source": [
    "\n",
    "# 10) Select final columns\n",
    "final_columns = [\n",
    "    'STUDYID', 'USUBJID', 'SUBJID', 'RFSTDTC', 'RFENDTC', 'RFXSTDTC', 'RFXENDTC',\n",
    "    'RFICDTC', 'RFPENDTC', 'DTHDTC', 'DTHFL', 'SITEID', 'BRTHDTC', 'AGE', 'AGEU',\n",
    "    'AGEGR1', 'SEX', 'SEXN', 'RACE', 'RACEN', 'ETHNIC', 'ETHNICN', 'ARMCD', 'ARM',\n",
    "    'ACTARMCD', 'ACTARM', 'COUNTRY', 'RANDFL', 'RANDDT', 'SCRNFL', 'SAFFL', 'ITTFL',\n",
    "    'PPROTFL', 'TRT01P', 'TRT01PN', 'TRT01A', 'TRT01AN', 'TRTSDTM', 'TRTSDT',\n",
    "    'TRTEDTM', 'TRTEDT', 'TRTDURD', 'EOSSTT', 'EOSDT', 'DCSREAS', 'DCSREASP',\n",
    "    'BBMISI', 'BHGHTSI', 'BWGHTSI', 'MFUV', 'VCYN', 'VCNUM', 'COVD14FL', 'COVD28FL',\n",
    "    'HOSPCOFL'\n",
    "]\n"
   ]
  },
  {
   "cell_type": "code",
   "execution_count": 29,
   "id": "86068af4",
   "metadata": {},
   "outputs": [],
   "source": [
    "\n",
    "# Select only columns that exist in the dataframe\n",
    "existing_columns = [col for col in final_columns if col in dm4.columns]\n"
   ]
  },
  {
   "cell_type": "code",
   "execution_count": 30,
   "id": "d2f7b1cd",
   "metadata": {},
   "outputs": [],
   "source": [
    "dm5 = dm4[existing_columns].copy()\n"
   ]
  },
  {
   "cell_type": "code",
   "execution_count": 31,
   "id": "5fe8733d",
   "metadata": {},
   "outputs": [],
   "source": [
    "\n",
    "# 11) Add column labels (as attributes or comments)\n",
    "column_labels = {\n",
    "    'STUDYID': \"Study Identifier\",\n",
    "    'USUBJID': \"Unique Subject Identifier\",\n",
    "    'SUBJID': \"Subject Identifier for the Study\",\n",
    "    'RFSTDTC': \"Subject Reference Start Date/Time\",\n",
    "    'RFENDTC': \"Subject Reference End Date/Time\",\n",
    "    'RFXSTDTC': \"Date/Time of First Study Treatment\",\n",
    "    'RFXENDTC': \"Date/Time of Last Study Treatment\",\n",
    "    'RFICDTC': \"Date/Time of Informed Consent\",\n",
    "    'RFPENDTC': \"Date/Time of End of Participation\",\n",
    "    'DTHDTC': \"Date/Time of Death\",\n",
    "    'DTHFL': \"Subject Death Flag\",\n",
    "    'SITEID': \"Study Site Identifier\",\n",
    "    'BRTHDTC': \"Date/Time of Birth\",\n",
    "    'AGE': \"Age\",\n",
    "    'AGEU': \"Age Units\",\n",
    "    'AGEGR1': \"Pooled Age Group 1\",\n",
    "    'SEX': \"Sex\",\n",
    "    'SEXN': \"Sex (N)\",\n",
    "    'RACE': \"Race\",\n",
    "    'RACEN': \"Race (N)\",\n",
    "    'ETHNIC': \"Ethnicity\",\n",
    "    'ETHNICN': \"Ethnicity (N)\",\n",
    "    'ARMCD': \"Planned Arm Code\",\n",
    "    'ARM': \"Description of Planned Arm\",\n",
    "    'ACTARMCD': \"Actual Arm Code\",\n",
    "    'ACTARM': \"Description of Actual Arm\",\n",
    "    'COUNTRY': \"Country\",\n",
    "    'RANDFL': \"Randomization Flag\",\n",
    "    'RANDDT': \"Date of Randomization\",\n",
    "    'SCRNFL': \"Screened Population Flag\",\n",
    "    'SAFFL': \"Safety Population Flag\",\n",
    "    'ITTFL': \"Intent-To-Treat Population Flag\",\n",
    "    'PPROTFL': \"Per-protocol Population Flag\",\n",
    "    'TRT01P': \"Planned Treatment for Period 01\",\n",
    "    'TRT01PN': \"Planned Treatment for Period 01 (N)\",\n",
    "    'TRT01A': \"Actual Treatment for Period 01\",\n",
    "    'TRT01AN': \"Actual Treatment for Period 01 (N)\",\n",
    "    'TRTSDTM': \"Datetime of First Exposure to Treatment\",\n",
    "    'TRTSDT': \"Date of First Exposure to Treatment\",\n",
    "    'TRTEDTM': \"Datetime of Last Exposure to Treatment\",\n",
    "    'TRTEDT': \"Date of Last Exposure to Treatment\",\n",
    "    'TRTDURD': \"Total Treatment Duration (minutes)\",\n",
    "    'EOSSTT': \"End of Study Status\",\n",
    "    'EOSDT': \"End of Study Date\",\n",
    "    'DCSREAS': \"Reason for Discontinuation from Study\",\n",
    "    'DCSREASP': \"Reason Spec for Discont from Study\",\n",
    "    'BBMISI': \"Baseline BMI (kg/m2)\",\n",
    "    'BHGHTSI': \"Baseline Height (cm)\",\n",
    "    'BWGHTSI': \"Baseline Weight (kg)\",\n",
    "    'MFUV': \"Medical Follow-up Visit\",\n",
    "    'VCYN': \"Did the subject get a COVID-19 vaccine?\",\n",
    "    'VCNUM': \"How many doses?\",\n",
    "    'COVD14FL': \"Clinical recovery on Day 14 Flag\",\n",
    "    'COVD28FL': \"Clinical recovery on Day 28 Flag\",\n",
    "    'HOSPCOFL': \"Hospitalized due to COVID-19\"\n",
    "}\n"
   ]
  },
  {
   "cell_type": "code",
   "execution_count": 32,
   "id": "5163108c",
   "metadata": {},
   "outputs": [],
   "source": [
    "\n",
    "# Store labels as DataFrame attributes (optional)\n",
    "dm5.attrs['column_labels'] = column_labels\n"
   ]
  },
  {
   "cell_type": "code",
   "execution_count": 33,
   "id": "14dc4793",
   "metadata": {},
   "outputs": [
    {
     "name": "stdout",
     "output_type": "stream",
     "text": [
      "ADSL dataset created successfully with 116 subjects and 54 variables.\n",
      "Dataset saved to: E:/Python Clinical Course/ADAM datasets/ADSL.csv\n",
      "\n",
      "Dataset Info:\n",
      "Shape: (116, 54)\n",
      "Columns: ['STUDYID', 'USUBJID', 'SUBJID', 'RFSTDTC', 'RFENDTC', 'RFXSTDTC', 'RFXENDTC', 'RFICDTC', 'RFPENDTC', 'DTHDTC', 'DTHFL', 'SITEID', 'BRTHDTC', 'AGE', 'AGEU', 'AGEGR1', 'SEX', 'SEXN', 'RACE', 'RACEN', 'ETHNIC', 'ETHNICN', 'ARMCD', 'ARM', 'ACTARMCD', 'ACTARM', 'COUNTRY', 'RANDFL', 'RANDDT', 'SCRNFL', 'SAFFL', 'ITTFL', 'PPROTFL', 'TRT01P', 'TRT01PN', 'TRT01A', 'TRT01AN', 'TRTSDTM', 'TRTSDT', 'TRTEDTM', 'TRTEDT', 'TRTDURD', 'EOSSTT', 'EOSDT', 'DCSREAS', 'DCSREASP', 'BBMISI', 'BHGHTSI', 'BWGHTSI', 'MFUV', 'VCYN', 'VCNUM', 'COVD14FL', 'COVD28FL']\n"
     ]
    }
   ],
   "source": [
    "\n",
    "# 12) Save the final dataset\n",
    "output = \"E:/Python Clinical Course/ADAM datasets\"\n",
    "output_path = f\"{output}/ADSL.csv\"\n",
    "dm5.to_csv(output_path, index=False)\n",
    "\n",
    "print(f\"ADSL dataset created successfully with {len(dm5)} subjects and {len(dm5.columns)} variables.\")\n",
    "print(f\"Dataset saved to: {output_path}\")\n",
    "\n",
    "# Display basic info about the dataset\n",
    "print(\"\\nDataset Info:\")\n",
    "print(f\"Shape: {dm5.shape}\")\n",
    "print(f\"Columns: {list(dm5.columns)}\")"
   ]
  },
  {
   "cell_type": "code",
   "execution_count": null,
   "id": "28c1d93f",
   "metadata": {},
   "outputs": [],
   "source": []
  }
 ],
 "metadata": {
  "kernelspec": {
   "display_name": "Python 3",
   "language": "python",
   "name": "python3"
  },
  "language_info": {
   "codemirror_mode": {
    "name": "ipython",
    "version": 3
   },
   "file_extension": ".py",
   "mimetype": "text/x-python",
   "name": "python",
   "nbconvert_exporter": "python",
   "pygments_lexer": "ipython3",
   "version": "3.13.4"
  }
 },
 "nbformat": 4,
 "nbformat_minor": 5
}
