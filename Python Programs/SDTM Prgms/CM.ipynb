{
 "cells": [
  {
   "cell_type": "code",
   "execution_count": 20,
   "id": "3d627023",
   "metadata": {},
   "outputs": [
    {
     "name": "stdout",
     "output_type": "stream",
     "text": [
      "Activating auto-logging. Current session state plus future input saved.\n",
      "Filename       : E:/Python Clinical Course/CM log.txt\n",
      "Mode           : backup\n",
      "Output logging : True\n",
      "Raw input log  : False\n",
      "Timestamping   : True\n",
      "State          : active\n"
     ]
    }
   ],
   "source": [
    "#To remove all variables from the namespace\n",
    "%reset -f\n",
    "\n",
    "#Creating a log file to record the commands and outputs\n",
    "%logstop\n",
    "%logstart -t -o \"E:/Python Clinical Course/CM log.txt\""
   ]
  },
  {
   "cell_type": "code",
   "execution_count": 21,
   "id": "6499f0a7",
   "metadata": {},
   "outputs": [],
   "source": [
    "import pandas as pd\n",
    "import pyreadstat\n",
    "import os\n",
    "import numpy as np"
   ]
  },
  {
   "cell_type": "code",
   "execution_count": 22,
   "id": "98456412",
   "metadata": {},
   "outputs": [],
   "source": [
    "raw_path = r\"E:\\Python Clinical Course\\RAW\"\n",
    "sdtm_path = r\"E:\\Python Clinical Course\\SDTM\""
   ]
  },
  {
   "cell_type": "code",
   "execution_count": 23,
   "id": "dd72ba1f",
   "metadata": {},
   "outputs": [],
   "source": [
    "raw_datasets = {}\n",
    "\n",
    "for file in os.listdir(raw_path):\n",
    "    if file.endswith(\".sas7bdat\"):\n",
    "        dataset_name = file.replace(\".sas7bdat\", \"\")\n",
    "        file_path = os.path.join(raw_path, file)\n",
    "        df, meta = pyreadstat.read_sas7bdat(file_path)\n",
    "        raw_datasets[dataset_name] = df"
   ]
  },
  {
   "cell_type": "code",
   "execution_count": 24,
   "id": "ac150756",
   "metadata": {},
   "outputs": [],
   "source": [
    "sdtm_datasets = {}\n",
    "\n",
    "for file in os.listdir(sdtm_path):\n",
    "    if file.endswith(\".sas7bdat\"):\n",
    "        dataset_name = file.replace(\".sas7bdat\", \"\")\n",
    "        file_path = os.path.join(sdtm_path, file)\n",
    "        df, meta = pyreadstat.read_sas7bdat(file_path)\n",
    "        sdtm_datasets[dataset_name] = df"
   ]
  },
  {
   "cell_type": "code",
   "execution_count": 25,
   "id": "5367485f",
   "metadata": {},
   "outputs": [],
   "source": [
    "# Load raw datasets (replace with actual paths or DataFrame reads)\n",
    "cm1 = raw_datasets.get(\"cm\")\n",
    "cmp = raw_datasets.get(\"cmpd\")\n",
    "dm = sdtm_datasets.get(\"dm_\")\n",
    "se= sdtm_datasets.get(\"se\")"
   ]
  },
  {
   "cell_type": "code",
   "execution_count": 26,
   "id": "3dcf05dc",
   "metadata": {},
   "outputs": [],
   "source": [
    "def parse_partial_date(date_str, time_str=None):\n",
    "    if pd.isna(date_str) or date_str in [\"\", \"UNK-UNK-UNK\"]:\n",
    "        return \"\"\n",
    "    \n",
    "    #convert to string if not already\n",
    "    date_str = str(date_str).strip()\n",
    "    parts = date_str.split('-')\n",
    "    y, m, d = parts + [''] * (3 - len(parts))\n",
    "    y = '' if y == 'UNK' else y\n",
    "    m = '' if m == 'UNK' else m\n",
    "    d = '' if d == 'UNK' else d\n",
    "    date = '-'.join(filter(None, [y, m, d]))\n",
    "    if time_str and time_str != 'U':\n",
    "        return f\"{date}T{time_str}\"\n",
    "    return date\n"
   ]
  },
  {
   "cell_type": "code",
   "execution_count": 27,
   "id": "800f4e75",
   "metadata": {},
   "outputs": [],
   "source": [
    "\n",
    "# Load datasets\n",
    "cm1.rename(columns={\n",
    "    \"CMTRT\": \"CMTRTX\", \"CMINDC\": \"CMINDCX\", \"CMDOSE\": \"CMDOSEX\",\n",
    "    \"CMDOSEU\": \"CMDOSEUX\", \"CMFREQ\": \"CMFREQX\", \"CMROUTE\": \"CMROUTEX\"\n",
    "}, inplace=True)\n",
    "cm1[\"CMTRT\"] = cm1[\"CMTRTX\"]\n",
    "cm1[\"CMINDC\"] = cm1[\"CMINDCX\"]\n",
    "cm1[\"CMDOSE\"] = cm1[\"CMDOSEX\"]\n",
    "cm1[\"CMDOSTXT\"] = cm1[\"CMDOSEX\"].astype(str).where(cm1[\"CMDOSE\"].isna(), '')\n"
   ]
  },
  {
   "cell_type": "code",
   "execution_count": 29,
   "id": "5f3b6b16",
   "metadata": {},
   "outputs": [],
   "source": [
    "cm1[\"CMSTDTC\"] = cm1.apply(lambda row: parse_partial_date(row[\"CMSTDAT\"], row[\"CMSTTIM\"]), axis=1)\n",
    "cm1[\"CMENDTC\"] = cm1.apply(lambda row: parse_partial_date(row[\"CMENDAT\"], row[\"CMENTIM\"]), axis=1)\n",
    "cm1[\"CMENRF\"] = np.where(cm1[\"CMONGO\"] == \"X\", \"ONGOING\", \"\")\n",
    "cm1[\"CMDECOD\"] = cm1[\"PREFERRED_NAME\"]\n",
    "cm1[\"CMCAT\"] = \"PRIOR AND CONCOMITANT MEDICATIONS\"\n",
    "cm1[\"CMDOSU\"] = cm1[\"CMDOSEUX\"]\n",
    "cm1[\"CMDOSFRQ\"] = cm1[\"CMFREQX\"]\n",
    "cm1[\"CMROUTE\"] = cm1[\"CMROUTEX\"]\n",
    "cm1[\"STUDYID\"] = \"AA-2020\"\n",
    "cm1[\"DOMAIN\"] = \"CM\"\n",
    "cm1[\"SITENUM\"] = cm1[\"SITENUM\"].astype(str)\n",
    "cm1[\"SITEID\"] = cm1[\"SITENUM\"].str[0:3]\n",
    "cm1[\"SUBJID\"] = cm1[\"SUBNUM\"].str[3:]\n",
    "cm1[\"USUBJID\"] = \"AA-2020-\" + cm1[\"SITEID\"].astype(str) + \"-\" + cm1[\"SUBJID\"]\n"
   ]
  },
  {
   "cell_type": "code",
   "execution_count": 30,
   "id": "10a3ff26",
   "metadata": {},
   "outputs": [],
   "source": [
    "cmp.rename(columns={\"CMTRT\": \"CMTRTX\", \"CMINDC\": \"CMINDCX\"}, inplace=True)\n",
    "cmp[\"CMTRT\"] = cmp[\"CMTRTX\"]\n",
    "cmp[\"CMINDC\"] = cmp[\"CMINDCX\"]\n"
   ]
  },
  {
   "cell_type": "code",
   "execution_count": null,
   "id": "d4e3c735",
   "metadata": {},
   "outputs": [],
   "source": [
    "cmp[\"CMSTDTC\"] = cmp[\"CMSTDAT\"].apply(lambda x: parse_partial_date(x))\n",
    "cmp[\"CMENDTC\"] = cmp[\"CMENDAT\"].apply(lambda x: parse_partial_date(x))\n",
    "cmp[\"CMENRF\"] = np.where(cmp[\"CMONGO\"] == \"X\", \"ONGOING\", \"\")\n",
    "cmp[\"STUDYID\"] = \"AA-2020\"\n",
    "cmp[\"DOMAIN\"] = \"CM\"\n",
    "cmp[\"SITENUM\"] = cmp[\"SITENUM\"].astype(str)\n",
    "cmp[\"SITEID\"] = cmp[\"SITENUM\"].str[0:3]@\n",
    "cmp[\"SUBJID\"] = cmp[\"SUBNUM\"].str[3:]\n",
    "cmp[\"USUBJID\"] = \"AA-2020-\" + cmp[\"SITEID\"].astype(str) + \"-\" + cmp[\"SUBJID\"]\n",
    "\n",
    "cm_all = pd.concat([cm1, cmp], ignore_index=True)\n",
    "cm_all = cm_all[cm_all[\"CMTRT\"].notna()]\n"
   ]
  },
  {
   "cell_type": "code",
   "execution_count": 32,
   "id": "32afb757",
   "metadata": {},
   "outputs": [],
   "source": [
    "\n",
    "se[\"USUBJID\"] = se[\"USUBJID\"].apply(lambda x: x[:7] + \"-\" + x[11:14] + \"-\" + x[14:])\n",
    "se_scrn = se[se[\"TAETORD\"] == 1][[\"USUBJID\", \"SESTDTC\", \"SEENDTC\"]].rename(columns={\"SESTDTC\": \"SCRNST\", \"SEENDTC\": \"SCRNEND\"})\n",
    "se_trt = se[se[\"TAETORD\"] == 2][[\"USUBJID\", \"SESTDTC\", \"SEENDTC\"]].rename(columns={\"SESTDTC\": \"CYCLE1ST\", \"SEENDTC\": \"CYCLE1END\"})\n",
    "se_fup = se[se[\"TAETORD\"] == 3][[\"USUBJID\", \"SESTDTC\", \"SEENDTC\"]].rename(columns={\"SESTDTC\": \"LTFUPST\", \"SEENDTC\": \"LTFUPEND\"})\n",
    "cm_epoch = cm_all.merge(se_scrn, on=\"USUBJID\", how=\"left\").merge(se_trt, on=\"USUBJID\", how=\"left\").merge(se_fup, on=\"USUBJID\", how=\"left\")\n"
   ]
  },
  {
   "cell_type": "code",
   "execution_count": 33,
   "id": "0905bd99",
   "metadata": {},
   "outputs": [],
   "source": [
    "\n",
    "def derive_epoch(row):\n",
    "    date = row[\"CMSTDTC\"][:10]\n",
    "    for epoch, start, end in [\n",
    "        (\"FOLLOW-UP\", \"LTFUPST\", \"LTFUPEND\"),\n",
    "        (\"TREATMENT\", \"CYCLE1ST\", \"CYCLE1END\"),\n",
    "        (\"SCREENING\", \"SCRNST\", \"SCRNEND\")\n",
    "    ]:\n",
    "        if pd.notna(row[start]) and pd.notna(row[end]):\n",
    "            if row[start][:10] <= date <= row[end][:10]:\n",
    "                return epoch\n",
    "    return \"\"\n",
    "\n",
    "cm_epoch[\"EPOCH\"] = cm_epoch.apply(derive_epoch, axis=1)\n"
   ]
  },
  {
   "cell_type": "code",
   "execution_count": 34,
   "id": "de309d6a",
   "metadata": {},
   "outputs": [],
   "source": [
    "\n",
    "dm[\"USUBJID\"] = dm[\"USUBJID\"].str.replace(\"AAA-2022\", \"AA-2020\")\n",
    "dm[\"RFSTDTC_N\"] = pd.to_datetime(dm[\"RFSTDTC\"], errors=\"coerce\").dt.date\n",
    "\n",
    "cm_epoch = cm_epoch.merge(dm[[\"USUBJID\", \"RFSTDTC\", \"RFSTDTC_N\"]], on=\"USUBJID\", how=\"left\")\n",
    "cm_epoch[\"CMSTDY\"] = (pd.to_datetime(cm_epoch[\"CMSTDTC\"].str[:10], errors='coerce') - pd.to_datetime(cm_epoch[\"RFSTDTC_N\"], errors='coerce')).dt.days + 1\n",
    "cm_epoch[\"CMENDY\"] = (pd.to_datetime(cm_epoch[\"CMENDTC\"].str[:10], errors='coerce') - pd.to_datetime(cm_epoch[\"RFSTDTC_N\"], errors='coerce')).dt.days + 1\n",
    "\n",
    "cm_epoch = cm_epoch.sort_values(by=[\"STUDYID\", \"USUBJID\", \"CMTRT\", \"CMSTDTC\"])\n",
    "cm_epoch[\"CMSEQ\"] = cm_epoch.groupby(\"USUBJID\").cumcount() + 1\n"
   ]
  },
  {
   "cell_type": "code",
   "execution_count": 35,
   "id": "3738ab55",
   "metadata": {},
   "outputs": [],
   "source": [
    "\n",
    "columns = [\n",
    "    \"STUDYID\", \"DOMAIN\", \"USUBJID\", \"CMSEQ\", \"CMTRT\", \"CMDECOD\", \"CMCAT\",\n",
    "    \"CMINDC\", \"CMDOSE\", \"CMDOSTXT\", \"CMDOSU\", \"CMDOSFRQ\", \"CMROUTE\", \"EPOCH\",\n",
    "    \"CMSTDTC\", \"CMENDTC\", \"CMSTDY\", \"CMENDY\", \"CMENRF\"\n",
    "]\n",
    "final_cm = cm_epoch[columns]\n"
   ]
  },
  {
   "cell_type": "code",
   "execution_count": 36,
   "id": "47f17009",
   "metadata": {},
   "outputs": [],
   "source": [
    "column_labels = {\n",
    "'STUDYID': \"Study Identifier\",\n",
    "'SUBJID': \"Subject Identifier for the Study\",\n",
    "'SITEID': \"Study Site Identifier\",\n",
    "'DOMAIN': \"Domain Abbreviation\",\n",
    "'USUBJID': \"Unique Subject Identifier\",\n",
    "'CMSEQ': \"Sequence number\",\n",
    "'CMTRT': \"Reported Name of Drug, Med or Therapy\",\n",
    "'CMDECOD': \"Standardized Medicaion Name\",\n",
    "'CMCAT': \"Category for Medication\",\n",
    "'CMINDC': \"Indication\",\n",
    "'CMDOSE': \"Dose per Administration\",\n",
    "'CMDOSTXT': \"Dose Description\",\n",
    "'CMDOSU': \"Dose Units\",\n",
    "'CMDOSFRQ': \"Dosing Frequency per interval\",\n",
    "'CMROUTE': \"Route of Administration\",\n",
    "'EPOCH': \"Epoch\",\n",
    "'CMSTDTC': \"Start Date/Time of Medication\",\n",
    "'CMENDTC': \"End Date/Time of Medication\",\n",
    "'CMSTDY': \"Study Day of Start of Medication\",\n",
    "'CMENDY': \"End Date/Time of Medication\",\n",
    "'CMENRF': \"End Relative to Reference period\",\n",
    "}"
   ]
  },
  {
   "cell_type": "code",
   "execution_count": 37,
   "id": "cae7d018",
   "metadata": {},
   "outputs": [],
   "source": [
    "final_cm.attrs['column_labels'] = column_labels"
   ]
  },
  {
   "cell_type": "code",
   "execution_count": 38,
   "id": "e15780fc",
   "metadata": {},
   "outputs": [
    {
     "name": "stdout",
     "output_type": "stream",
     "text": [
      "STUDYID: Study Identifier\n",
      "DOMAIN: Domain Abbreviation\n",
      "USUBJID: Unique Subject Identifier\n",
      "CMSEQ: Sequence number\n",
      "CMTRT: Reported Name of Drug, Med or Therapy\n",
      "CMDECOD: Standardized Medicaion Name\n",
      "CMCAT: Category for Medication\n",
      "CMINDC: Indication\n",
      "CMDOSE: Dose per Administration\n",
      "CMDOSTXT: Dose Description\n",
      "CMDOSU: Dose Units\n",
      "CMDOSFRQ: Dosing Frequency per interval\n",
      "CMROUTE: Route of Administration\n",
      "EPOCH: Epoch\n",
      "CMSTDTC: Start Date/Time of Medication\n",
      "CMENDTC: End Date/Time of Medication\n",
      "CMSTDY: Study Day of Start of Medication\n",
      "CMENDY: End Date/Time of Medication\n",
      "CMENRF: End Relative to Reference period\n"
     ]
    }
   ],
   "source": [
    "for col in final_cm.columns:\n",
    "    label = final_cm.attrs.get('column_labels', {}).get(col, '')\n",
    "    print(f\"{col}: {label}\")"
   ]
  },
  {
   "cell_type": "code",
   "execution_count": 39,
   "id": "d4fa13a1",
   "metadata": {},
   "outputs": [
    {
     "name": "stdout",
     "output_type": "stream",
     "text": [
      "CM dataset created successfully with 552 subjects and 19 variables.\n",
      "Dataset saved to: E:/Python Clinical Course/SDTM/SDTM CSV/CM.csv\n",
      "\n",
      "Dataset Info:\n",
      "Shape: (552, 19)\n",
      "Columns: ['STUDYID', 'DOMAIN', 'USUBJID', 'CMSEQ', 'CMTRT', 'CMDECOD', 'CMCAT', 'CMINDC', 'CMDOSE', 'CMDOSTXT', 'CMDOSU', 'CMDOSFRQ', 'CMROUTE', 'EPOCH', 'CMSTDTC', 'CMENDTC', 'CMSTDY', 'CMENDY', 'CMENRF']\n"
     ]
    }
   ],
   "source": [
    "output = \"E:/Python Clinical Course/SDTM/SDTM CSV\"\n",
    "output_path = f\"{output}/CM.csv\"\n",
    "final_cm.to_csv(output_path, index=False)\n",
    "\n",
    "print(f\"CM dataset created successfully with {len(final_cm)} subjects and {len(final_cm.columns)} variables.\")\n",
    "print(f\"Dataset saved to: {output_path}\")\n",
    "\n",
    "# Display basic info about the dataset\n",
    "print(\"\\nDataset Info:\")\n",
    "print(f\"Shape: {final_cm.shape}\")\n",
    "print(f\"Columns: {list(final_cm.columns)}\")\n"
   ]
  }
 ],
 "metadata": {
  "kernelspec": {
   "display_name": "Python 3",
   "language": "python",
   "name": "python3"
  },
  "language_info": {
   "codemirror_mode": {
    "name": "ipython",
    "version": 3
   },
   "file_extension": ".py",
   "mimetype": "text/x-python",
   "name": "python",
   "nbconvert_exporter": "python",
   "pygments_lexer": "ipython3",
   "version": "3.13.4"
  }
 },
 "nbformat": 4,
 "nbformat_minor": 5
}
