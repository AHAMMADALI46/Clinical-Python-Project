{
 "cells": [
  {
   "cell_type": "code",
   "execution_count": 48,
   "id": "03069729",
   "metadata": {},
   "outputs": [
    {
     "name": "stdout",
     "output_type": "stream",
     "text": [
      "Activating auto-logging. Current session state plus future input saved.\n",
      "Filename       : E:/Python Clinical Course/MH log.txt\n",
      "Mode           : backup\n",
      "Output logging : True\n",
      "Raw input log  : False\n",
      "Timestamping   : True\n",
      "State          : active\n"
     ]
    }
   ],
   "source": [
    "#To remove all variables from the namespace\n",
    "%reset -f\n",
    "\n",
    "#Creating a log file to record the commands and outputs\n",
    "%logstop\n",
    "%logstart -t -o \"E:/Python Clinical Course/MH log.txt\""
   ]
  },
  {
   "cell_type": "code",
   "execution_count": 49,
   "id": "6754d8e7",
   "metadata": {},
   "outputs": [],
   "source": [
    "import pandas as pd\n",
    "import pyreadstat\n",
    "import os\n",
    "import numpy as np"
   ]
  },
  {
   "cell_type": "code",
   "execution_count": 50,
   "id": "7ce6dda1",
   "metadata": {},
   "outputs": [],
   "source": [
    "raw_path = r\"E:\\Python Clinical Course\\RAW\"\n",
    "sdtm_path = r\"E:\\Python Clinical Course\\SDTM\""
   ]
  },
  {
   "cell_type": "code",
   "execution_count": 51,
   "id": "cb4cc446",
   "metadata": {},
   "outputs": [],
   "source": [
    "raw_datasets = {}\n",
    "\n",
    "for file in os.listdir(raw_path):\n",
    "    if file.endswith(\".sas7bdat\"):\n",
    "        dataset_name = file.replace(\".sas7bdat\", \"\")\n",
    "        file_path = os.path.join(raw_path, file)\n",
    "        df, meta = pyreadstat.read_sas7bdat(file_path)\n",
    "        raw_datasets[dataset_name] = df"
   ]
  },
  {
   "cell_type": "code",
   "execution_count": 52,
   "id": "d23dce58",
   "metadata": {},
   "outputs": [],
   "source": [
    "sdtm_datasets = {}\n",
    "\n",
    "for file in os.listdir(sdtm_path):\n",
    "    if file.endswith(\".sas7bdat\"):\n",
    "        dataset_name = file.replace(\".sas7bdat\", \"\")\n",
    "        file_path = os.path.join(sdtm_path, file)\n",
    "        df, meta = pyreadstat.read_sas7bdat(file_path)\n",
    "        sdtm_datasets[dataset_name] = df"
   ]
  },
  {
   "cell_type": "code",
   "execution_count": null,
   "id": "b37a26f4",
   "metadata": {},
   "outputs": [],
   "source": [
    "# Load raw datasets (replace with actual paths or DataFrame reads)\n",
    "mh_raw = raw_datasets.get(\"mh\")\n",
    "dm_raw = sdtm_datasets.get(\"dm_\")"
   ]
  },
  {
   "cell_type": "code",
   "execution_count": 56,
   "id": "3092ad7c",
   "metadata": {},
   "outputs": [],
   "source": [
    "# Create MH1 dataset (equivalent to DATA MH1)\n",
    "mh1 = mh_raw.copy()\n",
    "mh1 = mh1.rename(columns={'MHTERM': 'MHTERMX'})\n",
    "\n",
    "# Add derived variables\n",
    "mh1['STUDYID'] = 'AAA-2022'\n",
    "mh1['DOMAIN'] = 'MH'\n",
    "mh1['SITEID'] = mh1['SITENUM'].astype(float).astype(int) # RIGHT(SITENUM,3)\n",
    "mh1['SUBJID'] = mh1['SUBNUM'].astype(str).str[3:]  # SUBSTR(SUBNUM,4)\n"
   ]
  },
  {
   "cell_type": "code",
   "execution_count": 57,
   "id": "29b1995a",
   "metadata": {},
   "outputs": [],
   "source": [
    "\n",
    "# Create USUBJID (STUDYID-SITEID-SUBJID)\n",
    "mh1['USUBJID'] = (mh1['STUDYID'].astype(str) + \"-\" + \n",
    "                  mh1['SITEID'].astype(str) + \"-\" + \n",
    "                  mh1['SUBJID'].astype(str))\n",
    "\n",
    "mh1['MHCAT'] = 'Medical History'\n",
    "mh1['MHTERM'] = mh1['MHTERMX']\n",
    "\n",
    "# Handle MHENRF based on MHONGO\n",
    "mh1['MHENRF'] = np.where(mh1['MHONGO'] == 'X', 'ONGOING', '')\n"
   ]
  },
  {
   "cell_type": "code",
   "execution_count": 58,
   "id": "c4f562d1",
   "metadata": {},
   "outputs": [],
   "source": [
    "\n",
    "# Function to process date strings\n",
    "def process_date(date_col):\n",
    "    \"\"\"Process date column by splitting on '-' and handling 'UNK' values\"\"\"\n",
    "    if pd.isna(date_col) or date_col == '':\n",
    "        return ''\n",
    "    \n",
    "    parts = str(date_col).split('-')\n",
    "    processed_parts = []\n",
    "    \n",
    "    for part in parts:\n",
    "        if part == 'UNK':\n",
    "            processed_parts.append('')\n",
    "        else:\n",
    "            processed_parts.append(part)\n",
    "    \n",
    "    # Join non-empty parts with '-'\n",
    "    return '-'.join([p for p in processed_parts if p != ''])\n",
    "\n",
    "# Process MHSTDTC\n",
    "mh1['MHSTDTC'] = mh1['MHSTDAT'].apply(process_date)\n",
    "\n",
    "# Process MHENDTC\n",
    "mh1['MHENDTC'] = mh1['MHENDAT'].apply(process_date)\n"
   ]
  },
  {
   "cell_type": "code",
   "execution_count": 59,
   "id": "da89155e",
   "metadata": {},
   "outputs": [],
   "source": [
    "\n",
    "# Add medical coding variables\n",
    "mh1['MHDECOD'] = mh1['PT_TERM']\n",
    "mh1['MHBODSYS'] = mh1['SOC_TERM']\n",
    "\n",
    "# Sort by USUBJID\n",
    "mh1 = mh1.sort_values('USUBJID').reset_index(drop=True)\n",
    "\n",
    "# Read DM dataset for study day derivation\n",
    "dm1 = dm_raw[['USUBJID', 'RFSTDTC']].copy()\n"
   ]
  },
  {
   "cell_type": "code",
   "execution_count": 60,
   "id": "0911deb8",
   "metadata": {},
   "outputs": [],
   "source": [
    "\n",
    "# Convert RFSTDTC to datetime (assuming ISO8601 format)\n",
    "dm1[\"RFSTDTC_N\"] = pd.to_datetime(dm1[\"RFSTDTC\"], errors=\"coerce\").dt.date\n",
    "\n",
    "# Merge MH1 with DM1\n",
    "mh2 = pd.merge(mh1, dm1, on='USUBJID', how='inner')\n"
   ]
  },
  {
   "cell_type": "code",
   "execution_count": 90,
   "id": "513ab65a",
   "metadata": {},
   "outputs": [],
   "source": [
    "\n",
    "# Convert date columns to datetime for study day calculation\n",
    "def convert_or_keep(val):\n",
    "    try:\n",
    "        return pd.to_datetime(val, errors='raise').date()\n",
    "    except Exception:\n",
    "        return val\n",
    "\n",
    "mh2['STN'] = mh2['MHSTDTC'].apply(convert_or_keep)\n",
    "mh2['ENN'] = mh2['MHENDTC'].apply(convert_or_keep)"
   ]
  },
  {
   "cell_type": "code",
   "execution_count": 91,
   "id": "1d1b4774",
   "metadata": {},
   "outputs": [],
   "source": [
    "\n",
    "# Calculate study days\n",
    "def calculate_study_day(event_date, ref_date):\n",
    "    \"\"\"Calculate study day based on event date and reference date\"\"\"\n",
    "    if pd.isna(event_date) or pd.isna(ref_date):\n",
    "        return np.nan\n",
    "    \n",
    "    diff = (event_date - ref_date).days\n",
    "    if event_date < ref_date:\n",
    "        return diff\n",
    "    else:\n",
    "        return diff + 1\n",
    "\n",
    "mh2['MHSTDY'] = mh2.apply(lambda row: calculate_study_day(row['STN'], row['RFSTDTC_N']), axis=1)\n",
    "mh2['MHENDY'] = mh2.apply(lambda row: calculate_study_day(row['ENN'], row['RFSTDTC_N']), axis=1)\n"
   ]
  },
  {
   "cell_type": "code",
   "execution_count": 79,
   "id": "011e001a",
   "metadata": {},
   "outputs": [],
   "source": [
    "\n",
    "# Create sequence numbers\n",
    "mh2 = mh2.sort_values(['STUDYID', 'USUBJID', 'MHDECOD']).reset_index(drop=True)\n",
    "mh2['MHSEQ'] = mh2.groupby('USUBJID').cumcount() + 1\n"
   ]
  },
  {
   "cell_type": "code",
   "execution_count": 80,
   "id": "6b18c7bf",
   "metadata": {},
   "outputs": [],
   "source": [
    "\n",
    "# Create final dataset with retained variables\n",
    "final_columns = [\n",
    "    'STUDYID', 'DOMAIN', 'USUBJID', 'MHSEQ', 'MHTERM', 'MHDECOD', \n",
    "    'MHCAT', 'MHBODSYS', 'MHSTDTC', 'MHENDTC', 'MHENRF'\n",
    "]\n",
    "\n",
    "mh_final = mh2[final_columns].copy()\n"
   ]
  },
  {
   "cell_type": "code",
   "execution_count": 81,
   "id": "ac0d62ed",
   "metadata": {},
   "outputs": [],
   "source": [
    "column_labels={\n",
    "'STUDYID': \"Study Identifier\",\n",
    "'DOMAIN': \"Domain Abbreviation\",\n",
    "'USUBJID': \"Unique Subject Identifier\",\n",
    "'MHSEQ': \"Sequence Number\",\n",
    "'MHCAT': \"Category for Medical History\",\n",
    "'MHTERM': \"Reported Term for the Medical History\",\n",
    "'MHLLT': \"Lowest Level Term\",\n",
    "'MHLLTCD': \"Lowest Level Term Code\",\n",
    "'MHDECOD': \"Dictionary-Derived Term\",\n",
    "'MHHLT': \"High Level Term\",\n",
    "'MHHLTCD': \"High Level Term Code\",\n",
    "'MHHLGT': \"High Level Group Term\",\n",
    "'MHHLGTCD': \"High Level Group Term Code\",\n",
    "'MHPTCD': \"Preferred Term Code\",\n",
    "'MHBODSYS': \"Body System or Organ Class\",\n",
    "'MHBDSYCD': \"Body System or Organ Class Code\",\n",
    "'MHSOC': \"Primary System Organ Class\",\n",
    "'MHSOCCD': \"Primary System Organ Class Code\",\n",
    "'MHSTDTC': \"Start Date/Time of Medical History Event\",\n",
    "'MHENDTC': \"End Date/Time of Medical History Event\",\n",
    "'MHENRF': \"End Relative to Reference Period\",\n",
    "'MHSTDY': \"Study Day of Start of Medical History Event\",\n",
    "'MHENDY': \"Study Day of End of Medical History Event\",\n",
    "'MHDUR': \"Duration of Medical History Event\",\n",
    "}"
   ]
  },
  {
   "cell_type": "code",
   "execution_count": 82,
   "id": "313d3425",
   "metadata": {},
   "outputs": [],
   "source": [
    "mh_final.attrs['column_labels'] = column_labels"
   ]
  },
  {
   "cell_type": "code",
   "execution_count": 83,
   "id": "a436f916",
   "metadata": {},
   "outputs": [
    {
     "name": "stdout",
     "output_type": "stream",
     "text": [
      "STUDYID: Study Identifier\n",
      "DOMAIN: Domain Abbreviation\n",
      "USUBJID: Unique Subject Identifier\n",
      "MHSEQ: Sequence Number\n",
      "MHTERM: Reported Term for the Medical History\n",
      "MHDECOD: Dictionary-Derived Term\n",
      "MHCAT: Category for Medical History\n",
      "MHBODSYS: Body System or Organ Class\n",
      "MHSTDTC: Start Date/Time of Medical History Event\n",
      "MHENDTC: End Date/Time of Medical History Event\n",
      "MHENRF: End Relative to Reference Period\n"
     ]
    }
   ],
   "source": [
    "for col in mh_final.columns:\n",
    "    label = mh_final.attrs.get('column_labels', {}).get(col, '')\n",
    "    print(f\"{col}: {label}\")"
   ]
  },
  {
   "cell_type": "code",
   "execution_count": 84,
   "id": "e9d044d2",
   "metadata": {},
   "outputs": [
    {
     "name": "stdout",
     "output_type": "stream",
     "text": [
      "MH dataset created successfully with 236 subjects and 11 variables.\n",
      "Dataset saved to: E:/Python Clinical Course/SDTM/SDTM CSV/MH.csv\n",
      "\n",
      "Dataset Info:\n",
      "Shape: (236, 11)\n",
      "Columns: ['STUDYID', 'DOMAIN', 'USUBJID', 'MHSEQ', 'MHTERM', 'MHDECOD', 'MHCAT', 'MHBODSYS', 'MHSTDTC', 'MHENDTC', 'MHENRF']\n"
     ]
    }
   ],
   "source": [
    "output = \"E:/Python Clinical Course/SDTM/SDTM CSV\"\n",
    "output_path = f\"{output}/MH.csv\"\n",
    "mh_final.to_csv(output_path, index=False)\n",
    "\n",
    "print(f\"MH dataset created successfully with {len(mh_final)} subjects and {len(mh_final.columns)} variables.\")\n",
    "print(f\"Dataset saved to: {output_path}\")\n",
    "\n",
    "# Display basic info about the dataset\n",
    "print(\"\\nDataset Info:\")\n",
    "print(f\"Shape: {mh_final.shape}\")\n",
    "print(f\"Columns: {list(mh_final.columns)}\")"
   ]
  },
  {
   "cell_type": "code",
   "execution_count": 85,
   "id": "d7324e0f",
   "metadata": {},
   "outputs": [],
   "source": [
    "# Create SUPPMH dataset\n",
    "smh_data = []\n",
    "\n",
    "for idx, row in mh2.iterrows():\n",
    "    # First supplemental record for MHREL\n",
    "    smh_data.append({\n",
    "        'STUDYID': row['STUDYID'],\n",
    "        'RDOMAIN': 'MH',\n",
    "        'USUBJID': row['USUBJID'],\n",
    "        'IDVAR': 'MHSEQ',\n",
    "        'IDVARVAL': row['MHSEQ'],\n",
    "        'QORIG': 'CRF',\n",
    "        'QEVAL': '',\n",
    "        'QNAM': 'MHREL',\n",
    "        'QLABEL': 'Is the condition related to COVID-19?',\n",
    "        'QVAL': row.get('MHREL', '')\n",
    "    })\n",
    "    \n",
    "    # Second supplemental record for MHONGO\n",
    "    smh_data.append({\n",
    "        'STUDYID': row['STUDYID'],\n",
    "        'RDOMAIN': 'MH',\n",
    "        'USUBJID': row['USUBJID'],\n",
    "        'IDVAR': 'MHSEQ',\n",
    "        'IDVARVAL': row['MHSEQ'],\n",
    "        'QORIG': 'CRF',\n",
    "        'QEVAL': '',\n",
    "        'QNAM': 'MHONGO',\n",
    "        'QLABEL': 'Ongoing',\n",
    "        'QVAL': row.get('MHONGO', '')\n",
    "    })\n",
    "\n",
    "# Create SUPPMH dataframe\n",
    "suppmh = pd.DataFrame(smh_data)\n"
   ]
  },
  {
   "cell_type": "code",
   "execution_count": 86,
   "id": "dadf5dd6",
   "metadata": {},
   "outputs": [
    {
     "name": "stdout",
     "output_type": "stream",
     "text": [
      "SUPPMH dataset created successfully with 472 subjects and 10 variables.\n",
      "Dataset saved to: E:/Python Clinical Course/SDTM/SDTM CSV/SUPPMH.csv\n",
      "\n",
      "Dataset Info:\n",
      "Shape: (472, 10)\n",
      "Columns: ['STUDYID', 'RDOMAIN', 'USUBJID', 'IDVAR', 'IDVARVAL', 'QORIG', 'QEVAL', 'QNAM', 'QLABEL', 'QVAL']\n"
     ]
    }
   ],
   "source": [
    "\n",
    "output = \"E:/Python Clinical Course/SDTM/SDTM CSV\"\n",
    "output_path = f\"{output}/SUPPMH.csv\"\n",
    "suppmh.to_csv(output_path, index=False)\n",
    "\n",
    "print(f\"SUPPMH dataset created successfully with {len(suppmh)} subjects and {len(suppmh.columns)} variables.\")\n",
    "print(f\"Dataset saved to: {output_path}\")\n",
    "\n",
    "# Display basic info about the dataset\n",
    "print(\"\\nDataset Info:\")\n",
    "print(f\"Shape: {suppmh.shape}\")\n",
    "print(f\"Columns: {list(suppmh.columns)}\")"
   ]
  }
 ],
 "metadata": {
  "kernelspec": {
   "display_name": "Python 3",
   "language": "python",
   "name": "python3"
  },
  "language_info": {
   "codemirror_mode": {
    "name": "ipython",
    "version": 3
   },
   "file_extension": ".py",
   "mimetype": "text/x-python",
   "name": "python",
   "nbconvert_exporter": "python",
   "pygments_lexer": "ipython3",
   "version": "3.13.4"
  }
 },
 "nbformat": 4,
 "nbformat_minor": 5
}
