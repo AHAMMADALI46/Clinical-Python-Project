{
 "cells": [
  {
   "cell_type": "code",
   "execution_count": 7,
   "id": "c4ab8972",
   "metadata": {},
   "outputs": [
    {
     "name": "stdout",
     "output_type": "stream",
     "text": [
      "Activating auto-logging. Current session state plus future input saved.\n",
      "Filename       : E:/Python Clinical Course/DM log.txt\n",
      "Mode           : backup\n",
      "Output logging : True\n",
      "Raw input log  : False\n",
      "Timestamping   : True\n",
      "State          : active\n"
     ]
    }
   ],
   "source": [
    "#To remove all variables from the namespace\n",
    "%reset -f\n",
    "\n",
    "#Creating a log file to record the commands and outputs\n",
    "%logstop\n",
    "%logstart -t -o \"E:/Python Clinical Course/DM log.txt\""
   ]
  },
  {
   "cell_type": "code",
   "execution_count": 8,
   "id": "f1c8d7cf",
   "metadata": {},
   "outputs": [],
   "source": [
    "import pandas as pd\n",
    "import pyreadstat\n",
    "import os"
   ]
  },
  {
   "cell_type": "code",
   "execution_count": 9,
   "id": "51679c78",
   "metadata": {},
   "outputs": [],
   "source": [
    "raw_path = r\"E:\\Python Clinical Course\\RAW\"\n",
    "sdtm_path = r\"E:\\Python Clinical Course\\SDTM\""
   ]
  },
  {
   "cell_type": "code",
   "execution_count": 10,
   "id": "4713d4d6",
   "metadata": {},
   "outputs": [],
   "source": [
    "raw_datasets = {}\n",
    "\n",
    "for file in os.listdir(raw_path):\n",
    "    if file.endswith(\".sas7bdat\"):\n",
    "        dataset_name = file.replace(\".sas7bdat\", \"\")\n",
    "        file_path = os.path.join(raw_path, file)\n",
    "        df, meta = pyreadstat.read_sas7bdat(file_path)\n",
    "        raw_datasets[dataset_name] = df"
   ]
  },
  {
   "cell_type": "code",
   "execution_count": 11,
   "id": "a583b575",
   "metadata": {},
   "outputs": [],
   "source": [
    "sdtm_datasets = {}\n",
    "\n",
    "for file in os.listdir(sdtm_path):\n",
    "    if file.endswith(\".sas7bdat\"):\n",
    "        dataset_name = file.replace(\".sas7bdat\", \"\")\n",
    "        file_path = os.path.join(sdtm_path, file)\n",
    "        df, meta = pyreadstat.read_sas7bdat(file_path)\n",
    "        sdtm_datasets[dataset_name] = df"
   ]
  },
  {
   "cell_type": "code",
   "execution_count": 12,
   "id": "b7f0f1f2",
   "metadata": {},
   "outputs": [],
   "source": [
    "# Helper functions\n",
    "def iso_date(date):\n",
    "    return pd.to_datetime(date, errors='coerce').dt.strftime('%Y-%m-%d')\n",
    "\n",
    "def iso_datetime(date, time):\n",
    "    dt = pd.to_datetime(date, errors='coerce')\n",
    "    tm = pd.to_datetime(time, format='%H:%M:%S', errors='coerce').dt.time\n",
    "    return [f\"{d.date()}T{t}\" if pd.notnull(d) and pd.notnull(t) else None for d, t in zip(dt, tm)]\n"
   ]
  },
  {
   "cell_type": "code",
   "execution_count": 13,
   "id": "3e3d73f2",
   "metadata": {},
   "outputs": [],
   "source": [
    "\n",
    "# Load raw datasets (replace with actual paths or DataFrame reads)\n",
    "raw_dm = raw_datasets.get(\"dm\")\n",
    "raw_ic = raw_datasets.get(\"ic\")\n",
    "raw_ds = raw_datasets.get(\"ds\")\n",
    "raw_ex = raw_datasets.get(\"ex\")\n",
    "raw_trt = raw_datasets.get(\"dummy_rnd\")\n",
    "raw_scf= raw_datasets.get(\"dat_sub\")"
   ]
  },
  {
   "cell_type": "code",
   "execution_count": 24,
   "id": "f8e1c5b0",
   "metadata": {},
   "outputs": [],
   "source": [
    "\n",
    "# === DM1 dataset ===\n",
    "dm1 = raw_dm.rename(columns={'AGE': 'AGEX', 'SEX': 'SEXX', 'RACE': 'RACEX', 'ETHNIC': 'ETHNICX'})\n",
    "dm1['STUDYID'] = 'AAA-2022'\n",
    "dm1['DOMAIN'] = 'DM'\n",
    "dm1['SITENUM'] = dm1['SITENUM'].astype(str)\n",
    "dm1['SITEID'] = dm1['SITENUM'].str[0:3]  # Assuming SITEID is the first three characters of SITENUM\n",
    "dm1['SUBJID'] = dm1['SUBNUM'].str[3:]\n",
    "dm1['USUBJID'] = dm1['STUDYID'] + '-' + dm1['SITEID'].astype(str) + '-' + dm1['SUBJID']\n",
    "dm1['BRTHDTC'] = iso_date(dm1['BRTHDAT'])\n",
    "dm1['AGE'] = dm1['AGEX']\n",
    "dm1['AGEU'] = 'YEARS'\n",
    "dm1['SEX'] = dm1['SEXX']\n",
    "dm1['RACE'] = dm1['RACEX']\n",
    "\n",
    "eth_map = {\n",
    "    'HISP': 'HISPANIC OR LATINO',\n",
    "    'NHISP': 'NOT HISPANIC OR LATINO',\n",
    "    'U': 'UNKNOWN'\n",
    "}\n",
    "dm1['ETHNIC'] = dm1['ETHNICX'].map(eth_map).fillna('DECLINED TO ANSWER')\n",
    "\n",
    "dm1 = dm1[['STUDYID', 'DOMAIN', 'USUBJID', 'SUBJID', 'SITEID', 'BRTHDTC', 'AGE', 'AGEU', 'SEX', 'RACE', 'ETHNIC']]\n",
    "dm1 = dm1.drop_duplicates(subset='USUBJID')\n"
   ]
  },
  {
   "cell_type": "code",
   "execution_count": 25,
   "id": "8046a537",
   "metadata": {},
   "outputs": [],
   "source": [
    "\n",
    "# === Informed Consent (IC) ===\n",
    "ic = raw_ic.copy()\n",
    "ic['STUDYID'] = 'AAA-2022'\n",
    "ic['DOMAIN'] = 'DM'\n",
    "ic['SITENUM'] = ic['SITENUM'].astype(str)\n",
    "ic['SITEID'] = ic['SITENUM'].str[0:3]  # Assuming SITEID is the first three characters of SITENUM\n",
    "ic['SUBJID'] = ic['SUBNUM'].str[3:]\n",
    "ic['USUBJID'] = ic['STUDYID'] + '-' + ic['SITEID'].astype(str) + '-' + ic['SUBJID']\n",
    "ic['RFICDTC'] = iso_date(ic['ICDAT'])\n",
    "ic = ic[['USUBJID', 'RFICDTC']].drop_duplicates()\n"
   ]
  },
  {
   "cell_type": "code",
   "execution_count": 26,
   "id": "f5a9c72d",
   "metadata": {},
   "outputs": [],
   "source": [
    "\n",
    "# === Death Info (DS) ===\n",
    "ds = raw_ds.copy()\n",
    "ds['STUDYID'] = 'AAA-2022'\n",
    "ds['DOMAIN'] = 'DM'\n",
    "ds['SITENUM'] = ds['SITENUM'].astype(str)\n",
    "ds['SITEID'] = ds['SITENUM'].str[0:3]  # Assuming SITEID is the first three characters of SITENUM\n",
    "ds['SUBJID'] = ds['SUBNUM'].str[3:]\n",
    "ds['USUBJID'] = ds['STUDYID'] + '-' + ds['SITEID'].astype(str) + '-' + ds['SUBJID']\n",
    "\n",
    "ds['DTHDTC'] = iso_date(ds['DSDTHDAT'])\n",
    "ds['DTHFL'] = ds['DTHDTC'].apply(lambda x: 'Y' if pd.notnull(x) else None)\n",
    "ds['RFPENDTC'] = iso_date(ds['DSLVDAT'])\n",
    "ds = ds[['USUBJID', 'DTHDTC', 'DTHFL', 'RFPENDTC']].drop_duplicates()\n"
   ]
  },
  {
   "cell_type": "code",
   "execution_count": 27,
   "id": "49979395",
   "metadata": {},
   "outputs": [],
   "source": [
    "\n",
    "# === Exposure (EX) ===\n",
    "ex = raw_ex.copy()\n",
    "ex['STUDYID'] = 'AAA-2022'\n",
    "ex['DOMAIN'] = 'DM'\n",
    "ex['SITENUM'] = ex['SITENUM'].astype(str)\n",
    "ex['SITEID'] = ex['SITENUM'].str[0:3]  # Assuming SITEID is the first three characters of SITENUM\n",
    "ex['SUBJID'] = ex['SUBNUM'].str[3:]\n",
    "ex['USUBJID'] = ex['STUDYID'] + '-' + ex['SITEID'].astype(str) + '-' + ex['SUBJID']\n",
    "\n",
    "ex['RFXSTDTC'] = iso_datetime(ex['EXSTDAT'], ex['EXSTTIM'])\n",
    "ex['RFSTDTC'] = ex['RFXSTDTC']\n",
    "ex['RFXENDTC'] = ex['RFXSTDTC']\n",
    "ex['RFENDTC'] = ex['RFXSTDTC']\n",
    "ex = ex[['USUBJID', 'RFXSTDTC', 'RFSTDTC', 'RFXENDTC', 'RFENDTC']].drop_duplicates()\n"
   ]
  },
  {
   "cell_type": "code",
   "execution_count": 22,
   "id": "6afb31d0",
   "metadata": {},
   "outputs": [],
   "source": [
    "\n",
    "# === Treatment Assignment ===\n",
    "trt = raw_trt.copy()\n",
    "trt['STUDYID'] = 'AAA-2022'\n",
    "trt['DOMAIN'] = 'DM'\n",
    "trt['SITEID'] = trt['USUBJID'].str[11:14]\n",
    "trt['SUBJID'] = trt['USUBJID'].str[14:]\n",
    "trt['USUBJID'] = trt['STUDYID'] + '-' + trt['SITEID'] + '-' + trt['SUBJID']\n",
    "\n",
    "trt['ARMCD'] = trt['trtcd'].str.upper()\n",
    "trt['ARM'] = trt['trtcd'].str.upper()\n",
    "trt['ACTARMCD'] = trt['trtcd'].str.upper()\n",
    "trt['ACTARM'] = trt['trtcd'].str.upper()\n",
    "trt = trt[['USUBJID', 'ARMCD', 'ARM', 'ACTARMCD', 'ACTARM']].drop_duplicates()\n"
   ]
  },
  {
   "cell_type": "code",
   "execution_count": 28,
   "id": "de1a7bb5",
   "metadata": {},
   "outputs": [],
   "source": [
    "\n",
    "# === Screen Failure (SCF) ===\n",
    "scf = raw_scf.copy()\n",
    "scf['STUDYID'] = 'AAA-2022'\n",
    "scf['DOMAIN'] = 'DM'\n",
    "scf['SITENUM'] = scf['SITENUM'].astype(str)\n",
    "scf['SITEID'] = scf['SITENUM'].str[0:3]  # Assuming SITEID is the first three characters of SITENUM\n",
    "scf['SUBJID'] = scf['SUBNUM'].str[3:]\n",
    "scf['USUBJID'] = scf['STUDYID'] + '-' + scf['SITEID'].astype(str) + '-' + scf['SUBJID']\n",
    "\n",
    "scf.loc[scf['STATUSID'] == 15, 'ARMNRS'] = 'SCREEN FAILURE'\n",
    "scf.loc[scf['STATUSID'] == 15, 'ACTARMUD'] = 'SCREEN FAILURE'\n",
    "scf = scf[['USUBJID', 'ARMNRS', 'ACTARMUD']].drop_duplicates()\n"
   ]
  },
  {
   "cell_type": "code",
   "execution_count": 29,
   "id": "f6caa322",
   "metadata": {},
   "outputs": [],
   "source": [
    "\n",
    "# === Merge All ===\n",
    "final = dm1.merge(ic, on='USUBJID', how='left') \\\n",
    "           .merge(ds, on='USUBJID', how='left') \\\n",
    "           .merge(ex, on='USUBJID', how='left') \\\n",
    "           .merge(trt, on='USUBJID', how='left') \\\n",
    "           .merge(scf, on='USUBJID', how='left')\n",
    "\n",
    "final['COUNTRY'] = 'USA'\n"
   ]
  },
  {
   "cell_type": "code",
   "execution_count": 30,
   "id": "1cf8290e",
   "metadata": {},
   "outputs": [],
   "source": [
    "\n",
    "# === Column Order ===\n",
    "columns_order = [\n",
    "    'STUDYID', 'DOMAIN', 'USUBJID', 'SUBJID', 'RFSTDTC', 'RFENDTC',\n",
    "    'RFXSTDTC', 'RFXENDTC', 'RFICDTC', 'RFPENDTC', 'DTHDTC', 'DTHFL',\n",
    "    'SITEID', 'BRTHDTC', 'AGE', 'AGEU', 'SEX', 'RACE', 'ETHNIC',\n",
    "    'ARMCD', 'ARM', 'ACTARMCD', 'ACTARM', 'ARMNRS', 'ACTARMUD', 'COUNTRY'\n",
    "]\n",
    "final = final[columns_order]\n"
   ]
  },
  {
   "cell_type": "code",
   "execution_count": 32,
   "id": "e3c832d0",
   "metadata": {},
   "outputs": [],
   "source": [
    "column_labels = {\n",
    "'STUDYID': \"Study Identifier\",\n",
    "'DOMAIN': \"Domain Abbreviation\",\n",
    "'USUBJID': \"Unique Subject Identifier\",\n",
    "'SUBJID': \"Subject Identifier for the Study\",\n",
    "'SITEID': \"Study Site Identifier\",\n",
    "'RFSTDTC': \"Subject Reference Start Date/Time\",\n",
    "'RFENDTC': \"Subject Reference End Date/Time\",\n",
    "'RFXSTDTC': \"Date/Time of First Study Treatment\",\n",
    "'RFXENDTC': \"Date/Time of Last Study Treatment\",\n",
    "'RFICDTC': \"Date/Time of Informed Consent\",\n",
    "'RFPENDTC': \"Date/Time of End of Participation\",\n",
    "'DTHDTC': \"Date/Time of Death\",\n",
    "'DTHFL': \"Subject Death Flag\",\n",
    "'BRTHDTC': \"Date/Time of Birth\",\n",
    "'AGE': \"Age\",\n",
    "'AGEU': \"Age Units\",\n",
    "'SEX': \"Sex\",\n",
    "'RACE': \"Race\",\n",
    "'ETHNIC': \"Ethnicity\",\n",
    "'ARMCD': \"Planned Arm Code\",\n",
    "'ARM': \"Description of Planned Arm\",\n",
    "'ACTARMCD': \"Actual Arm Code\",\n",
    "'ACTARM': \"Description of Actual Arm\",\n",
    "'ARMNRS': \"Reason Arm and/or Actual Arm is Null\",\n",
    "'ACTARMUD': \"Description of Unplanned Actual Arm\",\n",
    "'COUNTRY': \"Country\",\n",
    "}\n"
   ]
  },
  {
   "cell_type": "code",
   "execution_count": 33,
   "id": "82a1f5c3",
   "metadata": {},
   "outputs": [],
   "source": [
    "final.attrs['column_labels'] = column_labels"
   ]
  },
  {
   "cell_type": "code",
   "execution_count": 32,
   "id": "cd9b752c",
   "metadata": {},
   "outputs": [
    {
     "name": "stdout",
     "output_type": "stream",
     "text": [
      "STUDYID: Study Identifier\n",
      "DOMAIN: Domain Abbreviation\n",
      "USUBJID: Unique Subject Identifier\n",
      "SUBJID: Subject Identifier for the Study\n",
      "RFSTDTC: Subject Reference Start Date/Time\n",
      "RFENDTC: Subject Reference End Date/Time\n",
      "RFXSTDTC: Date/Time of First Study Treatment\n",
      "RFXENDTC: Date/Time of Last Study Treatment\n",
      "RFICDTC: Date/Time of Informed Consent\n",
      "RFPENDTC: Date/Time of End of Participation\n",
      "DTHDTC: Date/Time of Death\n",
      "DTHFL: Subject Death Flag\n",
      "SITEID: Study Site Identifier\n",
      "BRTHDTC: Date/Time of Birth\n",
      "AGE: Age\n",
      "AGEU: Age Units\n",
      "SEX: Sex\n",
      "RACE: Race\n",
      "ETHNIC: Ethnicity\n",
      "ARMCD: Planned Arm Code\n",
      "ARM: Description of Planned Arm\n",
      "ACTARMCD: Actual Arm Code\n",
      "ACTARM: Description of Actual Arm\n",
      "ARMNRS: Reason Arm and/or Actual Arm is Null\n",
      "ACTARMUD: Description of Unplanned Actual Arm\n",
      "COUNTRY: Country\n"
     ]
    }
   ],
   "source": [
    "for col in final.columns:\n",
    "    label = final.attrs.get('column_labels', {}).get(col, '')\n",
    "    print(f\"{col}: {label}\")"
   ]
  },
  {
   "cell_type": "code",
   "execution_count": 34,
   "id": "61d95cd1",
   "metadata": {},
   "outputs": [
    {
     "name": "stdout",
     "output_type": "stream",
     "text": [
      "DM dataset created successfully with 384 subjects and 26 variables.\n",
      "Dataset saved to: E:/Python Clinical Course/SDTM/SDTM CSV/DM.csv\n",
      "\n",
      "Dataset Info:\n",
      "Shape: (384, 26)\n",
      "Columns: ['STUDYID', 'DOMAIN', 'USUBJID', 'SUBJID', 'RFSTDTC', 'RFENDTC', 'RFXSTDTC', 'RFXENDTC', 'RFICDTC', 'RFPENDTC', 'DTHDTC', 'DTHFL', 'SITEID', 'BRTHDTC', 'AGE', 'AGEU', 'SEX', 'RACE', 'ETHNIC', 'ARMCD', 'ARM', 'ACTARMCD', 'ACTARM', 'ARMNRS', 'ACTARMUD', 'COUNTRY']\n"
     ]
    }
   ],
   "source": [
    "#  Save the final dataset\n",
    "output = \"E:/Python Clinical Course/SDTM/SDTM CSV\"\n",
    "output_path = f\"{output}/DM.csv\"\n",
    "final.to_csv(output_path, index=False)\n",
    "\n",
    "print(f\"DM dataset created successfully with {len(final)} subjects and {len(final.columns)} variables.\")\n",
    "print(f\"Dataset saved to: {output_path}\")\n",
    "\n",
    "# Display basic info about the dataset\n",
    "print(\"\\nDataset Info:\")\n",
    "print(f\"Shape: {final.shape}\")\n",
    "print(f\"Columns: {list(final.columns)}\")"
   ]
  }
 ],
 "metadata": {
  "kernelspec": {
   "display_name": "Python 3",
   "language": "python",
   "name": "python3"
  },
  "language_info": {
   "codemirror_mode": {
    "name": "ipython",
    "version": 3
   },
   "file_extension": ".py",
   "mimetype": "text/x-python",
   "name": "python",
   "nbconvert_exporter": "python",
   "pygments_lexer": "ipython3",
   "version": "3.13.4"
  }
 },
 "nbformat": 4,
 "nbformat_minor": 5
}
